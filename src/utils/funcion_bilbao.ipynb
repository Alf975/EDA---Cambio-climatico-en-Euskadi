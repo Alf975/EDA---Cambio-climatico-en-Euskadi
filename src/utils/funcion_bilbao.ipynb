{
 "cells": [
  {
   "cell_type": "code",
   "execution_count": 1,
   "metadata": {},
   "outputs": [],
   "source": [
    "import requests\n",
    "import pandas as pd\n",
    "import os\n",
    "\n",
    "# Datos tomados de estación 1082 - Bilbao Aeropuerto"
   ]
  },
  {
   "cell_type": "code",
   "execution_count": 27,
   "metadata": {},
   "outputs": [],
   "source": [
    "#Función para hacer dataframes\n",
    "direccion=\"https://opendata.aemet.es/opendata/sh/c834d5a3\"\n",
    "\n",
    "def hacer_dataframe(info):\n",
    "        response = requests.get(info)\n",
    "        data = response.json()\n",
    "        df_inicial = pd.DataFrame(data)\n",
    "        df_filtrado = pd.DataFrame(df_inicial[[\"fecha\", \"tm_mes\", \"tm_max\", \"tm_min\", \"ta_max\", \"ta_min\", \"ti_max\", \"ts_min\", \"p_mes\",\"np_300\", \"nt_30\", \"inso\"]])\n",
    "        return df_filtrado\n",
    "\n",
    "df_1970 = pd.DataFrame(hacer_dataframe(direccion))\n",
    "\n",
    "df_1970.to_csv('data/Datos_Aemet/bilbao_csv/datos1970.csv', index=False)\n",
    "\n",
    "\n"
   ]
  },
  {
   "cell_type": "code",
   "execution_count": 30,
   "metadata": {},
   "outputs": [],
   "source": [
    "#Función para hacer dataframes\n",
    "direccion=\"https://opendata.aemet.es/opendata/sh/18423aac\"\n",
    "\n",
    "def hacer_dataframe(info):\n",
    "        response = requests.get(info)\n",
    "        data = response.json()\n",
    "        df_inicial = pd.DataFrame(data)\n",
    "        df_filtrado = pd.DataFrame(df_inicial[[\"fecha\", \"tm_mes\", \"tm_max\", \"tm_min\", \"ta_max\", \"ta_min\", \"ti_max\", \"ts_min\", \"p_mes\",\"np_300\", \"nt_30\", \"inso\"]])\n",
    "        return df_filtrado\n",
    "\n",
    "df_1973 = pd.DataFrame(hacer_dataframe(direccion))\n",
    "\n",
    "df_1973.to_csv('data/Datos_Aemet/bilbao_csv/datos1973.csv', index=False)\n",
    "\n"
   ]
  },
  {
   "cell_type": "code",
   "execution_count": 31,
   "metadata": {},
   "outputs": [],
   "source": [
    "#Función para hacer dataframes\n",
    "direccion=\"https://opendata.aemet.es/opendata/sh/29ef0d58\"\n",
    "\n",
    "def hacer_dataframe(info):\n",
    "        response = requests.get(info)\n",
    "        data = response.json()\n",
    "        df_inicial = pd.DataFrame(data)\n",
    "        df_filtrado = pd.DataFrame(df_inicial[[\"fecha\", \"tm_mes\", \"tm_max\", \"tm_min\", \"ta_max\", \"ta_min\", \"ti_max\", \"ts_min\", \"p_mes\",\"np_300\", \"nt_30\", \"inso\"]])\n",
    "        return df_filtrado\n",
    "\n",
    "df_1976 = pd.DataFrame(hacer_dataframe(direccion))\n",
    "\n",
    "df_1976.to_csv('data/Datos_Aemet/bilbao_csv/datos1976.csv', index=False)\n",
    "\n"
   ]
  },
  {
   "cell_type": "code",
   "execution_count": 32,
   "metadata": {},
   "outputs": [],
   "source": [
    "#Función para hacer dataframes\n",
    "direccion=\"https://opendata.aemet.es/opendata/sh/03222ccf\"\n",
    "\n",
    "def hacer_dataframe(info):\n",
    "        response = requests.get(info)\n",
    "        data = response.json()\n",
    "        df_inicial = pd.DataFrame(data)\n",
    "        df_filtrado = pd.DataFrame(df_inicial[[\"fecha\", \"tm_mes\", \"tm_max\", \"tm_min\", \"ta_max\", \"ta_min\", \"ti_max\", \"ts_min\", \"p_mes\",\"np_300\", \"nt_30\", \"inso\"]])\n",
    "        return df_filtrado\n",
    "\n",
    "df_1979 = pd.DataFrame(hacer_dataframe(direccion))\n",
    "\n",
    "df_1979.to_csv('data/Datos_Aemet/bilbao_csv/datos1979.csv', index=False)\n",
    "\n"
   ]
  },
  {
   "cell_type": "code",
   "execution_count": 33,
   "metadata": {},
   "outputs": [],
   "source": [
    "#Función para hacer dataframes\n",
    "direccion= \"https://opendata.aemet.es/opendata/sh/f5370e2c\"\n",
    "\n",
    "def hacer_dataframe(info):\n",
    "        response = requests.get(info)\n",
    "        data = response.json()\n",
    "        df_inicial = pd.DataFrame(data)\n",
    "        df_filtrado = pd.DataFrame(df_inicial[[\"fecha\", \"tm_mes\", \"tm_max\", \"tm_min\", \"ta_max\", \"ta_min\", \"ti_max\", \"ts_min\", \"p_mes\",\"np_300\", \"nt_30\", \"inso\"]])\n",
    "        return df_filtrado\n",
    "\n",
    "df_1982 = pd.DataFrame(hacer_dataframe(direccion))\n",
    "\n",
    "df_1982.to_csv('data/Datos_Aemet/bilbao_csv/datos1982.csv', index=False)\n",
    "\n"
   ]
  },
  {
   "cell_type": "code",
   "execution_count": 34,
   "metadata": {},
   "outputs": [],
   "source": [
    "#Función para hacer dataframes\n",
    "direccion=\"https://opendata.aemet.es/opendata/sh/0a512794\"\n",
    "\n",
    "def hacer_dataframe(info):\n",
    "        response = requests.get(info)\n",
    "        data = response.json()\n",
    "        df_inicial = pd.DataFrame(data)\n",
    "        df_filtrado = pd.DataFrame(df_inicial[[\"fecha\", \"tm_mes\", \"tm_max\", \"tm_min\", \"ta_max\", \"ta_min\", \"ti_max\", \"ts_min\", \"p_mes\",\"np_300\", \"nt_30\", \"inso\"]])\n",
    "        return df_filtrado\n",
    "\n",
    "df_1986 = pd.DataFrame(hacer_dataframe(direccion))\n",
    "\n",
    "df_1986.to_csv('data/Datos_Aemet/bilbao_csv/datos1986.csv', index=False)\n",
    "\n"
   ]
  },
  {
   "cell_type": "code",
   "execution_count": 35,
   "metadata": {},
   "outputs": [],
   "source": [
    "#Función para hacer dataframes\n",
    "direccion=\"https://opendata.aemet.es/opendata/sh/482d0873\"\n",
    "\n",
    "def hacer_dataframe(info):\n",
    "        response = requests.get(info)\n",
    "        data = response.json()\n",
    "        df_inicial = pd.DataFrame(data)\n",
    "        df_filtrado = pd.DataFrame(df_inicial[[\"fecha\", \"tm_mes\", \"tm_max\", \"tm_min\", \"ta_max\", \"ta_min\", \"ti_max\", \"ts_min\", \"p_mes\",\"np_300\", \"nt_30\", \"inso\"]])\n",
    "        return df_filtrado\n",
    "\n",
    "df_1988 = pd.DataFrame(hacer_dataframe(direccion))\n",
    "\n",
    "df_1988.to_csv('data/Datos_Aemet/bilbao_csv/datos1988.csv', index=False)\n",
    "\n"
   ]
  },
  {
   "cell_type": "code",
   "execution_count": 36,
   "metadata": {},
   "outputs": [],
   "source": [
    "#Función para hacer dataframes\n",
    "direccion=\"https://opendata.aemet.es/opendata/sh/eb203a3e\"\n",
    "\n",
    "def hacer_dataframe(info):\n",
    "        response = requests.get(info)\n",
    "        data = response.json()\n",
    "        df_inicial = pd.DataFrame(data)\n",
    "        df_filtrado = pd.DataFrame(df_inicial[[\"fecha\", \"tm_mes\", \"tm_max\", \"tm_min\", \"ta_max\", \"ta_min\", \"ti_max\", \"ts_min\", \"p_mes\",\"np_300\", \"nt_30\", \"inso\"]])\n",
    "        return df_filtrado\n",
    "\n",
    "df_1991 = pd.DataFrame(hacer_dataframe(direccion))\n",
    "\n",
    "df_1991.to_csv('data/Datos_Aemet/bilbao_csv/datos1991.csv', index=False)\n"
   ]
  },
  {
   "cell_type": "code",
   "execution_count": 2,
   "metadata": {},
   "outputs": [],
   "source": [
    "#Función para hacer dataframes\n",
    "direccion=\"https://opendata.aemet.es/opendata/sh/2da5fc9a\"\n",
    "\n",
    "def hacer_dataframe(info):\n",
    "        response = requests.get(info)\n",
    "        data = response.json()\n",
    "        df_inicial = pd.DataFrame(data)\n",
    "        df_filtrado = pd.DataFrame(df_inicial[[\"fecha\", \"tm_mes\", \"tm_max\", \"tm_min\", \"ta_max\", \"ta_min\", \"ti_max\", \"ts_min\", \"p_mes\",\"np_300\", \"nt_30\", \"inso\"]])\n",
    "        return df_filtrado\n",
    "\n",
    "df_1994 = pd.DataFrame(hacer_dataframe(direccion))\n",
    "\n",
    "df_1994.to_csv('data/Datos_Aemet/bilbao_csv/datos1994.csv', index=False)\n",
    "\n"
   ]
  },
  {
   "cell_type": "code",
   "execution_count": 3,
   "metadata": {},
   "outputs": [],
   "source": [
    "#Función para hacer dataframes\n",
    "direccion=\"https://opendata.aemet.es/opendata/sh/a9d22ea8\"\n",
    "\n",
    "def hacer_dataframe(info):\n",
    "        response = requests.get(info)\n",
    "        data = response.json()\n",
    "        df_inicial = pd.DataFrame(data)\n",
    "        df_filtrado = pd.DataFrame(df_inicial[[\"fecha\", \"tm_mes\", \"tm_max\", \"tm_min\", \"ta_max\", \"ta_min\", \"ti_max\", \"ts_min\", \"p_mes\",\"np_300\", \"nt_30\", \"inso\"]])\n",
    "        return df_filtrado\n",
    "\n",
    "df_1997 = pd.DataFrame(hacer_dataframe(direccion))\n",
    "\n",
    "df_1997.to_csv('data/Datos_Aemet/bilbao_csv/datos1997.csv', index=False)"
   ]
  },
  {
   "cell_type": "code",
   "execution_count": 39,
   "metadata": {},
   "outputs": [],
   "source": [
    "#Función para hacer dataframes\n",
    "direccion=\"https://opendata.aemet.es/opendata/sh/6ad854fe\"\n",
    "\n",
    "def hacer_dataframe(info):\n",
    "        response = requests.get(info)\n",
    "        data = response.json()\n",
    "        df_inicial = pd.DataFrame(data)\n",
    "        df_filtrado = pd.DataFrame(df_inicial[[\"fecha\", \"tm_mes\", \"tm_max\", \"tm_min\", \"ta_max\", \"ta_min\", \"ti_max\", \"ts_min\", \"p_mes\",\"np_300\", \"nt_30\", \"inso\"]])\n",
    "        return df_filtrado\n",
    "\n",
    "df_2000 = pd.DataFrame(hacer_dataframe(direccion))\n",
    "\n",
    "df_2000.to_csv('data/Datos_Aemet/bilbao_csv/datos2000.csv', index=False)"
   ]
  },
  {
   "cell_type": "code",
   "execution_count": 40,
   "metadata": {},
   "outputs": [],
   "source": [
    "#Función para hacer dataframes\n",
    "direccion=\"https://opendata.aemet.es/opendata/sh/0c59029b\"\n",
    "\n",
    "def hacer_dataframe(info):\n",
    "        response = requests.get(info)\n",
    "        data = response.json()\n",
    "        df_inicial = pd.DataFrame(data)\n",
    "        df_filtrado = pd.DataFrame(df_inicial[[\"fecha\", \"tm_mes\", \"tm_max\", \"tm_min\", \"ta_max\", \"ta_min\", \"ti_max\", \"ts_min\", \"p_mes\",\"np_300\", \"nt_30\", \"inso\"]])\n",
    "        return df_filtrado\n",
    "\n",
    "df_2003 = pd.DataFrame(hacer_dataframe(direccion))\n",
    "\n",
    "df_2003.to_csv('data/Datos_Aemet/bilbao_csv/datos2003.csv', index=False)"
   ]
  },
  {
   "cell_type": "code",
   "execution_count": 41,
   "metadata": {},
   "outputs": [],
   "source": [
    "#Función para hacer dataframes\n",
    "direccion=\"https://opendata.aemet.es/opendata/sh/4831eb68\"\n",
    "\n",
    "def hacer_dataframe(info):\n",
    "        response = requests.get(info)\n",
    "        data = response.json()\n",
    "        df_inicial = pd.DataFrame(data)\n",
    "        df_filtrado = pd.DataFrame(df_inicial[[\"fecha\", \"tm_mes\", \"tm_max\", \"tm_min\", \"ta_max\", \"ta_min\", \"ti_max\", \"ts_min\", \"p_mes\",\"np_300\", \"nt_30\", \"inso\"]])\n",
    "        return df_filtrado\n",
    "\n",
    "df_2006 = pd.DataFrame(hacer_dataframe(direccion))\n",
    "\n",
    "df_2006.to_csv('data/Datos_Aemet/bilbao_csv/datos2006.csv', index=False)"
   ]
  },
  {
   "cell_type": "code",
   "execution_count": 42,
   "metadata": {},
   "outputs": [],
   "source": [
    "#Función para hacer dataframes\n",
    "direccion=\"https://opendata.aemet.es/opendata/sh/180fe012\"\n",
    "\n",
    "def hacer_dataframe(info):\n",
    "        response = requests.get(info)\n",
    "        data = response.json()\n",
    "        df_inicial = pd.DataFrame(data)\n",
    "        df_filtrado = pd.DataFrame(df_inicial[[\"fecha\", \"tm_mes\", \"tm_max\", \"tm_min\", \"ta_max\", \"ta_min\", \"ti_max\", \"ts_min\", \"p_mes\",\"np_300\", \"nt_30\", \"inso\"]])\n",
    "        return df_filtrado\n",
    "\n",
    "df_2009 = pd.DataFrame(hacer_dataframe(direccion))\n",
    "\n",
    "df_2009.to_csv('data/Datos_Aemet/bilbao_csv/datos2009.csv', index=False)"
   ]
  },
  {
   "cell_type": "code",
   "execution_count": 43,
   "metadata": {},
   "outputs": [],
   "source": [
    "#Función para hacer dataframes\n",
    "direccion=\"https://opendata.aemet.es/opendata/sh/3399e65b\"\n",
    "\n",
    "def hacer_dataframe(info):\n",
    "        response = requests.get(info)\n",
    "        data = response.json()\n",
    "        df_inicial = pd.DataFrame(data)\n",
    "        df_filtrado = pd.DataFrame(df_inicial[[\"fecha\", \"tm_mes\", \"tm_max\", \"tm_min\", \"ta_max\", \"ta_min\", \"ti_max\", \"ts_min\", \"p_mes\",\"np_300\", \"nt_30\", \"inso\"]])\n",
    "        return df_filtrado\n",
    "\n",
    "df_2012 = pd.DataFrame(hacer_dataframe(direccion))\n",
    "\n",
    "df_2012.to_csv('data/Datos_Aemet/bilbao_csv/datos2012.csv', index=False)"
   ]
  },
  {
   "cell_type": "code",
   "execution_count": 44,
   "metadata": {},
   "outputs": [],
   "source": [
    "#Función para hacer dataframes\n",
    "direccion=\"https://opendata.aemet.es/opendata/sh/7974d052\"\n",
    "\n",
    "def hacer_dataframe(info):\n",
    "        response = requests.get(info)\n",
    "        data = response.json()\n",
    "        df_inicial = pd.DataFrame(data)\n",
    "        df_filtrado = pd.DataFrame(df_inicial[[\"fecha\", \"tm_mes\", \"tm_max\", \"tm_min\", \"ta_max\", \"ta_min\", \"ti_max\", \"ts_min\", \"p_mes\",\"np_300\", \"nt_30\", \"inso\"]])\n",
    "        return df_filtrado\n",
    "\n",
    "df_2015 = pd.DataFrame(hacer_dataframe(direccion))\n",
    "\n",
    "df_2015.to_csv('data/Datos_Aemet/bilbao_csv/datos2015.csv', index=False)"
   ]
  },
  {
   "cell_type": "code",
   "execution_count": 46,
   "metadata": {},
   "outputs": [],
   "source": [
    "#Función para hacer dataframes\n",
    "direccion=\"https://opendata.aemet.es/opendata/sh/f4c80938\"\n",
    "\n",
    "def hacer_dataframe(info):\n",
    "        response = requests.get(info)\n",
    "        data = response.json()\n",
    "        df_inicial = pd.DataFrame(data)\n",
    "        df_filtrado = pd.DataFrame(df_inicial[[\"fecha\", \"tm_mes\", \"tm_max\", \"tm_min\", \"ta_max\", \"ta_min\", \"ti_max\", \"ts_min\", \"p_mes\",\"np_300\", \"nt_30\", \"inso\"]])\n",
    "        return df_filtrado\n",
    "\n",
    "df_2018 = pd.DataFrame(hacer_dataframe(direccion))\n",
    "\n",
    "df_2018.to_csv('data/Datos_Aemet/bilbao_csv/datos2018.csv', index=False)"
   ]
  },
  {
   "cell_type": "code",
   "execution_count": 47,
   "metadata": {},
   "outputs": [],
   "source": [
    "#Función para hacer dataframes\n",
    "direccion=\"https://opendata.aemet.es/opendata/sh/217f873e\"\n",
    "\n",
    "def hacer_dataframe(info):\n",
    "        response = requests.get(info)\n",
    "        data = response.json()\n",
    "        df_inicial = pd.DataFrame(data)\n",
    "        df_filtrado = pd.DataFrame(df_inicial[[\"fecha\", \"tm_mes\", \"tm_max\", \"tm_min\", \"ta_max\", \"ta_min\", \"ti_max\", \"ts_min\", \"p_mes\",\"np_300\", \"nt_30\", \"inso\"]])\n",
    "        return df_filtrado\n",
    "\n",
    "df_2021 = pd.DataFrame(hacer_dataframe(direccion))\n",
    "\n",
    "df_2021.to_csv('data/Datos_Aemet/bilbao_csv/datos2021.csv', index=False)"
   ]
  },
  {
   "cell_type": "code",
   "execution_count": 48,
   "metadata": {},
   "outputs": [],
   "source": [
    "\n",
    "#Funcion para importar csv y concatenar dataframes.\n",
    "def importar_concatenar(path):\n",
    "    df_concatenado = pd.DataFrame()  # Inicializar DataFrame vacío\n",
    "    files = os.listdir(path)\n",
    "    for file in files:\n",
    "        file_path = os.path.join(path, file)\n",
    "        if os.path.isfile(file_path) and file.endswith('.csv'):\n",
    "            df = pd.read_csv(file_path)\n",
    "            df_concatenado = pd.concat([df_concatenado, df], ignore_index=True)\n",
    "    return df_concatenado\n",
    "\n",
    "folder_path = \"data/Datos_Aemet/bilbao_csv/\"\n",
    "df_final = importar_concatenar(folder_path)\n",
    "df_final\n",
    "df_final.to_csv('data/Datos_Aemet/bilbao_csv/datosbilbao.csv', index=False)"
   ]
  }
 ],
 "metadata": {
  "kernelspec": {
   "display_name": "Python 3",
   "language": "python",
   "name": "python3"
  },
  "language_info": {
   "codemirror_mode": {
    "name": "ipython",
    "version": 3
   },
   "file_extension": ".py",
   "mimetype": "text/x-python",
   "name": "python",
   "nbconvert_exporter": "python",
   "pygments_lexer": "ipython3",
   "version": "3.11.3"
  },
  "orig_nbformat": 4
 },
 "nbformat": 4,
 "nbformat_minor": 2
}
