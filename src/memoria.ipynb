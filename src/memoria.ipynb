{
 "cells": [
  {
   "attachments": {},
   "cell_type": "markdown",
   "metadata": {},
   "source": [
    "# EXPLORATORY DATA ANALYSIS - EDA"
   ]
  },
  {
   "attachments": {},
   "cell_type": "markdown",
   "metadata": {},
   "source": [
    "## Estudio sobre el cambio climático en Euskadi\n",
    "\n",
    "### Descripción\n",
    "\n",
    "Este estudio tiene como objetivo estudiar la evolución del cambio climático en Euskadi desde 1970, empleando las técnicas aprendidas en el módulo de Data Analysis. Para ello se van a considerar datos de temperatura y pluviometría extraídos de la API de [Aemet](https://opendata.aemet.es/centrodedescargas/inicio), correspondientes a estaciones metereológicas ubicadas en las tres capitales vascas: Bilbao, San Sebastian, y Vitoria. \n",
    "\n",
    "\n",
    "### Fases del estudio\n",
    "\n",
    "#### 1. Elección del tema\n",
    "\n",
    "El tema del estudio es el cambio climático, pero considerando un ámbito geográfico reducido, y centrándonos en nuestra comunidad autónoma. Me parece importante saber en qué situación nos encontramos actualmente, y poder saber con datos cómo está cambiando el clima en este proceso de calentamiento global.\n",
    "\n",
    "#### 2. Planteamiento de hipótesis\n",
    "\n",
    "Actualmente estamos sufriendo una alteración del clima a nivel mundial, debido al efecto invernadero producido por los gases resultantes de la actividad humana y de la generación de energía con combustibles fósiles. Este efecto invernadero produce un calentamiento global, que se puede cuantificar por medio de los datos de multitud de estaciones metereológicas repartidas por todo el mundo. \n",
    "Se ha estimado que este calentamiento no debe superar los 1.5ºC respecto los niveles preindustriales, ya que tendría muy graves consecuencias tanto para el medio ambiente, como para el ser humano. Todas las previsiones indican que esto ocurrirá a lo largo de este siglo, pero recientes estudios afirman que puede suceder en esta misma década.\n",
    "\n",
    "La primera hipótesis que se plantea es que, en el País Vasco, en 2023, ya se ha alcanzado el incremento de 1,5ºC respecto los niveles preindustriales.\n",
    "\n",
    "La segunda hipótesis es que ha aumentado la frecuencia de los fenómenos metereológicos extremos. Estos fenómenos se valoran en el estudio considerando la frecuencia de las precipitaciones superiores a 30 l/m2, y de las temperaturas superiores a 30ºC.\n",
    "\n",
    "\n",
    "#### 2. Búsqueda de datos\n",
    "\n",
    "Aunque hay multitud de sitios web que proporcionan datos metereológicos, el que ofrece datos de mayor calidad, y en la cantidad necesaria para hacer un estudio fiable, es [Aemet](https://opendata.aemet.es/centrodedescargas/inicio). Se dispone de un histórico de datos metereológicos para las tres capitales vascas, desde 1970 hasta 2022. \n",
    "\n",
    "\n",
    "#### 3. Preprocesado de los datos\n",
    "\n",
    "Una vez descargados los datos, han sido agrupados en tablas para su tratamiento. Afortunadamente había muy pocos elementos nulos, que fueron eliminados sin alterar la calidad del resto de los datos. \n",
    "\n",
    "#### 4. Análisis de los datos\n",
    "\n",
    "El análisis ha consistido en:\n",
    "* Determinación de valores estadísticos con los valores medios anuales\n",
    "* Evolución de los valores de temperatura y precipitaciones con el tiempo\n",
    "* Cálculo del calentamiento climático producido desde 1970 hasta nuestros días\n",
    "* Contraste de los resultados obtenidos con la hipótesis planteada\n",
    "\n",
    "Las tecnologías empleadas han sido:\n",
    "- Procesado de los datos: [Python](https://www.python.org/)\n",
    "- Herramientas de visualización: [Matplotlib](https://matplotlib.org/), [Seaborn](https://seaborn.pydata.org/) y [Plotly](https://plotly.com/)\n",
    "- Exposición de resultados: [Canva](https://www.canva.com/)\n",
    "\n",
    "\n",
    "\n",
    "\n",
    "\n",
    "\n",
    "\n",
    "\n",
    "\n",
    "\n",
    "\n",
    "\n",
    "\n",
    "\n",
    "\n"
   ]
  }
 ],
 "metadata": {
  "language_info": {
   "name": "python"
  },
  "orig_nbformat": 4
 },
 "nbformat": 4,
 "nbformat_minor": 2
}
