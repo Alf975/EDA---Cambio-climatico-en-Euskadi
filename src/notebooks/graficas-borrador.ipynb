{
 "cells": [
  {
   "cell_type": "code",
   "execution_count": 9,
   "metadata": {},
   "outputs": [
    {
     "data": {
      "text/html": [
       "        <script type=\"text/javascript\">\n",
       "        window.PlotlyConfig = {MathJaxConfig: 'local'};\n",
       "        if (window.MathJax && window.MathJax.Hub && window.MathJax.Hub.Config) {window.MathJax.Hub.Config({SVG: {font: \"STIX-Web\"}});}\n",
       "        if (typeof require !== 'undefined') {\n",
       "        require.undef(\"plotly\");\n",
       "        requirejs.config({\n",
       "            paths: {\n",
       "                'plotly': ['https://cdn.plot.ly/plotly-2.24.1.min']\n",
       "            }\n",
       "        });\n",
       "        require(['plotly'], function(Plotly) {\n",
       "            window._Plotly = Plotly;\n",
       "        });\n",
       "        }\n",
       "        </script>\n",
       "        "
      ]
     },
     "metadata": {},
     "output_type": "display_data"
    }
   ],
   "source": [
    "# Importamos todos los paquetes que vayamos a necesitar\n",
    "\n",
    "import seaborn as sns\n",
    "import pandas as pd\n",
    "import numpy as np\n",
    "import matplotlib.pyplot as plt\n",
    "from plotly.offline import init_notebook_mode, iplot, plot\n",
    "import plotly as py\n",
    "init_notebook_mode(connected=True)\n",
    "import plotly.graph_objs as go\n",
    "import os\n",
    "import plotly.express as px\n",
    "\n",
    "# Algunas configuraciones de los paquetes\n",
    "pd.set_option(\"display.max_rows\", 500) # Cuántas filas de los DataFrames nos \"escupe\" pandas en el Notebook\n",
    "sns.set(color_codes=True)\n",
    "\n",
    "import warnings\n",
    "warnings.filterwarnings(\"ignore\")"
   ]
  },
  {
   "cell_type": "code",
   "execution_count": 11,
   "metadata": {},
   "outputs": [
    {
     "ename": "NameError",
     "evalue": "name 'bilbao_anualdf' is not defined",
     "output_type": "error",
     "traceback": [
      "\u001b[1;31m---------------------------------------------------------------------------\u001b[0m",
      "\u001b[1;31mNameError\u001b[0m                                 Traceback (most recent call last)",
      "Cell \u001b[1;32mIn[11], line 9\u001b[0m\n\u001b[0;32m      2\u001b[0m \u001b[39mimport\u001b[39;00m \u001b[39mplotly\u001b[39;00m\u001b[39m.\u001b[39;00m\u001b[39mgraph_objs\u001b[39;00m \u001b[39mas\u001b[39;00m \u001b[39mgo\u001b[39;00m\n\u001b[0;32m      5\u001b[0m \u001b[39m# Comparativa entre medias de máximas y mínimas. No aportan información\u001b[39;00m\n\u001b[0;32m      6\u001b[0m \n\u001b[0;32m      7\u001b[0m \u001b[39m# creating trace1\u001b[39;00m\n\u001b[0;32m      8\u001b[0m trace1 \u001b[39m=\u001b[39mgo\u001b[39m.\u001b[39mScatter(\n\u001b[1;32m----> 9\u001b[0m                     x \u001b[39m=\u001b[39m bilbao_anualdf[\u001b[39m\"\u001b[39m\u001b[39maño\u001b[39m\u001b[39m\"\u001b[39m],\n\u001b[0;32m     10\u001b[0m                     y \u001b[39m=\u001b[39m bilbao_anualdf[\u001b[39m\"\u001b[39m\u001b[39mtm_max\u001b[39m\u001b[39m\"\u001b[39m],\n\u001b[0;32m     11\u001b[0m                     mode \u001b[39m=\u001b[39m \u001b[39m\"\u001b[39m\u001b[39mmarkers\u001b[39m\u001b[39m\"\u001b[39m,\n\u001b[0;32m     12\u001b[0m                     name \u001b[39m=\u001b[39m \u001b[39m\"\u001b[39m\u001b[39mmax\u001b[39m\u001b[39m\"\u001b[39m,\n\u001b[0;32m     13\u001b[0m                     marker \u001b[39m=\u001b[39m \u001b[39mdict\u001b[39m(color \u001b[39m=\u001b[39m \u001b[39m'\u001b[39m\u001b[39mrgba(255, 128, 255, 0.8)\u001b[39m\u001b[39m'\u001b[39m),\n\u001b[0;32m     14\u001b[0m                     text\u001b[39m=\u001b[39m bilbao_anualdf[\u001b[39m\"\u001b[39m\u001b[39maño\u001b[39m\u001b[39m\"\u001b[39m])\n\u001b[0;32m     15\u001b[0m \u001b[39m# creating trace2\u001b[39;00m\n\u001b[0;32m     16\u001b[0m trace2 \u001b[39m=\u001b[39mgo\u001b[39m.\u001b[39mScatter(\n\u001b[0;32m     17\u001b[0m                     x \u001b[39m=\u001b[39m bilbao_anualdf[\u001b[39m\"\u001b[39m\u001b[39maño\u001b[39m\u001b[39m\"\u001b[39m],\n\u001b[0;32m     18\u001b[0m                     y \u001b[39m=\u001b[39m bilbao_anualdf[\u001b[39m\"\u001b[39m\u001b[39mtm_min\u001b[39m\u001b[39m\"\u001b[39m],\n\u001b[1;32m   (...)\u001b[0m\n\u001b[0;32m     21\u001b[0m                     marker \u001b[39m=\u001b[39m \u001b[39mdict\u001b[39m(color \u001b[39m=\u001b[39m \u001b[39m'\u001b[39m\u001b[39mrgba(255, 128, 2, 0.8)\u001b[39m\u001b[39m'\u001b[39m),\n\u001b[0;32m     22\u001b[0m                     text\u001b[39m=\u001b[39m bilbao_anualdf[\u001b[39m\"\u001b[39m\u001b[39maño\u001b[39m\u001b[39m\"\u001b[39m])\n",
      "\u001b[1;31mNameError\u001b[0m: name 'bilbao_anualdf' is not defined"
     ]
    }
   ],
   "source": [
    "# import graph objects as go\n",
    "import plotly.graph_objs as go\n",
    "\n",
    "\n",
    "# Comparativa entre medias de máximas y mínimas. No aportan información\n",
    "\n",
    "# creating trace1\n",
    "trace1 =go.Scatter(\n",
    "                    x = bilbao_anualdf[\"año\"],\n",
    "                    y = bilbao_anualdf[\"tm_max\"],\n",
    "                    mode = \"markers\",\n",
    "                    name = \"max\",\n",
    "                    marker = dict(color = 'rgba(255, 128, 255, 0.8)'),\n",
    "                    text= bilbao_anualdf[\"año\"])\n",
    "# creating trace2\n",
    "trace2 =go.Scatter(\n",
    "                    x = bilbao_anualdf[\"año\"],\n",
    "                    y = bilbao_anualdf[\"tm_min\"],\n",
    "                    mode = \"markers\",\n",
    "                    name = \"min\",\n",
    "                    marker = dict(color = 'rgba(255, 128, 2, 0.8)'),\n",
    "                    text= bilbao_anualdf[\"año\"])\n",
    "\n",
    "trace3 =go.Scatter(\n",
    "                    x = bilbao_anualdf[\"año\"],\n",
    "                    y = bilbao_anualdf[\"tm_max\"]-bilbao_anualdf[\"tm_min\"],\n",
    "                    mode = \"markers\",\n",
    "                    name = \"diferencia\",\n",
    "                    marker = dict(color = 'green'),\n",
    "                    text= bilbao_anualdf[\"año\"])\n",
    "\n",
    "data = [trace1, trace2, trace3]\n",
    "\n",
    "\n",
    "\n",
    "layout = dict(title = 'Citation vs world rank of top 100 universities with 2014, 2015 and 2016 years',\n",
    "              xaxis= dict(title= 'World Rank'),\n",
    "              yaxis= dict(title= 'Citation')\n",
    "             )\n",
    "\n",
    "fig = dict(data = data, layout = layout)\n",
    "# fig = go.Figure(data = data, layout=layout)\n",
    "\n",
    "iplot(fig)"
   ]
  },
  {
   "cell_type": "code",
   "execution_count": 47,
   "metadata": {},
   "outputs": [],
   "source": [
    "bilbao_df = pd.read_csv(\"bilbao_final_sinull.csv\", sep=\",\")\n",
    "donosti_df = pd.read_csv(\"donosti_final_sinull.csv\", sep=\",\")\n",
    "vitoria_df=pd.read_csv(\"vitoria_final_sinull.csv\", sep=\",\")\n",
    "bilbao_anualdf = pd.read_csv(\"bilbao_anual_sinull2.csv\", sep=\",\")\n",
    "donosti_anualdf = pd.read_csv(\"donosti_anual_sinull2.csv\", sep=\",\")\n",
    "vitoria_anualdf=pd.read_csv(\"vitoria_anual_sinull2.csv\", sep=\",\")"
   ]
  },
  {
   "cell_type": "code",
   "execution_count": 48,
   "metadata": {},
   "outputs": [
    {
     "data": {
      "text/html": [
       "<div>\n",
       "<style scoped>\n",
       "    .dataframe tbody tr th:only-of-type {\n",
       "        vertical-align: middle;\n",
       "    }\n",
       "\n",
       "    .dataframe tbody tr th {\n",
       "        vertical-align: top;\n",
       "    }\n",
       "\n",
       "    .dataframe thead th {\n",
       "        text-align: right;\n",
       "    }\n",
       "</style>\n",
       "<table border=\"1\" class=\"dataframe\">\n",
       "  <thead>\n",
       "    <tr style=\"text-align: right;\">\n",
       "      <th></th>\n",
       "      <th>año</th>\n",
       "      <th>tm_mes</th>\n",
       "      <th>tm_max</th>\n",
       "      <th>tm_min</th>\n",
       "      <th>ta_max</th>\n",
       "      <th>ta_min</th>\n",
       "      <th>ti_max</th>\n",
       "      <th>ts_min</th>\n",
       "      <th>p_mes</th>\n",
       "      <th>np_300</th>\n",
       "      <th>nt_30</th>\n",
       "      <th>inso</th>\n",
       "    </tr>\n",
       "  </thead>\n",
       "  <tbody>\n",
       "    <tr>\n",
       "      <th>0</th>\n",
       "      <td>1970</td>\n",
       "      <td>13.1</td>\n",
       "      <td>16.1</td>\n",
       "      <td>10.1</td>\n",
       "      <td>34.6</td>\n",
       "      <td>-2.0</td>\n",
       "      <td>1.8</td>\n",
       "      <td>21.6</td>\n",
       "      <td>1441.5</td>\n",
       "      <td>9.0</td>\n",
       "      <td>5.0</td>\n",
       "      <td>4.4</td>\n",
       "    </tr>\n",
       "    <tr>\n",
       "      <th>1</th>\n",
       "      <td>1971</td>\n",
       "      <td>12.9</td>\n",
       "      <td>16.0</td>\n",
       "      <td>9.8</td>\n",
       "      <td>32.2</td>\n",
       "      <td>-5.5</td>\n",
       "      <td>1.0</td>\n",
       "      <td>23.0</td>\n",
       "      <td>1594.0</td>\n",
       "      <td>4.0</td>\n",
       "      <td>4.0</td>\n",
       "      <td>4.4</td>\n",
       "    </tr>\n",
       "    <tr>\n",
       "      <th>2</th>\n",
       "      <td>1972</td>\n",
       "      <td>12.3</td>\n",
       "      <td>15.4</td>\n",
       "      <td>9.2</td>\n",
       "      <td>32.2</td>\n",
       "      <td>-1.3</td>\n",
       "      <td>5.0</td>\n",
       "      <td>19.0</td>\n",
       "      <td>1366.8</td>\n",
       "      <td>6.0</td>\n",
       "      <td>2.0</td>\n",
       "      <td>4.4</td>\n",
       "    </tr>\n",
       "    <tr>\n",
       "      <th>3</th>\n",
       "      <td>1973</td>\n",
       "      <td>12.8</td>\n",
       "      <td>16.0</td>\n",
       "      <td>9.6</td>\n",
       "      <td>33.0</td>\n",
       "      <td>-6.7</td>\n",
       "      <td>2.0</td>\n",
       "      <td>22.0</td>\n",
       "      <td>1532.1</td>\n",
       "      <td>8.0</td>\n",
       "      <td>5.0</td>\n",
       "      <td>4.5</td>\n",
       "    </tr>\n",
       "    <tr>\n",
       "      <th>4</th>\n",
       "      <td>1974</td>\n",
       "      <td>12.5</td>\n",
       "      <td>15.7</td>\n",
       "      <td>9.3</td>\n",
       "      <td>36.4</td>\n",
       "      <td>0.0</td>\n",
       "      <td>5.3</td>\n",
       "      <td>21.8</td>\n",
       "      <td>1840.2</td>\n",
       "      <td>8.0</td>\n",
       "      <td>4.0</td>\n",
       "      <td>4.0</td>\n",
       "    </tr>\n",
       "    <tr>\n",
       "      <th>5</th>\n",
       "      <td>1975</td>\n",
       "      <td>12.7</td>\n",
       "      <td>15.7</td>\n",
       "      <td>9.8</td>\n",
       "      <td>38.0</td>\n",
       "      <td>-1.0</td>\n",
       "      <td>3.0</td>\n",
       "      <td>20.6</td>\n",
       "      <td>1363.6</td>\n",
       "      <td>7.0</td>\n",
       "      <td>5.0</td>\n",
       "      <td>4.3</td>\n",
       "    </tr>\n",
       "    <tr>\n",
       "      <th>6</th>\n",
       "      <td>1976</td>\n",
       "      <td>12.9</td>\n",
       "      <td>16.0</td>\n",
       "      <td>9.8</td>\n",
       "      <td>33.4</td>\n",
       "      <td>-2.2</td>\n",
       "      <td>1.6</td>\n",
       "      <td>21.2</td>\n",
       "      <td>1566.9</td>\n",
       "      <td>9.0</td>\n",
       "      <td>2.0</td>\n",
       "      <td>4.8</td>\n",
       "    </tr>\n",
       "    <tr>\n",
       "      <th>7</th>\n",
       "      <td>1977</td>\n",
       "      <td>12.8</td>\n",
       "      <td>15.8</td>\n",
       "      <td>9.7</td>\n",
       "      <td>31.0</td>\n",
       "      <td>-1.8</td>\n",
       "      <td>2.2</td>\n",
       "      <td>18.4</td>\n",
       "      <td>1678.3</td>\n",
       "      <td>11.0</td>\n",
       "      <td>1.0</td>\n",
       "      <td>4.1</td>\n",
       "    </tr>\n",
       "    <tr>\n",
       "      <th>8</th>\n",
       "      <td>1978</td>\n",
       "      <td>12.5</td>\n",
       "      <td>15.4</td>\n",
       "      <td>9.5</td>\n",
       "      <td>30.6</td>\n",
       "      <td>-1.0</td>\n",
       "      <td>2.6</td>\n",
       "      <td>20.4</td>\n",
       "      <td>1629.8</td>\n",
       "      <td>12.0</td>\n",
       "      <td>1.0</td>\n",
       "      <td>4.1</td>\n",
       "    </tr>\n",
       "    <tr>\n",
       "      <th>9</th>\n",
       "      <td>1979</td>\n",
       "      <td>12.7</td>\n",
       "      <td>15.6</td>\n",
       "      <td>9.7</td>\n",
       "      <td>30.0</td>\n",
       "      <td>-2.8</td>\n",
       "      <td>2.8</td>\n",
       "      <td>19.6</td>\n",
       "      <td>2206.3</td>\n",
       "      <td>17.0</td>\n",
       "      <td>1.0</td>\n",
       "      <td>0.0</td>\n",
       "    </tr>\n",
       "    <tr>\n",
       "      <th>10</th>\n",
       "      <td>1980</td>\n",
       "      <td>12.4</td>\n",
       "      <td>15.6</td>\n",
       "      <td>9.2</td>\n",
       "      <td>33.0</td>\n",
       "      <td>-4.6</td>\n",
       "      <td>-0.8</td>\n",
       "      <td>19.6</td>\n",
       "      <td>1718.7</td>\n",
       "      <td>12.0</td>\n",
       "      <td>4.0</td>\n",
       "      <td>3.8</td>\n",
       "    </tr>\n",
       "    <tr>\n",
       "      <th>11</th>\n",
       "      <td>1981</td>\n",
       "      <td>13.0</td>\n",
       "      <td>16.2</td>\n",
       "      <td>9.8</td>\n",
       "      <td>35.0</td>\n",
       "      <td>-1.8</td>\n",
       "      <td>1.2</td>\n",
       "      <td>21.0</td>\n",
       "      <td>1802.5</td>\n",
       "      <td>7.0</td>\n",
       "      <td>5.0</td>\n",
       "      <td>4.3</td>\n",
       "    </tr>\n",
       "    <tr>\n",
       "      <th>12</th>\n",
       "      <td>1982</td>\n",
       "      <td>13.5</td>\n",
       "      <td>16.4</td>\n",
       "      <td>10.5</td>\n",
       "      <td>37.6</td>\n",
       "      <td>0.4</td>\n",
       "      <td>5.6</td>\n",
       "      <td>21.8</td>\n",
       "      <td>1652.3</td>\n",
       "      <td>10.0</td>\n",
       "      <td>6.0</td>\n",
       "      <td>0.0</td>\n",
       "    </tr>\n",
       "    <tr>\n",
       "      <th>13</th>\n",
       "      <td>1983</td>\n",
       "      <td>13.6</td>\n",
       "      <td>16.7</td>\n",
       "      <td>10.6</td>\n",
       "      <td>31.4</td>\n",
       "      <td>-5.0</td>\n",
       "      <td>-0.2</td>\n",
       "      <td>25.2</td>\n",
       "      <td>1365.0</td>\n",
       "      <td>8.0</td>\n",
       "      <td>8.0</td>\n",
       "      <td>3.5</td>\n",
       "    </tr>\n",
       "    <tr>\n",
       "      <th>14</th>\n",
       "      <td>1984</td>\n",
       "      <td>12.5</td>\n",
       "      <td>15.4</td>\n",
       "      <td>9.6</td>\n",
       "      <td>33.2</td>\n",
       "      <td>-1.6</td>\n",
       "      <td>3.6</td>\n",
       "      <td>19.4</td>\n",
       "      <td>1764.8</td>\n",
       "      <td>11.0</td>\n",
       "      <td>6.0</td>\n",
       "      <td>3.8</td>\n",
       "    </tr>\n",
       "    <tr>\n",
       "      <th>15</th>\n",
       "      <td>1985</td>\n",
       "      <td>12.7</td>\n",
       "      <td>15.9</td>\n",
       "      <td>9.6</td>\n",
       "      <td>34.0</td>\n",
       "      <td>-10.0</td>\n",
       "      <td>-3.5</td>\n",
       "      <td>19.6</td>\n",
       "      <td>1352.8</td>\n",
       "      <td>7.0</td>\n",
       "      <td>6.0</td>\n",
       "      <td>3.9</td>\n",
       "    </tr>\n",
       "    <tr>\n",
       "      <th>16</th>\n",
       "      <td>1986</td>\n",
       "      <td>12.5</td>\n",
       "      <td>15.4</td>\n",
       "      <td>9.6</td>\n",
       "      <td>34.0</td>\n",
       "      <td>-5.8</td>\n",
       "      <td>0.0</td>\n",
       "      <td>20.0</td>\n",
       "      <td>1732.6</td>\n",
       "      <td>9.0</td>\n",
       "      <td>4.0</td>\n",
       "      <td>4.4</td>\n",
       "    </tr>\n",
       "    <tr>\n",
       "      <th>17</th>\n",
       "      <td>1987</td>\n",
       "      <td>13.3</td>\n",
       "      <td>16.3</td>\n",
       "      <td>10.3</td>\n",
       "      <td>35.0</td>\n",
       "      <td>-3.8</td>\n",
       "      <td>0.0</td>\n",
       "      <td>23.0</td>\n",
       "      <td>1409.6</td>\n",
       "      <td>8.0</td>\n",
       "      <td>8.0</td>\n",
       "      <td>4.6</td>\n",
       "    </tr>\n",
       "    <tr>\n",
       "      <th>18</th>\n",
       "      <td>1988</td>\n",
       "      <td>13.4</td>\n",
       "      <td>16.4</td>\n",
       "      <td>10.5</td>\n",
       "      <td>34.0</td>\n",
       "      <td>-3.4</td>\n",
       "      <td>2.6</td>\n",
       "      <td>23.6</td>\n",
       "      <td>1350.8</td>\n",
       "      <td>3.0</td>\n",
       "      <td>2.0</td>\n",
       "      <td>4.9</td>\n",
       "    </tr>\n",
       "    <tr>\n",
       "      <th>19</th>\n",
       "      <td>1989</td>\n",
       "      <td>14.6</td>\n",
       "      <td>17.6</td>\n",
       "      <td>11.6</td>\n",
       "      <td>35.4</td>\n",
       "      <td>-1.4</td>\n",
       "      <td>2.8</td>\n",
       "      <td>20.2</td>\n",
       "      <td>1088.7</td>\n",
       "      <td>6.0</td>\n",
       "      <td>3.0</td>\n",
       "      <td>6.1</td>\n",
       "    </tr>\n",
       "    <tr>\n",
       "      <th>20</th>\n",
       "      <td>1990</td>\n",
       "      <td>14.0</td>\n",
       "      <td>17.0</td>\n",
       "      <td>10.9</td>\n",
       "      <td>32.6</td>\n",
       "      <td>-1.4</td>\n",
       "      <td>1.8</td>\n",
       "      <td>21.6</td>\n",
       "      <td>1594.0</td>\n",
       "      <td>11.0</td>\n",
       "      <td>4.0</td>\n",
       "      <td>5.5</td>\n",
       "    </tr>\n",
       "    <tr>\n",
       "      <th>21</th>\n",
       "      <td>1991</td>\n",
       "      <td>12.9</td>\n",
       "      <td>15.7</td>\n",
       "      <td>10.0</td>\n",
       "      <td>35.8</td>\n",
       "      <td>-1.4</td>\n",
       "      <td>3.4</td>\n",
       "      <td>20.8</td>\n",
       "      <td>1358.1</td>\n",
       "      <td>7.0</td>\n",
       "      <td>4.0</td>\n",
       "      <td>4.8</td>\n",
       "    </tr>\n",
       "    <tr>\n",
       "      <th>22</th>\n",
       "      <td>1992</td>\n",
       "      <td>13.0</td>\n",
       "      <td>15.9</td>\n",
       "      <td>10.1</td>\n",
       "      <td>33.4</td>\n",
       "      <td>-3.0</td>\n",
       "      <td>3.0</td>\n",
       "      <td>21.6</td>\n",
       "      <td>1668.7</td>\n",
       "      <td>11.0</td>\n",
       "      <td>6.0</td>\n",
       "      <td>4.3</td>\n",
       "    </tr>\n",
       "    <tr>\n",
       "      <th>23</th>\n",
       "      <td>1993</td>\n",
       "      <td>13.2</td>\n",
       "      <td>16.0</td>\n",
       "      <td>10.3</td>\n",
       "      <td>34.2</td>\n",
       "      <td>-2.4</td>\n",
       "      <td>2.4</td>\n",
       "      <td>23.4</td>\n",
       "      <td>1364.1</td>\n",
       "      <td>10.0</td>\n",
       "      <td>4.0</td>\n",
       "      <td>4.9</td>\n",
       "    </tr>\n",
       "    <tr>\n",
       "      <th>24</th>\n",
       "      <td>1994</td>\n",
       "      <td>13.8</td>\n",
       "      <td>16.5</td>\n",
       "      <td>10.9</td>\n",
       "      <td>33.6</td>\n",
       "      <td>-2.6</td>\n",
       "      <td>3.2</td>\n",
       "      <td>20.2</td>\n",
       "      <td>1748.5</td>\n",
       "      <td>14.0</td>\n",
       "      <td>3.0</td>\n",
       "      <td>4.6</td>\n",
       "    </tr>\n",
       "    <tr>\n",
       "      <th>25</th>\n",
       "      <td>1995</td>\n",
       "      <td>14.0</td>\n",
       "      <td>16.9</td>\n",
       "      <td>11.0</td>\n",
       "      <td>36.2</td>\n",
       "      <td>-2.0</td>\n",
       "      <td>1.2</td>\n",
       "      <td>20.6</td>\n",
       "      <td>1311.6</td>\n",
       "      <td>6.0</td>\n",
       "      <td>3.0</td>\n",
       "      <td>5.4</td>\n",
       "    </tr>\n",
       "    <tr>\n",
       "      <th>26</th>\n",
       "      <td>1996</td>\n",
       "      <td>13.3</td>\n",
       "      <td>16.0</td>\n",
       "      <td>10.5</td>\n",
       "      <td>35.0</td>\n",
       "      <td>-3.2</td>\n",
       "      <td>2.0</td>\n",
       "      <td>20.4</td>\n",
       "      <td>1602.7</td>\n",
       "      <td>10.0</td>\n",
       "      <td>4.0</td>\n",
       "      <td>5.3</td>\n",
       "    </tr>\n",
       "    <tr>\n",
       "      <th>27</th>\n",
       "      <td>1997</td>\n",
       "      <td>14.6</td>\n",
       "      <td>17.6</td>\n",
       "      <td>11.6</td>\n",
       "      <td>30.6</td>\n",
       "      <td>-0.4</td>\n",
       "      <td>2.0</td>\n",
       "      <td>21.4</td>\n",
       "      <td>1733.5</td>\n",
       "      <td>14.0</td>\n",
       "      <td>2.0</td>\n",
       "      <td>5.4</td>\n",
       "    </tr>\n",
       "    <tr>\n",
       "      <th>28</th>\n",
       "      <td>1998</td>\n",
       "      <td>13.7</td>\n",
       "      <td>16.7</td>\n",
       "      <td>10.7</td>\n",
       "      <td>35.2</td>\n",
       "      <td>-1.8</td>\n",
       "      <td>4.6</td>\n",
       "      <td>21.2</td>\n",
       "      <td>1537.3</td>\n",
       "      <td>8.0</td>\n",
       "      <td>7.0</td>\n",
       "      <td>5.2</td>\n",
       "    </tr>\n",
       "    <tr>\n",
       "      <th>29</th>\n",
       "      <td>1999</td>\n",
       "      <td>13.6</td>\n",
       "      <td>16.5</td>\n",
       "      <td>10.7</td>\n",
       "      <td>32.0</td>\n",
       "      <td>-2.2</td>\n",
       "      <td>1.8</td>\n",
       "      <td>20.6</td>\n",
       "      <td>1428.3</td>\n",
       "      <td>6.0</td>\n",
       "      <td>3.0</td>\n",
       "      <td>4.7</td>\n",
       "    </tr>\n",
       "    <tr>\n",
       "      <th>30</th>\n",
       "      <td>2000</td>\n",
       "      <td>13.8</td>\n",
       "      <td>16.8</td>\n",
       "      <td>10.8</td>\n",
       "      <td>33.4</td>\n",
       "      <td>-1.6</td>\n",
       "      <td>3.0</td>\n",
       "      <td>20.4</td>\n",
       "      <td>1582.5</td>\n",
       "      <td>5.0</td>\n",
       "      <td>8.0</td>\n",
       "      <td>4.9</td>\n",
       "    </tr>\n",
       "    <tr>\n",
       "      <th>31</th>\n",
       "      <td>2001</td>\n",
       "      <td>13.7</td>\n",
       "      <td>16.7</td>\n",
       "      <td>10.8</td>\n",
       "      <td>31.2</td>\n",
       "      <td>-5.6</td>\n",
       "      <td>1.5</td>\n",
       "      <td>22.0</td>\n",
       "      <td>1058.2</td>\n",
       "      <td>2.0</td>\n",
       "      <td>5.0</td>\n",
       "      <td>5.1</td>\n",
       "    </tr>\n",
       "    <tr>\n",
       "      <th>32</th>\n",
       "      <td>2002</td>\n",
       "      <td>14.0</td>\n",
       "      <td>16.8</td>\n",
       "      <td>11.1</td>\n",
       "      <td>31.2</td>\n",
       "      <td>1.8</td>\n",
       "      <td>5.9</td>\n",
       "      <td>20.8</td>\n",
       "      <td>1676.9</td>\n",
       "      <td>13.0</td>\n",
       "      <td>2.0</td>\n",
       "      <td>4.8</td>\n",
       "    </tr>\n",
       "    <tr>\n",
       "      <th>33</th>\n",
       "      <td>2003</td>\n",
       "      <td>14.5</td>\n",
       "      <td>17.5</td>\n",
       "      <td>11.5</td>\n",
       "      <td>38.6</td>\n",
       "      <td>-4.0</td>\n",
       "      <td>1.7</td>\n",
       "      <td>23.0</td>\n",
       "      <td>1348.9</td>\n",
       "      <td>7.0</td>\n",
       "      <td>12.0</td>\n",
       "      <td>5.1</td>\n",
       "    </tr>\n",
       "    <tr>\n",
       "      <th>34</th>\n",
       "      <td>2004</td>\n",
       "      <td>13.6</td>\n",
       "      <td>16.4</td>\n",
       "      <td>10.7</td>\n",
       "      <td>34.2</td>\n",
       "      <td>-0.8</td>\n",
       "      <td>2.8</td>\n",
       "      <td>23.2</td>\n",
       "      <td>1431.9</td>\n",
       "      <td>6.0</td>\n",
       "      <td>7.0</td>\n",
       "      <td>5.1</td>\n",
       "    </tr>\n",
       "    <tr>\n",
       "      <th>35</th>\n",
       "      <td>2005</td>\n",
       "      <td>13.4</td>\n",
       "      <td>16.4</td>\n",
       "      <td>10.4</td>\n",
       "      <td>35.0</td>\n",
       "      <td>-4.7</td>\n",
       "      <td>0.6</td>\n",
       "      <td>20.4</td>\n",
       "      <td>1363.2</td>\n",
       "      <td>7.0</td>\n",
       "      <td>10.0</td>\n",
       "      <td>5.6</td>\n",
       "    </tr>\n",
       "    <tr>\n",
       "      <th>36</th>\n",
       "      <td>2006</td>\n",
       "      <td>14.4</td>\n",
       "      <td>17.4</td>\n",
       "      <td>11.4</td>\n",
       "      <td>36.0</td>\n",
       "      <td>-1.6</td>\n",
       "      <td>2.4</td>\n",
       "      <td>22.0</td>\n",
       "      <td>1248.9</td>\n",
       "      <td>11.0</td>\n",
       "      <td>7.0</td>\n",
       "      <td>5.2</td>\n",
       "    </tr>\n",
       "    <tr>\n",
       "      <th>37</th>\n",
       "      <td>2007</td>\n",
       "      <td>13.3</td>\n",
       "      <td>16.2</td>\n",
       "      <td>10.5</td>\n",
       "      <td>34.6</td>\n",
       "      <td>-3.2</td>\n",
       "      <td>0.6</td>\n",
       "      <td>23.9</td>\n",
       "      <td>1536.1</td>\n",
       "      <td>7.0</td>\n",
       "      <td>5.0</td>\n",
       "      <td>4.8</td>\n",
       "    </tr>\n",
       "    <tr>\n",
       "      <th>38</th>\n",
       "      <td>2008</td>\n",
       "      <td>13.4</td>\n",
       "      <td>16.4</td>\n",
       "      <td>10.4</td>\n",
       "      <td>32.8</td>\n",
       "      <td>0.4</td>\n",
       "      <td>4.7</td>\n",
       "      <td>19.1</td>\n",
       "      <td>1909.5</td>\n",
       "      <td>14.0</td>\n",
       "      <td>4.0</td>\n",
       "      <td>5.0</td>\n",
       "    </tr>\n",
       "    <tr>\n",
       "      <th>39</th>\n",
       "      <td>2009</td>\n",
       "      <td>13.5</td>\n",
       "      <td>16.5</td>\n",
       "      <td>10.6</td>\n",
       "      <td>35.6</td>\n",
       "      <td>-2.6</td>\n",
       "      <td>0.6</td>\n",
       "      <td>22.6</td>\n",
       "      <td>1700.9</td>\n",
       "      <td>10.0</td>\n",
       "      <td>5.0</td>\n",
       "      <td>5.0</td>\n",
       "    </tr>\n",
       "    <tr>\n",
       "      <th>40</th>\n",
       "      <td>2010</td>\n",
       "      <td>13.0</td>\n",
       "      <td>15.9</td>\n",
       "      <td>10.0</td>\n",
       "      <td>33.6</td>\n",
       "      <td>-3.7</td>\n",
       "      <td>0.5</td>\n",
       "      <td>21.4</td>\n",
       "      <td>1477.8</td>\n",
       "      <td>8.0</td>\n",
       "      <td>4.0</td>\n",
       "      <td>5.0</td>\n",
       "    </tr>\n",
       "    <tr>\n",
       "      <th>41</th>\n",
       "      <td>2011</td>\n",
       "      <td>14.5</td>\n",
       "      <td>17.4</td>\n",
       "      <td>11.6</td>\n",
       "      <td>37.2</td>\n",
       "      <td>-1.6</td>\n",
       "      <td>2.0</td>\n",
       "      <td>20.8</td>\n",
       "      <td>1400.9</td>\n",
       "      <td>10.0</td>\n",
       "      <td>7.0</td>\n",
       "      <td>5.3</td>\n",
       "    </tr>\n",
       "    <tr>\n",
       "      <th>42</th>\n",
       "      <td>2012</td>\n",
       "      <td>13.5</td>\n",
       "      <td>16.7</td>\n",
       "      <td>10.3</td>\n",
       "      <td>36.7</td>\n",
       "      <td>-5.3</td>\n",
       "      <td>0.2</td>\n",
       "      <td>20.6</td>\n",
       "      <td>1602.8</td>\n",
       "      <td>9.0</td>\n",
       "      <td>12.0</td>\n",
       "      <td>5.3</td>\n",
       "    </tr>\n",
       "    <tr>\n",
       "      <th>43</th>\n",
       "      <td>2013</td>\n",
       "      <td>13.3</td>\n",
       "      <td>16.2</td>\n",
       "      <td>10.4</td>\n",
       "      <td>36.4</td>\n",
       "      <td>-3.0</td>\n",
       "      <td>2.3</td>\n",
       "      <td>21.8</td>\n",
       "      <td>2145.1</td>\n",
       "      <td>9.0</td>\n",
       "      <td>3.0</td>\n",
       "      <td>4.9</td>\n",
       "    </tr>\n",
       "    <tr>\n",
       "      <th>44</th>\n",
       "      <td>2014</td>\n",
       "      <td>14.4</td>\n",
       "      <td>17.4</td>\n",
       "      <td>11.4</td>\n",
       "      <td>33.4</td>\n",
       "      <td>-0.8</td>\n",
       "      <td>3.0</td>\n",
       "      <td>19.0</td>\n",
       "      <td>1725.3</td>\n",
       "      <td>8.0</td>\n",
       "      <td>2.0</td>\n",
       "      <td>5.1</td>\n",
       "    </tr>\n",
       "    <tr>\n",
       "      <th>45</th>\n",
       "      <td>2015</td>\n",
       "      <td>14.1</td>\n",
       "      <td>17.2</td>\n",
       "      <td>11.0</td>\n",
       "      <td>35.4</td>\n",
       "      <td>-2.0</td>\n",
       "      <td>0.9</td>\n",
       "      <td>19.8</td>\n",
       "      <td>1437.1</td>\n",
       "      <td>9.0</td>\n",
       "      <td>11.0</td>\n",
       "      <td>5.0</td>\n",
       "    </tr>\n",
       "    <tr>\n",
       "      <th>46</th>\n",
       "      <td>2016</td>\n",
       "      <td>14.1</td>\n",
       "      <td>17.1</td>\n",
       "      <td>11.0</td>\n",
       "      <td>36.7</td>\n",
       "      <td>0.3</td>\n",
       "      <td>6.0</td>\n",
       "      <td>22.2</td>\n",
       "      <td>1586.1</td>\n",
       "      <td>9.0</td>\n",
       "      <td>9.0</td>\n",
       "      <td>5.2</td>\n",
       "    </tr>\n",
       "    <tr>\n",
       "      <th>47</th>\n",
       "      <td>2017</td>\n",
       "      <td>14.0</td>\n",
       "      <td>17.2</td>\n",
       "      <td>10.7</td>\n",
       "      <td>36.2</td>\n",
       "      <td>-2.9</td>\n",
       "      <td>-0.4</td>\n",
       "      <td>22.5</td>\n",
       "      <td>1568.5</td>\n",
       "      <td>6.0</td>\n",
       "      <td>11.0</td>\n",
       "      <td>5.2</td>\n",
       "    </tr>\n",
       "    <tr>\n",
       "      <th>48</th>\n",
       "      <td>2018</td>\n",
       "      <td>14.1</td>\n",
       "      <td>16.9</td>\n",
       "      <td>11.2</td>\n",
       "      <td>32.0</td>\n",
       "      <td>-5.1</td>\n",
       "      <td>0.1</td>\n",
       "      <td>20.5</td>\n",
       "      <td>1757.6</td>\n",
       "      <td>14.0</td>\n",
       "      <td>2.0</td>\n",
       "      <td>4.8</td>\n",
       "    </tr>\n",
       "    <tr>\n",
       "      <th>49</th>\n",
       "      <td>2019</td>\n",
       "      <td>14.1</td>\n",
       "      <td>17.3</td>\n",
       "      <td>10.9</td>\n",
       "      <td>39.0</td>\n",
       "      <td>0.5</td>\n",
       "      <td>5.0</td>\n",
       "      <td>20.6</td>\n",
       "      <td>1900.1</td>\n",
       "      <td>12.0</td>\n",
       "      <td>7.0</td>\n",
       "      <td>5.4</td>\n",
       "    </tr>\n",
       "    <tr>\n",
       "      <th>50</th>\n",
       "      <td>2020</td>\n",
       "      <td>14.8</td>\n",
       "      <td>17.9</td>\n",
       "      <td>11.6</td>\n",
       "      <td>39.0</td>\n",
       "      <td>0.0</td>\n",
       "      <td>4.5</td>\n",
       "      <td>22.0</td>\n",
       "      <td>1780.2</td>\n",
       "      <td>14.0</td>\n",
       "      <td>9.0</td>\n",
       "      <td>5.2</td>\n",
       "    </tr>\n",
       "    <tr>\n",
       "      <th>51</th>\n",
       "      <td>2021</td>\n",
       "      <td>13.8</td>\n",
       "      <td>16.7</td>\n",
       "      <td>10.8</td>\n",
       "      <td>32.5</td>\n",
       "      <td>0.0</td>\n",
       "      <td>2.5</td>\n",
       "      <td>21.5</td>\n",
       "      <td>1676.6</td>\n",
       "      <td>14.0</td>\n",
       "      <td>3.0</td>\n",
       "      <td>4.9</td>\n",
       "    </tr>\n",
       "    <tr>\n",
       "      <th>52</th>\n",
       "      <td>2022</td>\n",
       "      <td>15.1</td>\n",
       "      <td>18.3</td>\n",
       "      <td>11.9</td>\n",
       "      <td>39.7</td>\n",
       "      <td>0.4</td>\n",
       "      <td>4.0</td>\n",
       "      <td>24.3</td>\n",
       "      <td>1338.2</td>\n",
       "      <td>9.0</td>\n",
       "      <td>15.0</td>\n",
       "      <td>5.3</td>\n",
       "    </tr>\n",
       "  </tbody>\n",
       "</table>\n",
       "</div>"
      ],
      "text/plain": [
       "     año  tm_mes  tm_max  tm_min  ta_max  ta_min  ti_max  ts_min   p_mes  \\\n",
       "0   1970    13.1    16.1    10.1    34.6    -2.0     1.8    21.6  1441.5   \n",
       "1   1971    12.9    16.0     9.8    32.2    -5.5     1.0    23.0  1594.0   \n",
       "2   1972    12.3    15.4     9.2    32.2    -1.3     5.0    19.0  1366.8   \n",
       "3   1973    12.8    16.0     9.6    33.0    -6.7     2.0    22.0  1532.1   \n",
       "4   1974    12.5    15.7     9.3    36.4     0.0     5.3    21.8  1840.2   \n",
       "5   1975    12.7    15.7     9.8    38.0    -1.0     3.0    20.6  1363.6   \n",
       "6   1976    12.9    16.0     9.8    33.4    -2.2     1.6    21.2  1566.9   \n",
       "7   1977    12.8    15.8     9.7    31.0    -1.8     2.2    18.4  1678.3   \n",
       "8   1978    12.5    15.4     9.5    30.6    -1.0     2.6    20.4  1629.8   \n",
       "9   1979    12.7    15.6     9.7    30.0    -2.8     2.8    19.6  2206.3   \n",
       "10  1980    12.4    15.6     9.2    33.0    -4.6    -0.8    19.6  1718.7   \n",
       "11  1981    13.0    16.2     9.8    35.0    -1.8     1.2    21.0  1802.5   \n",
       "12  1982    13.5    16.4    10.5    37.6     0.4     5.6    21.8  1652.3   \n",
       "13  1983    13.6    16.7    10.6    31.4    -5.0    -0.2    25.2  1365.0   \n",
       "14  1984    12.5    15.4     9.6    33.2    -1.6     3.6    19.4  1764.8   \n",
       "15  1985    12.7    15.9     9.6    34.0   -10.0    -3.5    19.6  1352.8   \n",
       "16  1986    12.5    15.4     9.6    34.0    -5.8     0.0    20.0  1732.6   \n",
       "17  1987    13.3    16.3    10.3    35.0    -3.8     0.0    23.0  1409.6   \n",
       "18  1988    13.4    16.4    10.5    34.0    -3.4     2.6    23.6  1350.8   \n",
       "19  1989    14.6    17.6    11.6    35.4    -1.4     2.8    20.2  1088.7   \n",
       "20  1990    14.0    17.0    10.9    32.6    -1.4     1.8    21.6  1594.0   \n",
       "21  1991    12.9    15.7    10.0    35.8    -1.4     3.4    20.8  1358.1   \n",
       "22  1992    13.0    15.9    10.1    33.4    -3.0     3.0    21.6  1668.7   \n",
       "23  1993    13.2    16.0    10.3    34.2    -2.4     2.4    23.4  1364.1   \n",
       "24  1994    13.8    16.5    10.9    33.6    -2.6     3.2    20.2  1748.5   \n",
       "25  1995    14.0    16.9    11.0    36.2    -2.0     1.2    20.6  1311.6   \n",
       "26  1996    13.3    16.0    10.5    35.0    -3.2     2.0    20.4  1602.7   \n",
       "27  1997    14.6    17.6    11.6    30.6    -0.4     2.0    21.4  1733.5   \n",
       "28  1998    13.7    16.7    10.7    35.2    -1.8     4.6    21.2  1537.3   \n",
       "29  1999    13.6    16.5    10.7    32.0    -2.2     1.8    20.6  1428.3   \n",
       "30  2000    13.8    16.8    10.8    33.4    -1.6     3.0    20.4  1582.5   \n",
       "31  2001    13.7    16.7    10.8    31.2    -5.6     1.5    22.0  1058.2   \n",
       "32  2002    14.0    16.8    11.1    31.2     1.8     5.9    20.8  1676.9   \n",
       "33  2003    14.5    17.5    11.5    38.6    -4.0     1.7    23.0  1348.9   \n",
       "34  2004    13.6    16.4    10.7    34.2    -0.8     2.8    23.2  1431.9   \n",
       "35  2005    13.4    16.4    10.4    35.0    -4.7     0.6    20.4  1363.2   \n",
       "36  2006    14.4    17.4    11.4    36.0    -1.6     2.4    22.0  1248.9   \n",
       "37  2007    13.3    16.2    10.5    34.6    -3.2     0.6    23.9  1536.1   \n",
       "38  2008    13.4    16.4    10.4    32.8     0.4     4.7    19.1  1909.5   \n",
       "39  2009    13.5    16.5    10.6    35.6    -2.6     0.6    22.6  1700.9   \n",
       "40  2010    13.0    15.9    10.0    33.6    -3.7     0.5    21.4  1477.8   \n",
       "41  2011    14.5    17.4    11.6    37.2    -1.6     2.0    20.8  1400.9   \n",
       "42  2012    13.5    16.7    10.3    36.7    -5.3     0.2    20.6  1602.8   \n",
       "43  2013    13.3    16.2    10.4    36.4    -3.0     2.3    21.8  2145.1   \n",
       "44  2014    14.4    17.4    11.4    33.4    -0.8     3.0    19.0  1725.3   \n",
       "45  2015    14.1    17.2    11.0    35.4    -2.0     0.9    19.8  1437.1   \n",
       "46  2016    14.1    17.1    11.0    36.7     0.3     6.0    22.2  1586.1   \n",
       "47  2017    14.0    17.2    10.7    36.2    -2.9    -0.4    22.5  1568.5   \n",
       "48  2018    14.1    16.9    11.2    32.0    -5.1     0.1    20.5  1757.6   \n",
       "49  2019    14.1    17.3    10.9    39.0     0.5     5.0    20.6  1900.1   \n",
       "50  2020    14.8    17.9    11.6    39.0     0.0     4.5    22.0  1780.2   \n",
       "51  2021    13.8    16.7    10.8    32.5     0.0     2.5    21.5  1676.6   \n",
       "52  2022    15.1    18.3    11.9    39.7     0.4     4.0    24.3  1338.2   \n",
       "\n",
       "    np_300  nt_30  inso  \n",
       "0      9.0    5.0   4.4  \n",
       "1      4.0    4.0   4.4  \n",
       "2      6.0    2.0   4.4  \n",
       "3      8.0    5.0   4.5  \n",
       "4      8.0    4.0   4.0  \n",
       "5      7.0    5.0   4.3  \n",
       "6      9.0    2.0   4.8  \n",
       "7     11.0    1.0   4.1  \n",
       "8     12.0    1.0   4.1  \n",
       "9     17.0    1.0   0.0  \n",
       "10    12.0    4.0   3.8  \n",
       "11     7.0    5.0   4.3  \n",
       "12    10.0    6.0   0.0  \n",
       "13     8.0    8.0   3.5  \n",
       "14    11.0    6.0   3.8  \n",
       "15     7.0    6.0   3.9  \n",
       "16     9.0    4.0   4.4  \n",
       "17     8.0    8.0   4.6  \n",
       "18     3.0    2.0   4.9  \n",
       "19     6.0    3.0   6.1  \n",
       "20    11.0    4.0   5.5  \n",
       "21     7.0    4.0   4.8  \n",
       "22    11.0    6.0   4.3  \n",
       "23    10.0    4.0   4.9  \n",
       "24    14.0    3.0   4.6  \n",
       "25     6.0    3.0   5.4  \n",
       "26    10.0    4.0   5.3  \n",
       "27    14.0    2.0   5.4  \n",
       "28     8.0    7.0   5.2  \n",
       "29     6.0    3.0   4.7  \n",
       "30     5.0    8.0   4.9  \n",
       "31     2.0    5.0   5.1  \n",
       "32    13.0    2.0   4.8  \n",
       "33     7.0   12.0   5.1  \n",
       "34     6.0    7.0   5.1  \n",
       "35     7.0   10.0   5.6  \n",
       "36    11.0    7.0   5.2  \n",
       "37     7.0    5.0   4.8  \n",
       "38    14.0    4.0   5.0  \n",
       "39    10.0    5.0   5.0  \n",
       "40     8.0    4.0   5.0  \n",
       "41    10.0    7.0   5.3  \n",
       "42     9.0   12.0   5.3  \n",
       "43     9.0    3.0   4.9  \n",
       "44     8.0    2.0   5.1  \n",
       "45     9.0   11.0   5.0  \n",
       "46     9.0    9.0   5.2  \n",
       "47     6.0   11.0   5.2  \n",
       "48    14.0    2.0   4.8  \n",
       "49    12.0    7.0   5.4  \n",
       "50    14.0    9.0   5.2  \n",
       "51    14.0    3.0   4.9  \n",
       "52     9.0   15.0   5.3  "
      ]
     },
     "execution_count": 48,
     "metadata": {},
     "output_type": "execute_result"
    }
   ],
   "source": [
    "donosti_anualdf"
   ]
  },
  {
   "cell_type": "code",
   "execution_count": 13,
   "metadata": {},
   "outputs": [
    {
     "data": {
      "text/html": [
       "<div>\n",
       "<style scoped>\n",
       "    .dataframe tbody tr th:only-of-type {\n",
       "        vertical-align: middle;\n",
       "    }\n",
       "\n",
       "    .dataframe tbody tr th {\n",
       "        vertical-align: top;\n",
       "    }\n",
       "\n",
       "    .dataframe thead th {\n",
       "        text-align: right;\n",
       "    }\n",
       "</style>\n",
       "<table border=\"1\" class=\"dataframe\">\n",
       "  <thead>\n",
       "    <tr style=\"text-align: right;\">\n",
       "      <th></th>\n",
       "      <th>año</th>\n",
       "      <th>mes</th>\n",
       "      <th>tm_mes</th>\n",
       "      <th>tm_max</th>\n",
       "      <th>tm_min</th>\n",
       "      <th>ta_max</th>\n",
       "      <th>ta_min</th>\n",
       "      <th>ti_max</th>\n",
       "      <th>ts_min</th>\n",
       "      <th>p_mes</th>\n",
       "      <th>np_300</th>\n",
       "      <th>nt_30</th>\n",
       "      <th>inso</th>\n",
       "    </tr>\n",
       "  </thead>\n",
       "  <tbody>\n",
       "    <tr>\n",
       "      <th>0</th>\n",
       "      <td>1970</td>\n",
       "      <td>1</td>\n",
       "      <td>10.8</td>\n",
       "      <td>14.2</td>\n",
       "      <td>7.3</td>\n",
       "      <td>19.6</td>\n",
       "      <td>-2.6</td>\n",
       "      <td>5.0</td>\n",
       "      <td>13.6</td>\n",
       "      <td>94.1</td>\n",
       "      <td>0.0</td>\n",
       "      <td>0.0</td>\n",
       "      <td>2.1</td>\n",
       "    </tr>\n",
       "    <tr>\n",
       "      <th>1</th>\n",
       "      <td>1970</td>\n",
       "      <td>2</td>\n",
       "      <td>8.7</td>\n",
       "      <td>12.8</td>\n",
       "      <td>4.6</td>\n",
       "      <td>18.6</td>\n",
       "      <td>-0.5</td>\n",
       "      <td>7.4</td>\n",
       "      <td>10.2</td>\n",
       "      <td>161.5</td>\n",
       "      <td>2.0</td>\n",
       "      <td>0.0</td>\n",
       "      <td>2.6</td>\n",
       "    </tr>\n",
       "    <tr>\n",
       "      <th>2</th>\n",
       "      <td>1970</td>\n",
       "      <td>3</td>\n",
       "      <td>7.8</td>\n",
       "      <td>12.0</td>\n",
       "      <td>3.6</td>\n",
       "      <td>23.4</td>\n",
       "      <td>-1.6</td>\n",
       "      <td>6.4</td>\n",
       "      <td>11.8</td>\n",
       "      <td>120.5</td>\n",
       "      <td>0.0</td>\n",
       "      <td>0.0</td>\n",
       "      <td>2.7</td>\n",
       "    </tr>\n",
       "    <tr>\n",
       "      <th>3</th>\n",
       "      <td>1970</td>\n",
       "      <td>4</td>\n",
       "      <td>10.0</td>\n",
       "      <td>14.5</td>\n",
       "      <td>5.4</td>\n",
       "      <td>29.2</td>\n",
       "      <td>0.0</td>\n",
       "      <td>8.6</td>\n",
       "      <td>11.0</td>\n",
       "      <td>120.7</td>\n",
       "      <td>0.0</td>\n",
       "      <td>0.0</td>\n",
       "      <td>4.1</td>\n",
       "    </tr>\n",
       "    <tr>\n",
       "      <th>4</th>\n",
       "      <td>1970</td>\n",
       "      <td>5</td>\n",
       "      <td>14.4</td>\n",
       "      <td>19.7</td>\n",
       "      <td>9.2</td>\n",
       "      <td>32.4</td>\n",
       "      <td>3.8</td>\n",
       "      <td>12.6</td>\n",
       "      <td>14.4</td>\n",
       "      <td>39.9</td>\n",
       "      <td>0.0</td>\n",
       "      <td>1.0</td>\n",
       "      <td>5.5</td>\n",
       "    </tr>\n",
       "  </tbody>\n",
       "</table>\n",
       "</div>"
      ],
      "text/plain": [
       "    año  mes  tm_mes  tm_max  tm_min  ta_max  ta_min  ti_max  ts_min  p_mes  \\\n",
       "0  1970    1    10.8    14.2     7.3    19.6    -2.6     5.0    13.6   94.1   \n",
       "1  1970    2     8.7    12.8     4.6    18.6    -0.5     7.4    10.2  161.5   \n",
       "2  1970    3     7.8    12.0     3.6    23.4    -1.6     6.4    11.8  120.5   \n",
       "3  1970    4    10.0    14.5     5.4    29.2     0.0     8.6    11.0  120.7   \n",
       "4  1970    5    14.4    19.7     9.2    32.4     3.8    12.6    14.4   39.9   \n",
       "\n",
       "   np_300  nt_30  inso  \n",
       "0     0.0    0.0   2.1  \n",
       "1     2.0    0.0   2.6  \n",
       "2     0.0    0.0   2.7  \n",
       "3     0.0    0.0   4.1  \n",
       "4     0.0    1.0   5.5  "
      ]
     },
     "execution_count": 13,
     "metadata": {},
     "output_type": "execute_result"
    }
   ],
   "source": [
    "bilbao_df.head()"
   ]
  },
  {
   "cell_type": "code",
   "execution_count": null,
   "metadata": {},
   "outputs": [
    {
     "data": {
      "text/html": [
       "<div>\n",
       "<style scoped>\n",
       "    .dataframe tbody tr th:only-of-type {\n",
       "        vertical-align: middle;\n",
       "    }\n",
       "\n",
       "    .dataframe tbody tr th {\n",
       "        vertical-align: top;\n",
       "    }\n",
       "\n",
       "    .dataframe thead th {\n",
       "        text-align: right;\n",
       "    }\n",
       "</style>\n",
       "<table border=\"1\" class=\"dataframe\">\n",
       "  <thead>\n",
       "    <tr style=\"text-align: right;\">\n",
       "      <th></th>\n",
       "      <th>año</th>\n",
       "      <th>mes</th>\n",
       "      <th>tm_mes</th>\n",
       "      <th>tm_max</th>\n",
       "      <th>tm_min</th>\n",
       "      <th>ta_max</th>\n",
       "      <th>ta_min</th>\n",
       "      <th>ti_max</th>\n",
       "      <th>ts_min</th>\n",
       "      <th>p_mes</th>\n",
       "      <th>np_300</th>\n",
       "      <th>nt_30</th>\n",
       "      <th>inso</th>\n",
       "    </tr>\n",
       "  </thead>\n",
       "  <tbody>\n",
       "    <tr>\n",
       "      <th>0</th>\n",
       "      <td>1970</td>\n",
       "      <td>1</td>\n",
       "      <td>10.8</td>\n",
       "      <td>14.2</td>\n",
       "      <td>7.3</td>\n",
       "      <td>19.6</td>\n",
       "      <td>-2.6</td>\n",
       "      <td>5.0</td>\n",
       "      <td>13.6</td>\n",
       "      <td>94.1</td>\n",
       "      <td>0.0</td>\n",
       "      <td>0.0</td>\n",
       "      <td>2.1</td>\n",
       "    </tr>\n",
       "    <tr>\n",
       "      <th>1</th>\n",
       "      <td>1970</td>\n",
       "      <td>2</td>\n",
       "      <td>8.7</td>\n",
       "      <td>12.8</td>\n",
       "      <td>4.6</td>\n",
       "      <td>18.6</td>\n",
       "      <td>-0.5</td>\n",
       "      <td>7.4</td>\n",
       "      <td>10.2</td>\n",
       "      <td>161.5</td>\n",
       "      <td>2.0</td>\n",
       "      <td>0.0</td>\n",
       "      <td>2.6</td>\n",
       "    </tr>\n",
       "    <tr>\n",
       "      <th>2</th>\n",
       "      <td>1970</td>\n",
       "      <td>3</td>\n",
       "      <td>7.8</td>\n",
       "      <td>12.0</td>\n",
       "      <td>3.6</td>\n",
       "      <td>23.4</td>\n",
       "      <td>-1.6</td>\n",
       "      <td>6.4</td>\n",
       "      <td>11.8</td>\n",
       "      <td>120.5</td>\n",
       "      <td>0.0</td>\n",
       "      <td>0.0</td>\n",
       "      <td>2.7</td>\n",
       "    </tr>\n",
       "    <tr>\n",
       "      <th>3</th>\n",
       "      <td>1970</td>\n",
       "      <td>4</td>\n",
       "      <td>10.0</td>\n",
       "      <td>14.5</td>\n",
       "      <td>5.4</td>\n",
       "      <td>29.2</td>\n",
       "      <td>0.0</td>\n",
       "      <td>8.6</td>\n",
       "      <td>11.0</td>\n",
       "      <td>120.7</td>\n",
       "      <td>0.0</td>\n",
       "      <td>0.0</td>\n",
       "      <td>4.1</td>\n",
       "    </tr>\n",
       "    <tr>\n",
       "      <th>4</th>\n",
       "      <td>1970</td>\n",
       "      <td>5</td>\n",
       "      <td>14.4</td>\n",
       "      <td>19.7</td>\n",
       "      <td>9.2</td>\n",
       "      <td>32.4</td>\n",
       "      <td>3.8</td>\n",
       "      <td>12.6</td>\n",
       "      <td>14.4</td>\n",
       "      <td>39.9</td>\n",
       "      <td>0.0</td>\n",
       "      <td>1.0</td>\n",
       "      <td>5.5</td>\n",
       "    </tr>\n",
       "  </tbody>\n",
       "</table>\n",
       "</div>"
      ],
      "text/plain": [
       "    año  mes  tm_mes  tm_max  tm_min  ta_max  ta_min  ti_max  ts_min  p_mes  \\\n",
       "0  1970    1    10.8    14.2     7.3    19.6    -2.6     5.0    13.6   94.1   \n",
       "1  1970    2     8.7    12.8     4.6    18.6    -0.5     7.4    10.2  161.5   \n",
       "2  1970    3     7.8    12.0     3.6    23.4    -1.6     6.4    11.8  120.5   \n",
       "3  1970    4    10.0    14.5     5.4    29.2     0.0     8.6    11.0  120.7   \n",
       "4  1970    5    14.4    19.7     9.2    32.4     3.8    12.6    14.4   39.9   \n",
       "\n",
       "   np_300  nt_30  inso  \n",
       "0     0.0    0.0   2.1  \n",
       "1     2.0    0.0   2.6  \n",
       "2     0.0    0.0   2.7  \n",
       "3     0.0    0.0   4.1  \n",
       "4     0.0    1.0   5.5  "
      ]
     },
     "metadata": {},
     "output_type": "display_data"
    }
   ],
   "source": [
    "bilbao_cada10 = bilbao_df.loc[bilbao_df[\"año\"].isin([1970, 1980,1990,2000,2010,2022])]\n",
    "bilbao_cada10.head()"
   ]
  },
  {
   "cell_type": "code",
   "execution_count": 14,
   "metadata": {},
   "outputs": [
    {
     "data": {
      "text/html": [
       "<div>\n",
       "<style scoped>\n",
       "    .dataframe tbody tr th:only-of-type {\n",
       "        vertical-align: middle;\n",
       "    }\n",
       "\n",
       "    .dataframe tbody tr th {\n",
       "        vertical-align: top;\n",
       "    }\n",
       "\n",
       "    .dataframe thead th {\n",
       "        text-align: right;\n",
       "    }\n",
       "</style>\n",
       "<table border=\"1\" class=\"dataframe\">\n",
       "  <thead>\n",
       "    <tr style=\"text-align: right;\">\n",
       "      <th></th>\n",
       "      <th>año</th>\n",
       "      <th>mes</th>\n",
       "      <th>tm_mes</th>\n",
       "      <th>tm_max</th>\n",
       "      <th>tm_min</th>\n",
       "      <th>ta_max</th>\n",
       "      <th>ta_min</th>\n",
       "      <th>ti_max</th>\n",
       "      <th>ts_min</th>\n",
       "      <th>p_mes</th>\n",
       "      <th>np_300</th>\n",
       "      <th>nt_30</th>\n",
       "      <th>inso</th>\n",
       "    </tr>\n",
       "  </thead>\n",
       "  <tbody>\n",
       "    <tr>\n",
       "      <th>0</th>\n",
       "      <td>1970</td>\n",
       "      <td>1</td>\n",
       "      <td>9.5</td>\n",
       "      <td>12.1</td>\n",
       "      <td>6.8</td>\n",
       "      <td>18.0</td>\n",
       "      <td>-1.4</td>\n",
       "      <td>5.0</td>\n",
       "      <td>13.0</td>\n",
       "      <td>196.7</td>\n",
       "      <td>2.0</td>\n",
       "      <td>0.0</td>\n",
       "      <td>2.4</td>\n",
       "    </tr>\n",
       "    <tr>\n",
       "      <th>1</th>\n",
       "      <td>1970</td>\n",
       "      <td>2</td>\n",
       "      <td>7.7</td>\n",
       "      <td>9.9</td>\n",
       "      <td>5.5</td>\n",
       "      <td>14.0</td>\n",
       "      <td>-2.0</td>\n",
       "      <td>3.0</td>\n",
       "      <td>11.0</td>\n",
       "      <td>165.8</td>\n",
       "      <td>0.0</td>\n",
       "      <td>0.0</td>\n",
       "      <td>2.3</td>\n",
       "    </tr>\n",
       "    <tr>\n",
       "      <th>2</th>\n",
       "      <td>1970</td>\n",
       "      <td>3</td>\n",
       "      <td>7.2</td>\n",
       "      <td>10.0</td>\n",
       "      <td>4.3</td>\n",
       "      <td>20.6</td>\n",
       "      <td>-1.2</td>\n",
       "      <td>2.1</td>\n",
       "      <td>9.5</td>\n",
       "      <td>101.0</td>\n",
       "      <td>0.0</td>\n",
       "      <td>0.0</td>\n",
       "      <td>2.6</td>\n",
       "    </tr>\n",
       "    <tr>\n",
       "      <th>3</th>\n",
       "      <td>1970</td>\n",
       "      <td>4</td>\n",
       "      <td>9.5</td>\n",
       "      <td>12.5</td>\n",
       "      <td>6.5</td>\n",
       "      <td>26.5</td>\n",
       "      <td>1.2</td>\n",
       "      <td>6.9</td>\n",
       "      <td>10.9</td>\n",
       "      <td>174.3</td>\n",
       "      <td>1.0</td>\n",
       "      <td>0.0</td>\n",
       "      <td>3.9</td>\n",
       "    </tr>\n",
       "    <tr>\n",
       "      <th>4</th>\n",
       "      <td>1970</td>\n",
       "      <td>5</td>\n",
       "      <td>14.0</td>\n",
       "      <td>17.4</td>\n",
       "      <td>10.4</td>\n",
       "      <td>30.6</td>\n",
       "      <td>5.0</td>\n",
       "      <td>9.4</td>\n",
       "      <td>15.0</td>\n",
       "      <td>89.4</td>\n",
       "      <td>1.0</td>\n",
       "      <td>1.0</td>\n",
       "      <td>6.1</td>\n",
       "    </tr>\n",
       "  </tbody>\n",
       "</table>\n",
       "</div>"
      ],
      "text/plain": [
       "    año  mes  tm_mes  tm_max  tm_min  ta_max  ta_min  ti_max  ts_min  p_mes  \\\n",
       "0  1970    1     9.5    12.1     6.8    18.0    -1.4     5.0    13.0  196.7   \n",
       "1  1970    2     7.7     9.9     5.5    14.0    -2.0     3.0    11.0  165.8   \n",
       "2  1970    3     7.2    10.0     4.3    20.6    -1.2     2.1     9.5  101.0   \n",
       "3  1970    4     9.5    12.5     6.5    26.5     1.2     6.9    10.9  174.3   \n",
       "4  1970    5    14.0    17.4    10.4    30.6     5.0     9.4    15.0   89.4   \n",
       "\n",
       "   np_300  nt_30  inso  \n",
       "0     2.0    0.0   2.4  \n",
       "1     0.0    0.0   2.3  \n",
       "2     0.0    0.0   2.6  \n",
       "3     1.0    0.0   3.9  \n",
       "4     1.0    1.0   6.1  "
      ]
     },
     "execution_count": 14,
     "metadata": {},
     "output_type": "execute_result"
    }
   ],
   "source": [
    "donosti_df.head()"
   ]
  },
  {
   "cell_type": "code",
   "execution_count": 15,
   "metadata": {},
   "outputs": [
    {
     "data": {
      "text/html": [
       "<div>\n",
       "<style scoped>\n",
       "    .dataframe tbody tr th:only-of-type {\n",
       "        vertical-align: middle;\n",
       "    }\n",
       "\n",
       "    .dataframe tbody tr th {\n",
       "        vertical-align: top;\n",
       "    }\n",
       "\n",
       "    .dataframe thead th {\n",
       "        text-align: right;\n",
       "    }\n",
       "</style>\n",
       "<table border=\"1\" class=\"dataframe\">\n",
       "  <thead>\n",
       "    <tr style=\"text-align: right;\">\n",
       "      <th></th>\n",
       "      <th>año</th>\n",
       "      <th>mes</th>\n",
       "      <th>tm_mes</th>\n",
       "      <th>tm_max</th>\n",
       "      <th>tm_min</th>\n",
       "      <th>ta_max</th>\n",
       "      <th>ta_min</th>\n",
       "      <th>ti_max</th>\n",
       "      <th>ts_min</th>\n",
       "      <th>p_mes</th>\n",
       "      <th>np_300</th>\n",
       "      <th>nt_30</th>\n",
       "      <th>inso</th>\n",
       "    </tr>\n",
       "  </thead>\n",
       "  <tbody>\n",
       "    <tr>\n",
       "      <th>0</th>\n",
       "      <td>1970</td>\n",
       "      <td>1</td>\n",
       "      <td>6.6</td>\n",
       "      <td>9.8</td>\n",
       "      <td>3.5</td>\n",
       "      <td>14.6</td>\n",
       "      <td>-6.4</td>\n",
       "      <td>2.6</td>\n",
       "      <td>8.4</td>\n",
       "      <td>127.2</td>\n",
       "      <td>0.0</td>\n",
       "      <td>0.0</td>\n",
       "      <td>2.4</td>\n",
       "    </tr>\n",
       "    <tr>\n",
       "      <th>1</th>\n",
       "      <td>1970</td>\n",
       "      <td>2</td>\n",
       "      <td>4.9</td>\n",
       "      <td>8.6</td>\n",
       "      <td>1.2</td>\n",
       "      <td>13.8</td>\n",
       "      <td>-7.0</td>\n",
       "      <td>0.6</td>\n",
       "      <td>7.2</td>\n",
       "      <td>136.4</td>\n",
       "      <td>1.0</td>\n",
       "      <td>0.0</td>\n",
       "      <td>3.8</td>\n",
       "    </tr>\n",
       "    <tr>\n",
       "      <th>2</th>\n",
       "      <td>1970</td>\n",
       "      <td>3</td>\n",
       "      <td>5.2</td>\n",
       "      <td>9.0</td>\n",
       "      <td>1.4</td>\n",
       "      <td>20.0</td>\n",
       "      <td>-4.0</td>\n",
       "      <td>1.6</td>\n",
       "      <td>9.2</td>\n",
       "      <td>55.2</td>\n",
       "      <td>0.0</td>\n",
       "      <td>0.0</td>\n",
       "      <td>3.8</td>\n",
       "    </tr>\n",
       "    <tr>\n",
       "      <th>3</th>\n",
       "      <td>1970</td>\n",
       "      <td>4</td>\n",
       "      <td>8.4</td>\n",
       "      <td>13.5</td>\n",
       "      <td>3.3</td>\n",
       "      <td>28.4</td>\n",
       "      <td>-2.6</td>\n",
       "      <td>5.6</td>\n",
       "      <td>9.2</td>\n",
       "      <td>37.4</td>\n",
       "      <td>0.0</td>\n",
       "      <td>0.0</td>\n",
       "      <td>5.9</td>\n",
       "    </tr>\n",
       "    <tr>\n",
       "      <th>4</th>\n",
       "      <td>1970</td>\n",
       "      <td>5</td>\n",
       "      <td>12.3</td>\n",
       "      <td>17.5</td>\n",
       "      <td>7.0</td>\n",
       "      <td>30.2</td>\n",
       "      <td>0.4</td>\n",
       "      <td>10.0</td>\n",
       "      <td>11.6</td>\n",
       "      <td>93.9</td>\n",
       "      <td>2.0</td>\n",
       "      <td>1.0</td>\n",
       "      <td>6.9</td>\n",
       "    </tr>\n",
       "  </tbody>\n",
       "</table>\n",
       "</div>"
      ],
      "text/plain": [
       "    año  mes  tm_mes  tm_max  tm_min  ta_max  ta_min  ti_max  ts_min  p_mes  \\\n",
       "0  1970    1     6.6     9.8     3.5    14.6    -6.4     2.6     8.4  127.2   \n",
       "1  1970    2     4.9     8.6     1.2    13.8    -7.0     0.6     7.2  136.4   \n",
       "2  1970    3     5.2     9.0     1.4    20.0    -4.0     1.6     9.2   55.2   \n",
       "3  1970    4     8.4    13.5     3.3    28.4    -2.6     5.6     9.2   37.4   \n",
       "4  1970    5    12.3    17.5     7.0    30.2     0.4    10.0    11.6   93.9   \n",
       "\n",
       "   np_300  nt_30  inso  \n",
       "0     0.0    0.0   2.4  \n",
       "1     1.0    0.0   3.8  \n",
       "2     0.0    0.0   3.8  \n",
       "3     0.0    0.0   5.9  \n",
       "4     2.0    1.0   6.9  "
      ]
     },
     "execution_count": 15,
     "metadata": {},
     "output_type": "execute_result"
    }
   ],
   "source": [
    "vitoria_df.head()"
   ]
  },
  {
   "cell_type": "code",
   "execution_count": 16,
   "metadata": {},
   "outputs": [
    {
     "data": {
      "text/plain": [
       "<seaborn.axisgrid.FacetGrid at 0x2affa5638d0>"
      ]
     },
     "execution_count": 16,
     "metadata": {},
     "output_type": "execute_result"
    },
    {
     "data": {
      "image/png": "[encoded data removed]",
      "text/plain": [
       "<Figure size 375x500 with 1 Axes>"
      ]
     },
     "metadata": {},
     "output_type": "display_data"
    }
   ],
   "source": [
    "import seaborn as sns\n",
    "sns.set_theme(style=\"ticks\")\n",
    "\n",
    "dots = sns.load_dataset(\"dots\")\n",
    "\n",
    "# Define the palette as a list to specify exact values\n",
    "palette = sns.color_palette(\"rocket_r\")\n",
    "\n",
    "# Plot the lines on two facets\n",
    "sns.relplot(\n",
    "    data=bilbao_df,\n",
    "    x=\"año\", y=\"tm_mes\",\n",
    "    kind=\"line\", size_order=[\"T1\", \"T2\"], palette=palette,\n",
    "    height=5, aspect=.75, facet_kws=dict(sharex=False),\n",
    ")"
   ]
  },
  {
   "cell_type": "code",
   "execution_count": 18,
   "metadata": {},
   "outputs": [
    {
     "data": {
      "text/html": [
       "<div>\n",
       "<style scoped>\n",
       "    .dataframe tbody tr th:only-of-type {\n",
       "        vertical-align: middle;\n",
       "    }\n",
       "\n",
       "    .dataframe tbody tr th {\n",
       "        vertical-align: top;\n",
       "    }\n",
       "\n",
       "    .dataframe thead th {\n",
       "        text-align: right;\n",
       "    }\n",
       "</style>\n",
       "<table border=\"1\" class=\"dataframe\">\n",
       "  <thead>\n",
       "    <tr style=\"text-align: right;\">\n",
       "      <th></th>\n",
       "      <th>año</th>\n",
       "      <th>mes</th>\n",
       "      <th>tm_mes</th>\n",
       "      <th>tm_max</th>\n",
       "      <th>tm_min</th>\n",
       "      <th>ta_max</th>\n",
       "      <th>ta_min</th>\n",
       "      <th>ti_max</th>\n",
       "      <th>ts_min</th>\n",
       "      <th>p_mes</th>\n",
       "      <th>np_300</th>\n",
       "      <th>nt_30</th>\n",
       "      <th>inso</th>\n",
       "    </tr>\n",
       "  </thead>\n",
       "  <tbody>\n",
       "    <tr>\n",
       "      <th>0</th>\n",
       "      <td>1970</td>\n",
       "      <td>1</td>\n",
       "      <td>10.8</td>\n",
       "      <td>14.2</td>\n",
       "      <td>7.3</td>\n",
       "      <td>19.6</td>\n",
       "      <td>-2.6</td>\n",
       "      <td>5.0</td>\n",
       "      <td>13.6</td>\n",
       "      <td>94.1</td>\n",
       "      <td>0.0</td>\n",
       "      <td>0.0</td>\n",
       "      <td>2.1</td>\n",
       "    </tr>\n",
       "    <tr>\n",
       "      <th>1</th>\n",
       "      <td>1970</td>\n",
       "      <td>2</td>\n",
       "      <td>8.7</td>\n",
       "      <td>12.8</td>\n",
       "      <td>4.6</td>\n",
       "      <td>18.6</td>\n",
       "      <td>-0.5</td>\n",
       "      <td>7.4</td>\n",
       "      <td>10.2</td>\n",
       "      <td>161.5</td>\n",
       "      <td>2.0</td>\n",
       "      <td>0.0</td>\n",
       "      <td>2.6</td>\n",
       "    </tr>\n",
       "    <tr>\n",
       "      <th>2</th>\n",
       "      <td>1970</td>\n",
       "      <td>3</td>\n",
       "      <td>7.8</td>\n",
       "      <td>12.0</td>\n",
       "      <td>3.6</td>\n",
       "      <td>23.4</td>\n",
       "      <td>-1.6</td>\n",
       "      <td>6.4</td>\n",
       "      <td>11.8</td>\n",
       "      <td>120.5</td>\n",
       "      <td>0.0</td>\n",
       "      <td>0.0</td>\n",
       "      <td>2.7</td>\n",
       "    </tr>\n",
       "    <tr>\n",
       "      <th>3</th>\n",
       "      <td>1970</td>\n",
       "      <td>4</td>\n",
       "      <td>10.0</td>\n",
       "      <td>14.5</td>\n",
       "      <td>5.4</td>\n",
       "      <td>29.2</td>\n",
       "      <td>0.0</td>\n",
       "      <td>8.6</td>\n",
       "      <td>11.0</td>\n",
       "      <td>120.7</td>\n",
       "      <td>0.0</td>\n",
       "      <td>0.0</td>\n",
       "      <td>4.1</td>\n",
       "    </tr>\n",
       "    <tr>\n",
       "      <th>4</th>\n",
       "      <td>1970</td>\n",
       "      <td>5</td>\n",
       "      <td>14.4</td>\n",
       "      <td>19.7</td>\n",
       "      <td>9.2</td>\n",
       "      <td>32.4</td>\n",
       "      <td>3.8</td>\n",
       "      <td>12.6</td>\n",
       "      <td>14.4</td>\n",
       "      <td>39.9</td>\n",
       "      <td>0.0</td>\n",
       "      <td>1.0</td>\n",
       "      <td>5.5</td>\n",
       "    </tr>\n",
       "  </tbody>\n",
       "</table>\n",
       "</div>"
      ],
      "text/plain": [
       "    año  mes  tm_mes  tm_max  tm_min  ta_max  ta_min  ti_max  ts_min  p_mes  \\\n",
       "0  1970    1    10.8    14.2     7.3    19.6    -2.6     5.0    13.6   94.1   \n",
       "1  1970    2     8.7    12.8     4.6    18.6    -0.5     7.4    10.2  161.5   \n",
       "2  1970    3     7.8    12.0     3.6    23.4    -1.6     6.4    11.8  120.5   \n",
       "3  1970    4    10.0    14.5     5.4    29.2     0.0     8.6    11.0  120.7   \n",
       "4  1970    5    14.4    19.7     9.2    32.4     3.8    12.6    14.4   39.9   \n",
       "\n",
       "   np_300  nt_30  inso  \n",
       "0     0.0    0.0   2.1  \n",
       "1     2.0    0.0   2.6  \n",
       "2     0.0    0.0   2.7  \n",
       "3     0.0    0.0   4.1  \n",
       "4     0.0    1.0   5.5  "
      ]
     },
     "execution_count": 18,
     "metadata": {},
     "output_type": "execute_result"
    }
   ],
   "source": [
    "bilbao_cada10 = bilbao_df.loc[bilbao_df[\"año\"].isin([1970, 1980,1990,2000,2010,2022])]\n",
    "bilbao_cada10.head()"
   ]
  },
  {
   "cell_type": "code",
   "execution_count": 19,
   "metadata": {},
   "outputs": [
    {
     "data": {
      "text/html": [
       "<div>\n",
       "<style scoped>\n",
       "    .dataframe tbody tr th:only-of-type {\n",
       "        vertical-align: middle;\n",
       "    }\n",
       "\n",
       "    .dataframe tbody tr th {\n",
       "        vertical-align: top;\n",
       "    }\n",
       "\n",
       "    .dataframe thead th {\n",
       "        text-align: right;\n",
       "    }\n",
       "</style>\n",
       "<table border=\"1\" class=\"dataframe\">\n",
       "  <thead>\n",
       "    <tr style=\"text-align: right;\">\n",
       "      <th></th>\n",
       "      <th>año</th>\n",
       "      <th>mes</th>\n",
       "      <th>tm_mes</th>\n",
       "      <th>tm_max</th>\n",
       "      <th>tm_min</th>\n",
       "      <th>ta_max</th>\n",
       "      <th>ta_min</th>\n",
       "      <th>ti_max</th>\n",
       "      <th>ts_min</th>\n",
       "      <th>p_mes</th>\n",
       "      <th>np_300</th>\n",
       "      <th>nt_30</th>\n",
       "      <th>inso</th>\n",
       "    </tr>\n",
       "  </thead>\n",
       "  <tbody>\n",
       "    <tr>\n",
       "      <th>0</th>\n",
       "      <td>1970</td>\n",
       "      <td>1</td>\n",
       "      <td>9.5</td>\n",
       "      <td>12.1</td>\n",
       "      <td>6.8</td>\n",
       "      <td>18.0</td>\n",
       "      <td>-1.4</td>\n",
       "      <td>5.0</td>\n",
       "      <td>13.0</td>\n",
       "      <td>196.7</td>\n",
       "      <td>2.0</td>\n",
       "      <td>0.0</td>\n",
       "      <td>2.4</td>\n",
       "    </tr>\n",
       "    <tr>\n",
       "      <th>1</th>\n",
       "      <td>1970</td>\n",
       "      <td>2</td>\n",
       "      <td>7.7</td>\n",
       "      <td>9.9</td>\n",
       "      <td>5.5</td>\n",
       "      <td>14.0</td>\n",
       "      <td>-2.0</td>\n",
       "      <td>3.0</td>\n",
       "      <td>11.0</td>\n",
       "      <td>165.8</td>\n",
       "      <td>0.0</td>\n",
       "      <td>0.0</td>\n",
       "      <td>2.3</td>\n",
       "    </tr>\n",
       "    <tr>\n",
       "      <th>2</th>\n",
       "      <td>1970</td>\n",
       "      <td>3</td>\n",
       "      <td>7.2</td>\n",
       "      <td>10.0</td>\n",
       "      <td>4.3</td>\n",
       "      <td>20.6</td>\n",
       "      <td>-1.2</td>\n",
       "      <td>2.1</td>\n",
       "      <td>9.5</td>\n",
       "      <td>101.0</td>\n",
       "      <td>0.0</td>\n",
       "      <td>0.0</td>\n",
       "      <td>2.6</td>\n",
       "    </tr>\n",
       "    <tr>\n",
       "      <th>3</th>\n",
       "      <td>1970</td>\n",
       "      <td>4</td>\n",
       "      <td>9.5</td>\n",
       "      <td>12.5</td>\n",
       "      <td>6.5</td>\n",
       "      <td>26.5</td>\n",
       "      <td>1.2</td>\n",
       "      <td>6.9</td>\n",
       "      <td>10.9</td>\n",
       "      <td>174.3</td>\n",
       "      <td>1.0</td>\n",
       "      <td>0.0</td>\n",
       "      <td>3.9</td>\n",
       "    </tr>\n",
       "    <tr>\n",
       "      <th>4</th>\n",
       "      <td>1970</td>\n",
       "      <td>5</td>\n",
       "      <td>14.0</td>\n",
       "      <td>17.4</td>\n",
       "      <td>10.4</td>\n",
       "      <td>30.6</td>\n",
       "      <td>5.0</td>\n",
       "      <td>9.4</td>\n",
       "      <td>15.0</td>\n",
       "      <td>89.4</td>\n",
       "      <td>1.0</td>\n",
       "      <td>1.0</td>\n",
       "      <td>6.1</td>\n",
       "    </tr>\n",
       "  </tbody>\n",
       "</table>\n",
       "</div>"
      ],
      "text/plain": [
       "    año  mes  tm_mes  tm_max  tm_min  ta_max  ta_min  ti_max  ts_min  p_mes  \\\n",
       "0  1970    1     9.5    12.1     6.8    18.0    -1.4     5.0    13.0  196.7   \n",
       "1  1970    2     7.7     9.9     5.5    14.0    -2.0     3.0    11.0  165.8   \n",
       "2  1970    3     7.2    10.0     4.3    20.6    -1.2     2.1     9.5  101.0   \n",
       "3  1970    4     9.5    12.5     6.5    26.5     1.2     6.9    10.9  174.3   \n",
       "4  1970    5    14.0    17.4    10.4    30.6     5.0     9.4    15.0   89.4   \n",
       "\n",
       "   np_300  nt_30  inso  \n",
       "0     2.0    0.0   2.4  \n",
       "1     0.0    0.0   2.3  \n",
       "2     0.0    0.0   2.6  \n",
       "3     1.0    0.0   3.9  \n",
       "4     1.0    1.0   6.1  "
      ]
     },
     "execution_count": 19,
     "metadata": {},
     "output_type": "execute_result"
    }
   ],
   "source": [
    "donosti_cada10 = donosti_df.loc[donosti_df[\"año\"].isin([1970, 1980,1990,2000,2010,2022])]\n",
    "donosti_cada10.head()"
   ]
  },
  {
   "cell_type": "code",
   "execution_count": 20,
   "metadata": {},
   "outputs": [
    {
     "data": {
      "text/html": [
       "<div>\n",
       "<style scoped>\n",
       "    .dataframe tbody tr th:only-of-type {\n",
       "        vertical-align: middle;\n",
       "    }\n",
       "\n",
       "    .dataframe tbody tr th {\n",
       "        vertical-align: top;\n",
       "    }\n",
       "\n",
       "    .dataframe thead th {\n",
       "        text-align: right;\n",
       "    }\n",
       "</style>\n",
       "<table border=\"1\" class=\"dataframe\">\n",
       "  <thead>\n",
       "    <tr style=\"text-align: right;\">\n",
       "      <th></th>\n",
       "      <th>año</th>\n",
       "      <th>mes</th>\n",
       "      <th>tm_mes</th>\n",
       "      <th>tm_max</th>\n",
       "      <th>tm_min</th>\n",
       "      <th>ta_max</th>\n",
       "      <th>ta_min</th>\n",
       "      <th>ti_max</th>\n",
       "      <th>ts_min</th>\n",
       "      <th>p_mes</th>\n",
       "      <th>np_300</th>\n",
       "      <th>nt_30</th>\n",
       "      <th>inso</th>\n",
       "    </tr>\n",
       "  </thead>\n",
       "  <tbody>\n",
       "    <tr>\n",
       "      <th>0</th>\n",
       "      <td>1970</td>\n",
       "      <td>1</td>\n",
       "      <td>6.6</td>\n",
       "      <td>9.8</td>\n",
       "      <td>3.5</td>\n",
       "      <td>14.6</td>\n",
       "      <td>-6.4</td>\n",
       "      <td>2.6</td>\n",
       "      <td>8.4</td>\n",
       "      <td>127.2</td>\n",
       "      <td>0.0</td>\n",
       "      <td>0.0</td>\n",
       "      <td>2.4</td>\n",
       "    </tr>\n",
       "    <tr>\n",
       "      <th>1</th>\n",
       "      <td>1970</td>\n",
       "      <td>2</td>\n",
       "      <td>4.9</td>\n",
       "      <td>8.6</td>\n",
       "      <td>1.2</td>\n",
       "      <td>13.8</td>\n",
       "      <td>-7.0</td>\n",
       "      <td>0.6</td>\n",
       "      <td>7.2</td>\n",
       "      <td>136.4</td>\n",
       "      <td>1.0</td>\n",
       "      <td>0.0</td>\n",
       "      <td>3.8</td>\n",
       "    </tr>\n",
       "    <tr>\n",
       "      <th>2</th>\n",
       "      <td>1970</td>\n",
       "      <td>3</td>\n",
       "      <td>5.2</td>\n",
       "      <td>9.0</td>\n",
       "      <td>1.4</td>\n",
       "      <td>20.0</td>\n",
       "      <td>-4.0</td>\n",
       "      <td>1.6</td>\n",
       "      <td>9.2</td>\n",
       "      <td>55.2</td>\n",
       "      <td>0.0</td>\n",
       "      <td>0.0</td>\n",
       "      <td>3.8</td>\n",
       "    </tr>\n",
       "    <tr>\n",
       "      <th>3</th>\n",
       "      <td>1970</td>\n",
       "      <td>4</td>\n",
       "      <td>8.4</td>\n",
       "      <td>13.5</td>\n",
       "      <td>3.3</td>\n",
       "      <td>28.4</td>\n",
       "      <td>-2.6</td>\n",
       "      <td>5.6</td>\n",
       "      <td>9.2</td>\n",
       "      <td>37.4</td>\n",
       "      <td>0.0</td>\n",
       "      <td>0.0</td>\n",
       "      <td>5.9</td>\n",
       "    </tr>\n",
       "    <tr>\n",
       "      <th>4</th>\n",
       "      <td>1970</td>\n",
       "      <td>5</td>\n",
       "      <td>12.3</td>\n",
       "      <td>17.5</td>\n",
       "      <td>7.0</td>\n",
       "      <td>30.2</td>\n",
       "      <td>0.4</td>\n",
       "      <td>10.0</td>\n",
       "      <td>11.6</td>\n",
       "      <td>93.9</td>\n",
       "      <td>2.0</td>\n",
       "      <td>1.0</td>\n",
       "      <td>6.9</td>\n",
       "    </tr>\n",
       "  </tbody>\n",
       "</table>\n",
       "</div>"
      ],
      "text/plain": [
       "    año  mes  tm_mes  tm_max  tm_min  ta_max  ta_min  ti_max  ts_min  p_mes  \\\n",
       "0  1970    1     6.6     9.8     3.5    14.6    -6.4     2.6     8.4  127.2   \n",
       "1  1970    2     4.9     8.6     1.2    13.8    -7.0     0.6     7.2  136.4   \n",
       "2  1970    3     5.2     9.0     1.4    20.0    -4.0     1.6     9.2   55.2   \n",
       "3  1970    4     8.4    13.5     3.3    28.4    -2.6     5.6     9.2   37.4   \n",
       "4  1970    5    12.3    17.5     7.0    30.2     0.4    10.0    11.6   93.9   \n",
       "\n",
       "   np_300  nt_30  inso  \n",
       "0     0.0    0.0   2.4  \n",
       "1     1.0    0.0   3.8  \n",
       "2     0.0    0.0   3.8  \n",
       "3     0.0    0.0   5.9  \n",
       "4     2.0    1.0   6.9  "
      ]
     },
     "execution_count": 20,
     "metadata": {},
     "output_type": "execute_result"
    }
   ],
   "source": [
    "vitoria_cada10 = vitoria_df.loc[vitoria_df[\"año\"].isin([1970,1980,1990,2000,2010,2022])]\n",
    "vitoria_cada10.head()"
   ]
  },
  {
   "cell_type": "code",
   "execution_count": 21,
   "metadata": {},
   "outputs": [
    {
     "data": {
      "text/plain": [
       "[Text(0.5, 0, 'Mes'), Text(0, 0.5, 'Temperatura media anual(ºC)')]"
      ]
     },
     "execution_count": 21,
     "metadata": {},
     "output_type": "execute_result"
    },
    {
     "data": {
      "image/png": "[encoded data removed]",
      "text/plain": [
       "<Figure size 800x600 with 1 Axes>"
      ]
     },
     "metadata": {},
     "output_type": "display_data"
    }
   ],
   "source": [
    "#Gráfica temperatura media vs. mes\n",
    "\n",
    "plt.figure(figsize=(8,6))\n",
    "graf1=sns.lineplot(data=bilbao_cada10, x='mes', y='tm_mes', hue='año', palette=\"YlOrBr\")\n",
    "sns.color_palette(\"YlOrBr\", as_cmap=True)\n",
    "plt.xlim(1,12)\n",
    "graf1.set(xlabel= \"Mes\", ylabel = \"Temperatura media anual(ºC)\")"
   ]
  },
  {
   "cell_type": "code",
   "execution_count": 22,
   "metadata": {},
   "outputs": [
    {
     "data": {
      "text/plain": [
       "[Text(0.5, 0, 'Mes'), Text(0, 0.5, 'Temperatura media anual(ºC)')]"
      ]
     },
     "execution_count": 22,
     "metadata": {},
     "output_type": "execute_result"
    },
    {
     "data": {
      "image/png": "[encoded data removed]",
      "text/plain": [
       "<Figure size 800x600 with 1 Axes>"
      ]
     },
     "metadata": {},
     "output_type": "display_data"
    }
   ],
   "source": [
    "#Gráfica temperatura media vs. mes\n",
    "\n",
    "plt.figure(figsize=(8,6))\n",
    "graf1=sns.lineplot(data=donosti_cada10, x='mes', y='tm_mes', hue='año', palette=\"YlOrBr\")\n",
    "sns.color_palette(\"YlOrBr\", as_cmap=True)\n",
    "plt.xlim(1,12)\n",
    "graf1.set(xlabel= \"Mes\", ylabel = \"Temperatura media anual(ºC)\")"
   ]
  },
  {
   "cell_type": "code",
   "execution_count": 23,
   "metadata": {},
   "outputs": [
    {
     "data": {
      "text/plain": [
       "[Text(0.5, 0, 'Mes'), Text(0, 0.5, 'Temperatura media anual(ºC)')]"
      ]
     },
     "execution_count": 23,
     "metadata": {},
     "output_type": "execute_result"
    },
    {
     "data": {
      "image/png": "[encoded data removed]",
      "text/plain": [
       "<Figure size 800x600 with 1 Axes>"
      ]
     },
     "metadata": {},
     "output_type": "display_data"
    }
   ],
   "source": [
    "#Gráfica temperatura media vs. mes\n",
    "\n",
    "plt.figure(figsize=(8,6))\n",
    "graf1=sns.lineplot(data=vitoria_cada10, x='mes', y='tm_mes', hue='año', palette=\"YlOrBr\")\n",
    "sns.color_palette(\"YlOrBr\", as_cmap=True)\n",
    "plt.xlim(1,12)\n",
    "graf1.set(xlabel= \"Mes\", ylabel = \"Temperatura media anual(ºC)\")"
   ]
  },
  {
   "cell_type": "code",
   "execution_count": 24,
   "metadata": {},
   "outputs": [],
   "source": [
    "#Esto no sale, quería mostrar las gráficas sólo de esos años, pero da error\n",
    "\n",
    "# x=bilbao_df[\"mes\"][0:12]\n",
    "# plt.plot(x,y1)\n",
    "# plt.plot(x,y2)\n",
    "# plt.plot(x,y3)\n",
    "# plt.plot(x,y4)\n",
    "# plt.plot(x,y5)\n",
    "# plt.plot(x,y6)\n",
    "\n",
    "# y1= bilbao_df[bilbao_df[\"año\"]==1970][\"tm_mes\"]\n",
    "# y2= bilbao_df[bilbao_df[\"año\"]==1980][\"tm_mes\"]\n",
    "# y3= bilbao_df[bilbao_df[\"año\"]==1990][\"tm_mes\"]\n",
    "# y4= bilbao_df[bilbao_df[\"año\"]==2000][\"tm_mes\"]\n",
    "# y5= bilbao_df[bilbao_df[\"año\"]==2010][\"tm_mes\"]\n",
    "# y6= bilbao_df[bilbao_df[\"año\"]==2022][\"tm_mes\"]"
   ]
  },
  {
   "cell_type": "code",
   "execution_count": null,
   "metadata": {},
   "outputs": [],
   "source": [
    "# sns.scatterplot(bilbao_anualdf, x='np_300', y= 'nt_30', hue=\"año\", palette=\"YlOrBr\")\n"
   ]
  },
  {
   "cell_type": "code",
   "execution_count": null,
   "metadata": {},
   "outputs": [],
   "source": [
    "# sns.relplot(data=bilbao_anualdf,\n",
    "#             x='np_300', y= 'año', \n",
    "#             sizes=(4, 300),\n",
    "#             alpha=.5, palette=\"YlOrBr\",\n",
    "#             height=6);\n",
    "# sns.color_palette(\"YlOrBr\", as_cmap=True)"
   ]
  },
  {
   "cell_type": "code",
   "execution_count": null,
   "metadata": {},
   "outputs": [],
   "source": [
    "import plotly.express as px"
   ]
  },
  {
   "cell_type": "code",
   "execution_count": 54,
   "metadata": {},
   "outputs": [
    {
     "data": {
      "text/html": [
       "<div>\n",
       "<style scoped>\n",
       "    .dataframe tbody tr th:only-of-type {\n",
       "        vertical-align: middle;\n",
       "    }\n",
       "\n",
       "    .dataframe tbody tr th {\n",
       "        vertical-align: top;\n",
       "    }\n",
       "\n",
       "    .dataframe thead th {\n",
       "        text-align: right;\n",
       "    }\n",
       "</style>\n",
       "<table border=\"1\" class=\"dataframe\">\n",
       "  <thead>\n",
       "    <tr style=\"text-align: right;\">\n",
       "      <th></th>\n",
       "      <th>año</th>\n",
       "      <th>Bilbao</th>\n",
       "      <th>San Sebastian</th>\n",
       "      <th>Vitoria</th>\n",
       "    </tr>\n",
       "  </thead>\n",
       "  <tbody>\n",
       "    <tr>\n",
       "      <th>0</th>\n",
       "      <td>1970</td>\n",
       "      <td>0.0</td>\n",
       "      <td>0.0</td>\n",
       "      <td>0.0</td>\n",
       "    </tr>\n",
       "    <tr>\n",
       "      <th>1</th>\n",
       "      <td>1971</td>\n",
       "      <td>0.0</td>\n",
       "      <td>-0.2</td>\n",
       "      <td>-0.4</td>\n",
       "    </tr>\n",
       "    <tr>\n",
       "      <th>2</th>\n",
       "      <td>1972</td>\n",
       "      <td>-0.7</td>\n",
       "      <td>-0.8</td>\n",
       "      <td>-0.9</td>\n",
       "    </tr>\n",
       "    <tr>\n",
       "      <th>3</th>\n",
       "      <td>1973</td>\n",
       "      <td>-0.3</td>\n",
       "      <td>-0.3</td>\n",
       "      <td>-0.4</td>\n",
       "    </tr>\n",
       "    <tr>\n",
       "      <th>4</th>\n",
       "      <td>1974</td>\n",
       "      <td>-0.1</td>\n",
       "      <td>-0.6</td>\n",
       "      <td>-0.3</td>\n",
       "    </tr>\n",
       "    <tr>\n",
       "      <th>5</th>\n",
       "      <td>1975</td>\n",
       "      <td>0.0</td>\n",
       "      <td>-0.4</td>\n",
       "      <td>0.0</td>\n",
       "    </tr>\n",
       "    <tr>\n",
       "      <th>6</th>\n",
       "      <td>1976</td>\n",
       "      <td>0.1</td>\n",
       "      <td>-0.2</td>\n",
       "      <td>-0.2</td>\n",
       "    </tr>\n",
       "    <tr>\n",
       "      <th>7</th>\n",
       "      <td>1977</td>\n",
       "      <td>0.3</td>\n",
       "      <td>-0.3</td>\n",
       "      <td>0.0</td>\n",
       "    </tr>\n",
       "    <tr>\n",
       "      <th>8</th>\n",
       "      <td>1978</td>\n",
       "      <td>0.3</td>\n",
       "      <td>-0.6</td>\n",
       "      <td>0.0</td>\n",
       "    </tr>\n",
       "    <tr>\n",
       "      <th>9</th>\n",
       "      <td>1979</td>\n",
       "      <td>0.3</td>\n",
       "      <td>-0.4</td>\n",
       "      <td>0.2</td>\n",
       "    </tr>\n",
       "    <tr>\n",
       "      <th>10</th>\n",
       "      <td>1980</td>\n",
       "      <td>0.1</td>\n",
       "      <td>-0.7</td>\n",
       "      <td>0.4</td>\n",
       "    </tr>\n",
       "    <tr>\n",
       "      <th>11</th>\n",
       "      <td>1981</td>\n",
       "      <td>0.6</td>\n",
       "      <td>-0.1</td>\n",
       "      <td>0.3</td>\n",
       "    </tr>\n",
       "    <tr>\n",
       "      <th>12</th>\n",
       "      <td>1982</td>\n",
       "      <td>1.0</td>\n",
       "      <td>0.4</td>\n",
       "      <td>-0.8</td>\n",
       "    </tr>\n",
       "    <tr>\n",
       "      <th>13</th>\n",
       "      <td>1983</td>\n",
       "      <td>1.3</td>\n",
       "      <td>0.5</td>\n",
       "      <td>-0.3</td>\n",
       "    </tr>\n",
       "    <tr>\n",
       "      <th>14</th>\n",
       "      <td>1984</td>\n",
       "      <td>0.2</td>\n",
       "      <td>-0.6</td>\n",
       "      <td>-0.2</td>\n",
       "    </tr>\n",
       "    <tr>\n",
       "      <th>15</th>\n",
       "      <td>1985</td>\n",
       "      <td>1.0</td>\n",
       "      <td>-0.4</td>\n",
       "      <td>0.2</td>\n",
       "    </tr>\n",
       "    <tr>\n",
       "      <th>16</th>\n",
       "      <td>1986</td>\n",
       "      <td>0.8</td>\n",
       "      <td>-0.6</td>\n",
       "      <td>0.1</td>\n",
       "    </tr>\n",
       "    <tr>\n",
       "      <th>17</th>\n",
       "      <td>1987</td>\n",
       "      <td>1.4</td>\n",
       "      <td>0.2</td>\n",
       "      <td>1.1</td>\n",
       "    </tr>\n",
       "    <tr>\n",
       "      <th>18</th>\n",
       "      <td>1988</td>\n",
       "      <td>1.4</td>\n",
       "      <td>0.3</td>\n",
       "      <td>0.8</td>\n",
       "    </tr>\n",
       "    <tr>\n",
       "      <th>19</th>\n",
       "      <td>1989</td>\n",
       "      <td>1.9</td>\n",
       "      <td>1.5</td>\n",
       "      <td>0.0</td>\n",
       "    </tr>\n",
       "    <tr>\n",
       "      <th>20</th>\n",
       "      <td>1990</td>\n",
       "      <td>1.4</td>\n",
       "      <td>0.9</td>\n",
       "      <td>0.0</td>\n",
       "    </tr>\n",
       "    <tr>\n",
       "      <th>21</th>\n",
       "      <td>1991</td>\n",
       "      <td>0.3</td>\n",
       "      <td>-0.2</td>\n",
       "      <td>-0.1</td>\n",
       "    </tr>\n",
       "    <tr>\n",
       "      <th>22</th>\n",
       "      <td>1992</td>\n",
       "      <td>0.4</td>\n",
       "      <td>-0.1</td>\n",
       "      <td>1.2</td>\n",
       "    </tr>\n",
       "    <tr>\n",
       "      <th>23</th>\n",
       "      <td>1993</td>\n",
       "      <td>0.3</td>\n",
       "      <td>0.1</td>\n",
       "      <td>1.2</td>\n",
       "    </tr>\n",
       "    <tr>\n",
       "      <th>24</th>\n",
       "      <td>1994</td>\n",
       "      <td>1.3</td>\n",
       "      <td>0.7</td>\n",
       "      <td>0.3</td>\n",
       "    </tr>\n",
       "    <tr>\n",
       "      <th>25</th>\n",
       "      <td>1995</td>\n",
       "      <td>1.5</td>\n",
       "      <td>0.9</td>\n",
       "      <td>1.6</td>\n",
       "    </tr>\n",
       "    <tr>\n",
       "      <th>26</th>\n",
       "      <td>1996</td>\n",
       "      <td>0.6</td>\n",
       "      <td>0.2</td>\n",
       "      <td>0.5</td>\n",
       "    </tr>\n",
       "    <tr>\n",
       "      <th>27</th>\n",
       "      <td>1997</td>\n",
       "      <td>1.9</td>\n",
       "      <td>1.5</td>\n",
       "      <td>0.7</td>\n",
       "    </tr>\n",
       "    <tr>\n",
       "      <th>28</th>\n",
       "      <td>1998</td>\n",
       "      <td>1.1</td>\n",
       "      <td>0.6</td>\n",
       "      <td>0.7</td>\n",
       "    </tr>\n",
       "    <tr>\n",
       "      <th>29</th>\n",
       "      <td>1999</td>\n",
       "      <td>1.0</td>\n",
       "      <td>0.5</td>\n",
       "      <td>0.6</td>\n",
       "    </tr>\n",
       "    <tr>\n",
       "      <th>30</th>\n",
       "      <td>2002</td>\n",
       "      <td>1.1</td>\n",
       "      <td>0.7</td>\n",
       "      <td>0.8</td>\n",
       "    </tr>\n",
       "    <tr>\n",
       "      <th>31</th>\n",
       "      <td>2003</td>\n",
       "      <td>2.2</td>\n",
       "      <td>0.6</td>\n",
       "      <td>1.6</td>\n",
       "    </tr>\n",
       "    <tr>\n",
       "      <th>32</th>\n",
       "      <td>2004</td>\n",
       "      <td>1.2</td>\n",
       "      <td>0.9</td>\n",
       "      <td>0.5</td>\n",
       "    </tr>\n",
       "    <tr>\n",
       "      <th>33</th>\n",
       "      <td>2005</td>\n",
       "      <td>1.2</td>\n",
       "      <td>1.4</td>\n",
       "      <td>0.2</td>\n",
       "    </tr>\n",
       "    <tr>\n",
       "      <th>34</th>\n",
       "      <td>2006</td>\n",
       "      <td>2.0</td>\n",
       "      <td>0.5</td>\n",
       "      <td>1.4</td>\n",
       "    </tr>\n",
       "    <tr>\n",
       "      <th>35</th>\n",
       "      <td>2007</td>\n",
       "      <td>1.0</td>\n",
       "      <td>0.3</td>\n",
       "      <td>0.2</td>\n",
       "    </tr>\n",
       "    <tr>\n",
       "      <th>36</th>\n",
       "      <td>2008</td>\n",
       "      <td>1.2</td>\n",
       "      <td>1.3</td>\n",
       "      <td>0.3</td>\n",
       "    </tr>\n",
       "    <tr>\n",
       "      <th>37</th>\n",
       "      <td>2009</td>\n",
       "      <td>1.5</td>\n",
       "      <td>0.2</td>\n",
       "      <td>1.0</td>\n",
       "    </tr>\n",
       "    <tr>\n",
       "      <th>38</th>\n",
       "      <td>2010</td>\n",
       "      <td>1.0</td>\n",
       "      <td>0.3</td>\n",
       "      <td>-0.2</td>\n",
       "    </tr>\n",
       "    <tr>\n",
       "      <th>39</th>\n",
       "      <td>2011</td>\n",
       "      <td>2.6</td>\n",
       "      <td>0.4</td>\n",
       "      <td>1.4</td>\n",
       "    </tr>\n",
       "    <tr>\n",
       "      <th>40</th>\n",
       "      <td>2012</td>\n",
       "      <td>0.8</td>\n",
       "      <td>-0.1</td>\n",
       "      <td>0.6</td>\n",
       "    </tr>\n",
       "    <tr>\n",
       "      <th>41</th>\n",
       "      <td>2013</td>\n",
       "      <td>0.9</td>\n",
       "      <td>1.4</td>\n",
       "      <td>0.5</td>\n",
       "    </tr>\n",
       "    <tr>\n",
       "      <th>42</th>\n",
       "      <td>2014</td>\n",
       "      <td>2.5</td>\n",
       "      <td>0.4</td>\n",
       "      <td>1.6</td>\n",
       "    </tr>\n",
       "    <tr>\n",
       "      <th>43</th>\n",
       "      <td>2015</td>\n",
       "      <td>1.6</td>\n",
       "      <td>0.2</td>\n",
       "      <td>1.2</td>\n",
       "    </tr>\n",
       "    <tr>\n",
       "      <th>44</th>\n",
       "      <td>2016</td>\n",
       "      <td>1.3</td>\n",
       "      <td>1.3</td>\n",
       "      <td>0.9</td>\n",
       "    </tr>\n",
       "    <tr>\n",
       "      <th>45</th>\n",
       "      <td>2017</td>\n",
       "      <td>1.7</td>\n",
       "      <td>1.0</td>\n",
       "      <td>1.3</td>\n",
       "    </tr>\n",
       "    <tr>\n",
       "      <th>46</th>\n",
       "      <td>2018</td>\n",
       "      <td>1.6</td>\n",
       "      <td>1.0</td>\n",
       "      <td>1.2</td>\n",
       "    </tr>\n",
       "    <tr>\n",
       "      <th>47</th>\n",
       "      <td>2018</td>\n",
       "      <td>1.6</td>\n",
       "      <td>0.9</td>\n",
       "      <td>1.3</td>\n",
       "    </tr>\n",
       "    <tr>\n",
       "      <th>48</th>\n",
       "      <td>2019</td>\n",
       "      <td>1.6</td>\n",
       "      <td>1.0</td>\n",
       "      <td>1.6</td>\n",
       "    </tr>\n",
       "    <tr>\n",
       "      <th>49</th>\n",
       "      <td>2020</td>\n",
       "      <td>2.3</td>\n",
       "      <td>1.0</td>\n",
       "      <td>0.9</td>\n",
       "    </tr>\n",
       "    <tr>\n",
       "      <th>50</th>\n",
       "      <td>2021</td>\n",
       "      <td>1.4</td>\n",
       "      <td>1.7</td>\n",
       "      <td>2.3</td>\n",
       "    </tr>\n",
       "    <tr>\n",
       "      <th>51</th>\n",
       "      <td>2022</td>\n",
       "      <td>2.7</td>\n",
       "      <td>0.7</td>\n",
       "      <td>NaN</td>\n",
       "    </tr>\n",
       "  </tbody>\n",
       "</table>\n",
       "</div>"
      ],
      "text/plain": [
       "     año  Bilbao  San Sebastian  Vitoria\n",
       "0   1970     0.0            0.0      0.0\n",
       "1   1971     0.0           -0.2     -0.4\n",
       "2   1972    -0.7           -0.8     -0.9\n",
       "3   1973    -0.3           -0.3     -0.4\n",
       "4   1974    -0.1           -0.6     -0.3\n",
       "5   1975     0.0           -0.4      0.0\n",
       "6   1976     0.1           -0.2     -0.2\n",
       "7   1977     0.3           -0.3      0.0\n",
       "8   1978     0.3           -0.6      0.0\n",
       "9   1979     0.3           -0.4      0.2\n",
       "10  1980     0.1           -0.7      0.4\n",
       "11  1981     0.6           -0.1      0.3\n",
       "12  1982     1.0            0.4     -0.8\n",
       "13  1983     1.3            0.5     -0.3\n",
       "14  1984     0.2           -0.6     -0.2\n",
       "15  1985     1.0           -0.4      0.2\n",
       "16  1986     0.8           -0.6      0.1\n",
       "17  1987     1.4            0.2      1.1\n",
       "18  1988     1.4            0.3      0.8\n",
       "19  1989     1.9            1.5      0.0\n",
       "20  1990     1.4            0.9      0.0\n",
       "21  1991     0.3           -0.2     -0.1\n",
       "22  1992     0.4           -0.1      1.2\n",
       "23  1993     0.3            0.1      1.2\n",
       "24  1994     1.3            0.7      0.3\n",
       "25  1995     1.5            0.9      1.6\n",
       "26  1996     0.6            0.2      0.5\n",
       "27  1997     1.9            1.5      0.7\n",
       "28  1998     1.1            0.6      0.7\n",
       "29  1999     1.0            0.5      0.6\n",
       "30  2002     1.1            0.7      0.8\n",
       "31  2003     2.2            0.6      1.6\n",
       "32  2004     1.2            0.9      0.5\n",
       "33  2005     1.2            1.4      0.2\n",
       "34  2006     2.0            0.5      1.4\n",
       "35  2007     1.0            0.3      0.2\n",
       "36  2008     1.2            1.3      0.3\n",
       "37  2009     1.5            0.2      1.0\n",
       "38  2010     1.0            0.3     -0.2\n",
       "39  2011     2.6            0.4      1.4\n",
       "40  2012     0.8           -0.1      0.6\n",
       "41  2013     0.9            1.4      0.5\n",
       "42  2014     2.5            0.4      1.6\n",
       "43  2015     1.6            0.2      1.2\n",
       "44  2016     1.3            1.3      0.9\n",
       "45  2017     1.7            1.0      1.3\n",
       "46  2018     1.6            1.0      1.2\n",
       "47  2018     1.6            0.9      1.3\n",
       "48  2019     1.6            1.0      1.6\n",
       "49  2020     2.3            1.0      0.9\n",
       "50  2021     1.4            1.7      2.3\n",
       "51  2022     2.7            0.7      NaN"
      ]
     },
     "execution_count": 54,
     "metadata": {},
     "output_type": "execute_result"
    }
   ],
   "source": [
    "calentamiento = pd.DataFrame()\n",
    "calentamiento[\"año\"]=bilbao_anualdf[\"año\"]\n",
    "calentamiento[\"Bilbao\"]= bilbao_anualdf[\"tm_mes\"].transform(lambda x: x - x.iloc[0])\n",
    "calentamiento[\"San Sebastian\"]= donosti_anualdf[\"tm_mes\"].transform(lambda x: x - x.iloc[0])\n",
    "calentamiento[\"Vitoria\"]= vitoria_anualdf[\"tm_mes\"].transform(lambda x: x - x.iloc[0])\n",
    "calentamiento\n",
    "\n",
    "# Falta por acabar esta gráfica, la más importante!!! Y pasarla al archivo graficas.\n",
    "\n",
    "# calentamiento.iloc[51, 3]=2.3\n",
    "# calentamiento.iloc[51,2]=2\n",
    "\n",
    "# bilbao_calentamiento[\"año\"]= bilbao_calentamiento[\"año\"] + 1970\n",
    "# bilbao_calentamiento.head()"
   ]
  },
  {
   "cell_type": "code",
   "execution_count": 26,
   "metadata": {},
   "outputs": [
    {
     "data": {
      "text/plain": [
       "[Text(44.125, 0.5, 'Temperatura media anual(ºC)')]"
      ]
     },
     "execution_count": 26,
     "metadata": {},
     "output_type": "execute_result"
    },
    {
     "data": {
      "image/png": "[encoded data removed]",
      "text/plain": [
       "<Figure size 640x480 with 1 Axes>"
      ]
     },
     "metadata": {},
     "output_type": "display_data"
    }
   ],
   "source": [
    "\n",
    "# Gráfico de enjambre para temperatura media\n",
    "t_media=pd.DataFrame()\n",
    "t_media[\"Año\"]=bilbao_anualdf[\"año\"]\n",
    "t_media[\"Bilbao\"]=bilbao_anualdf[\"tm_mes\"]\n",
    "t_media[\"San Sebastian\"]=donosti_anualdf[\"tm_mes\"]\n",
    "t_media[\"Vitoria\"]=vitoria_anualdf[\"tm_mes\"]\n",
    "t_media.head()\n",
    "t_media_melted=t_media.melt(id_vars=[\"Año\"], value_vars=[\"Bilbao\", \"San Sebastian\", \"Vitoria\"], var_name='Ciudad')\n",
    "t_media_melted.head()\n",
    "\n",
    "q= sns.swarmplot(t_media_melted, x=\"Ciudad\", y=\"value\", hue=\"Año\")\n",
    "q.set(ylabel = \"Temperatura media anual(ºC)\")\n"
   ]
  },
  {
   "cell_type": "code",
   "execution_count": 27,
   "metadata": {},
   "outputs": [
    {
     "data": {
      "text/plain": [
       "[Text(27.125, 0.5, 'Precipitación anual(l/m2)')]"
      ]
     },
     "execution_count": 27,
     "metadata": {},
     "output_type": "execute_result"
    },
    {
     "data": {
      "image/png": "[encoded data removed]",
      "text/plain": [
       "<Figure size 640x480 with 1 Axes>"
      ]
     },
     "metadata": {},
     "output_type": "display_data"
    }
   ],
   "source": [
    "#Lluvias\n",
    "\n",
    "precipitaciones=pd.DataFrame()\n",
    "precipitaciones[\"Año\"]=bilbao_anualdf[\"año\"]\n",
    "precipitaciones[\"Bilbao\"]=bilbao_anualdf[\"p_mes\"]\n",
    "precipitaciones[\"San Sebastian\"]=donosti_anualdf[\"p_mes\"]\n",
    "precipitaciones[\"Vitoria\"]=vitoria_anualdf[\"p_mes\"]\n",
    "\n",
    "precipitaciones_melted=precipitaciones.melt(id_vars=[\"Año\"], value_vars=[\"Bilbao\", \"San Sebastian\", \"Vitoria\"], var_name='Ciudad')\n",
    "precipitaciones_melted.head()\n",
    "\n",
    "h= sns.swarmplot(precipitaciones_melted, x=\"Ciudad\", y=\"value\", hue=\"Año\")\n",
    "h.set(ylabel = \"Precipitación anual(l/m2)\")"
   ]
  },
  {
   "cell_type": "code",
   "execution_count": 28,
   "metadata": {},
   "outputs": [
    {
     "data": {
      "text/html": [
       "<div>\n",
       "<style scoped>\n",
       "    .dataframe tbody tr th:only-of-type {\n",
       "        vertical-align: middle;\n",
       "    }\n",
       "\n",
       "    .dataframe tbody tr th {\n",
       "        vertical-align: top;\n",
       "    }\n",
       "\n",
       "    .dataframe thead th {\n",
       "        text-align: right;\n",
       "    }\n",
       "</style>\n",
       "<table border=\"1\" class=\"dataframe\">\n",
       "  <thead>\n",
       "    <tr style=\"text-align: right;\">\n",
       "      <th></th>\n",
       "      <th>año</th>\n",
       "      <th>tm_mes</th>\n",
       "      <th>tm_max</th>\n",
       "      <th>tm_min</th>\n",
       "      <th>ta_max</th>\n",
       "      <th>ta_min</th>\n",
       "      <th>ti_max</th>\n",
       "      <th>ts_min</th>\n",
       "      <th>p_mes</th>\n",
       "      <th>np_300</th>\n",
       "      <th>nt_30</th>\n",
       "      <th>inso</th>\n",
       "    </tr>\n",
       "  </thead>\n",
       "  <tbody>\n",
       "    <tr>\n",
       "      <th>0</th>\n",
       "      <td>1970</td>\n",
       "      <td>13.6</td>\n",
       "      <td>18.3</td>\n",
       "      <td>8.8</td>\n",
       "      <td>36.2</td>\n",
       "      <td>-3.8</td>\n",
       "      <td>2.4</td>\n",
       "      <td>19.0</td>\n",
       "      <td>1159.5</td>\n",
       "      <td>6.0</td>\n",
       "      <td>17.0</td>\n",
       "      <td>4.1</td>\n",
       "    </tr>\n",
       "    <tr>\n",
       "      <th>1</th>\n",
       "      <td>1971</td>\n",
       "      <td>13.6</td>\n",
       "      <td>18.3</td>\n",
       "      <td>8.8</td>\n",
       "      <td>35.6</td>\n",
       "      <td>-4.6</td>\n",
       "      <td>2.8</td>\n",
       "      <td>20.4</td>\n",
       "      <td>1441.0</td>\n",
       "      <td>9.0</td>\n",
       "      <td>14.0</td>\n",
       "      <td>4.1</td>\n",
       "    </tr>\n",
       "    <tr>\n",
       "      <th>2</th>\n",
       "      <td>1972</td>\n",
       "      <td>12.9</td>\n",
       "      <td>17.5</td>\n",
       "      <td>8.3</td>\n",
       "      <td>34.8</td>\n",
       "      <td>-1.8</td>\n",
       "      <td>6.8</td>\n",
       "      <td>19.6</td>\n",
       "      <td>1252.0</td>\n",
       "      <td>6.0</td>\n",
       "      <td>2.0</td>\n",
       "      <td>4.0</td>\n",
       "    </tr>\n",
       "    <tr>\n",
       "      <th>3</th>\n",
       "      <td>1973</td>\n",
       "      <td>13.3</td>\n",
       "      <td>18.2</td>\n",
       "      <td>8.5</td>\n",
       "      <td>35.4</td>\n",
       "      <td>-2.8</td>\n",
       "      <td>4.4</td>\n",
       "      <td>20.6</td>\n",
       "      <td>1303.1</td>\n",
       "      <td>8.0</td>\n",
       "      <td>13.0</td>\n",
       "      <td>4.3</td>\n",
       "    </tr>\n",
       "    <tr>\n",
       "      <th>4</th>\n",
       "      <td>1974</td>\n",
       "      <td>13.5</td>\n",
       "      <td>18.0</td>\n",
       "      <td>9.0</td>\n",
       "      <td>38.6</td>\n",
       "      <td>-1.8</td>\n",
       "      <td>6.0</td>\n",
       "      <td>18.8</td>\n",
       "      <td>1448.9</td>\n",
       "      <td>9.0</td>\n",
       "      <td>10.0</td>\n",
       "      <td>3.8</td>\n",
       "    </tr>\n",
       "  </tbody>\n",
       "</table>\n",
       "</div>"
      ],
      "text/plain": [
       "    año  tm_mes  tm_max  tm_min  ta_max  ta_min  ti_max  ts_min   p_mes  \\\n",
       "0  1970    13.6    18.3     8.8    36.2    -3.8     2.4    19.0  1159.5   \n",
       "1  1971    13.6    18.3     8.8    35.6    -4.6     2.8    20.4  1441.0   \n",
       "2  1972    12.9    17.5     8.3    34.8    -1.8     6.8    19.6  1252.0   \n",
       "3  1973    13.3    18.2     8.5    35.4    -2.8     4.4    20.6  1303.1   \n",
       "4  1974    13.5    18.0     9.0    38.6    -1.8     6.0    18.8  1448.9   \n",
       "\n",
       "   np_300  nt_30  inso  \n",
       "0     6.0   17.0   4.1  \n",
       "1     9.0   14.0   4.1  \n",
       "2     6.0    2.0   4.0  \n",
       "3     8.0   13.0   4.3  \n",
       "4     9.0   10.0   3.8  "
      ]
     },
     "execution_count": 28,
     "metadata": {},
     "output_type": "execute_result"
    }
   ],
   "source": [
    "bilbao_anualdf.head()"
   ]
  },
  {
   "cell_type": "code",
   "execution_count": 32,
   "metadata": {},
   "outputs": [
    {
     "data": {
      "application/vnd.plotly.v1+json": {
       "config": {
        "linkText": "Export to plotly.com",
        "plotlyServerURL": "https://plotly.com",
        "showLink": false
       },
       "data": [
        {
         "marker": {
          "color": [
           17,
           14,
           2,
           13,
           10,
           9,
           19,
           2,
           6,
           7,
           10,
           14,
           19,
           21,
           13,
           33,
           19,
           17,
           13,
           22,
           20,
           20,
           19,
           8,
           12,
           13,
           12,
           14,
           9,
           13,
           5,
           31,
           21,
           20,
           22,
           13,
           8,
           16,
           10,
           25,
           21,
           20,
           26,
           23,
           20,
           20,
           13,
           13,
           18,
           21,
           10,
           35
          ],
          "showscale": true,
          "size": [
           17,
           14,
           2,
           13,
           10,
           9,
           19,
           2,
           6,
           7,
           10,
           14,
           19,
           21,
           13,
           33,
           19,
           17,
           13,
           22,
           20,
           20,
           19,
           8,
           12,
           13,
           12,
           14,
           9,
           13,
           5,
           31,
           21,
           20,
           22,
           13,
           8,
           16,
           10,
           25,
           21,
           20,
           26,
           23,
           20,
           20,
           13,
           13,
           18,
           21,
           10,
           35
          ]
         },
         "mode": "markers",
         "text": [
          1970,
          1971,
          1972,
          1973,
          1974,
          1975,
          1976,
          1977,
          1978,
          1979,
          1980,
          1981,
          1982,
          1983,
          1984,
          1985,
          1986,
          1987,
          1988,
          1989,
          1990,
          1991,
          1992,
          1993,
          1994,
          1995,
          1996,
          1997,
          1998,
          1999,
          2002,
          2003,
          2004,
          2005,
          2006,
          2007,
          2008,
          2009,
          2010,
          2011,
          2012,
          2013,
          2014,
          2015,
          2016,
          2017,
          2018,
          2018,
          2019,
          2020,
          2021,
          2022
         ],
         "type": "scatter",
         "x": [
          1970,
          1971,
          1972,
          1973,
          1974,
          1975,
          1976,
          1977,
          1978,
          1979,
          1980,
          1981,
          1982,
          1983,
          1984,
          1985,
          1986,
          1987,
          1988,
          1989,
          1990,
          1991,
          1992,
          1993,
          1994,
          1995,
          1996,
          1997,
          1998,
          1999,
          2002,
          2003,
          2004,
          2005,
          2006,
          2007,
          2008,
          2009,
          2010,
          2011,
          2012,
          2013,
          2014,
          2015,
          2016,
          2017,
          2018,
          2018,
          2019,
          2020,
          2021,
          2022
         ],
         "y": [
          6,
          9,
          6,
          8,
          9,
          7,
          4,
          7,
          10,
          9,
          6,
          3,
          2,
          5,
          5,
          5,
          3,
          4,
          4,
          6,
          6,
          6,
          9,
          4,
          9,
          8,
          6,
          3,
          4,
          1,
          4,
          2,
          5,
          6,
          5,
          5,
          8,
          6,
          3,
          4,
          2,
          6,
          4,
          6,
          9,
          6,
          9,
          9,
          6,
          3,
          10,
          3
         ]
        }
       ],
       "layout": {
        "barmode": "overlay",
        "template": {
         "data": {
          "bar": [
           {
            "error_x": {
             "color": "#2a3f5f"
            },
            "error_y": {
             "color": "#2a3f5f"
            },
            "marker": {
             "line": {
              "color": "#E5ECF6",
              "width": 0.5
             },
             "pattern": {
              "fillmode": "overlay",
              "size": 10,
              "solidity": 0.2
             }
            },
            "type": "bar"
           }
          ],
          "barpolar": [
           {
            "marker": {
             "line": {
              "color": "#E5ECF6",
              "width": 0.5
             },
             "pattern": {
              "fillmode": "overlay",
              "size": 10,
              "solidity": 0.2
             }
            },
            "type": "barpolar"
           }
          ],
          "carpet": [
           {
            "aaxis": {
             "endlinecolor": "#2a3f5f",
             "gridcolor": "white",
             "linecolor": "white",
             "minorgridcolor": "white",
             "startlinecolor": "#2a3f5f"
            },
            "baxis": {
             "endlinecolor": "#2a3f5f",
             "gridcolor": "white",
             "linecolor": "white",
             "minorgridcolor": "white",
             "startlinecolor": "#2a3f5f"
            },
            "type": "carpet"
           }
          ],
          "choropleth": [
           {
            "colorbar": {
             "outlinewidth": 0,
             "ticks": ""
            },
            "type": "choropleth"
           }
          ],
          "contour": [
           {
            "colorbar": {
             "outlinewidth": 0,
             "ticks": ""
            },
            "colorscale": [
             [
              0,
              "#0d0887"
             ],
             [
              0.1111111111111111,
              "#46039f"
             ],
             [
              0.2222222222222222,
              "#7201a8"
             ],
             [
              0.3333333333333333,
              "#9c179e"
             ],
             [
              0.4444444444444444,
              "#bd3786"
             ],
             [
              0.5555555555555556,
              "#d8576b"
             ],
             [
              0.6666666666666666,
              "#ed7953"
             ],
             [
              0.7777777777777778,
              "#fb9f3a"
             ],
             [
              0.8888888888888888,
              "#fdca26"
             ],
             [
              1,
              "#f0f921"
             ]
            ],
            "type": "contour"
           }
          ],
          "contourcarpet": [
           {
            "colorbar": {
             "outlinewidth": 0,
             "ticks": ""
            },
            "type": "contourcarpet"
           }
          ],
          "heatmap": [
           {
            "colorbar": {
             "outlinewidth": 0,
             "ticks": ""
            },
            "colorscale": [
             [
              0,
              "#0d0887"
             ],
             [
              0.1111111111111111,
              "#46039f"
             ],
             [
              0.2222222222222222,
              "#7201a8"
             ],
             [
              0.3333333333333333,
              "#9c179e"
             ],
             [
              0.4444444444444444,
              "#bd3786"
             ],
             [
              0.5555555555555556,
              "#d8576b"
             ],
             [
              0.6666666666666666,
              "#ed7953"
             ],
             [
              0.7777777777777778,
              "#fb9f3a"
             ],
             [
              0.8888888888888888,
              "#fdca26"
             ],
             [
              1,
              "#f0f921"
             ]
            ],
            "type": "heatmap"
           }
          ],
          "heatmapgl": [
           {
            "colorbar": {
             "outlinewidth": 0,
             "ticks": ""
            },
            "colorscale": [
             [
              0,
              "#0d0887"
             ],
             [
              0.1111111111111111,
              "#46039f"
             ],
             [
              0.2222222222222222,
              "#7201a8"
             ],
             [
              0.3333333333333333,
              "#9c179e"
             ],
             [
              0.4444444444444444,
              "#bd3786"
             ],
             [
              0.5555555555555556,
              "#d8576b"
             ],
             [
              0.6666666666666666,
              "#ed7953"
             ],
             [
              0.7777777777777778,
              "#fb9f3a"
             ],
             [
              0.8888888888888888,
              "#fdca26"
             ],
             [
              1,
              "#f0f921"
             ]
            ],
            "type": "heatmapgl"
           }
          ],
          "histogram": [
           {
            "marker": {
             "pattern": {
              "fillmode": "overlay",
              "size": 10,
              "solidity": 0.2
             }
            },
            "type": "histogram"
           }
          ],
          "histogram2d": [
           {
            "colorbar": {
             "outlinewidth": 0,
             "ticks": ""
            },
            "colorscale": [
             [
              0,
              "#0d0887"
             ],
             [
              0.1111111111111111,
              "#46039f"
             ],
             [
              0.2222222222222222,
              "#7201a8"
             ],
             [
              0.3333333333333333,
              "#9c179e"
             ],
             [
              0.4444444444444444,
              "#bd3786"
             ],
             [
              0.5555555555555556,
              "#d8576b"
             ],
             [
              0.6666666666666666,
              "#ed7953"
             ],
             [
              0.7777777777777778,
              "#fb9f3a"
             ],
             [
              0.8888888888888888,
              "#fdca26"
             ],
             [
              1,
              "#f0f921"
             ]
            ],
            "type": "histogram2d"
           }
          ],
          "histogram2dcontour": [
           {
            "colorbar": {
             "outlinewidth": 0,
             "ticks": ""
            },
            "colorscale": [
             [
              0,
              "#0d0887"
             ],
             [
              0.1111111111111111,
              "#46039f"
             ],
             [
              0.2222222222222222,
              "#7201a8"
             ],
             [
              0.3333333333333333,
              "#9c179e"
             ],
             [
              0.4444444444444444,
              "#bd3786"
             ],
             [
              0.5555555555555556,
              "#d8576b"
             ],
             [
              0.6666666666666666,
              "#ed7953"
             ],
             [
              0.7777777777777778,
              "#fb9f3a"
             ],
             [
              0.8888888888888888,
              "#fdca26"
             ],
             [
              1,
              "#f0f921"
             ]
            ],
            "type": "histogram2dcontour"
           }
          ],
          "mesh3d": [
           {
            "colorbar": {
             "outlinewidth": 0,
             "ticks": ""
            },
            "type": "mesh3d"
           }
          ],
          "parcoords": [
           {
            "line": {
             "colorbar": {
              "outlinewidth": 0,
              "ticks": ""
             }
            },
            "type": "parcoords"
           }
          ],
          "pie": [
           {
            "automargin": true,
            "type": "pie"
           }
          ],
          "scatter": [
           {
            "fillpattern": {
             "fillmode": "overlay",
             "size": 10,
             "solidity": 0.2
            },
            "type": "scatter"
           }
          ],
          "scatter3d": [
           {
            "line": {
             "colorbar": {
              "outlinewidth": 0,
              "ticks": ""
             }
            },
            "marker": {
             "colorbar": {
              "outlinewidth": 0,
              "ticks": ""
             }
            },
            "type": "scatter3d"
           }
          ],
          "scattercarpet": [
           {
            "marker": {
             "colorbar": {
              "outlinewidth": 0,
              "ticks": ""
             }
            },
            "type": "scattercarpet"
           }
          ],
          "scattergeo": [
           {
            "marker": {
             "colorbar": {
              "outlinewidth": 0,
              "ticks": ""
             }
            },
            "type": "scattergeo"
           }
          ],
          "scattergl": [
           {
            "marker": {
             "colorbar": {
              "outlinewidth": 0,
              "ticks": ""
             }
            },
            "type": "scattergl"
           }
          ],
          "scattermapbox": [
           {
            "marker": {
             "colorbar": {
              "outlinewidth": 0,
              "ticks": ""
             }
            },
            "type": "scattermapbox"
           }
          ],
          "scatterpolar": [
           {
            "marker": {
             "colorbar": {
              "outlinewidth": 0,
              "ticks": ""
             }
            },
            "type": "scatterpolar"
           }
          ],
          "scatterpolargl": [
           {
            "marker": {
             "colorbar": {
              "outlinewidth": 0,
              "ticks": ""
             }
            },
            "type": "scatterpolargl"
           }
          ],
          "scatterternary": [
           {
            "marker": {
             "colorbar": {
              "outlinewidth": 0,
              "ticks": ""
             }
            },
            "type": "scatterternary"
           }
          ],
          "surface": [
           {
            "colorbar": {
             "outlinewidth": 0,
             "ticks": ""
            },
            "colorscale": [
             [
              0,
              "#0d0887"
             ],
             [
              0.1111111111111111,
              "#46039f"
             ],
             [
              0.2222222222222222,
              "#7201a8"
             ],
             [
              0.3333333333333333,
              "#9c179e"
             ],
             [
              0.4444444444444444,
              "#bd3786"
             ],
             [
              0.5555555555555556,
              "#d8576b"
             ],
             [
              0.6666666666666666,
              "#ed7953"
             ],
             [
              0.7777777777777778,
              "#fb9f3a"
             ],
             [
              0.8888888888888888,
              "#fdca26"
             ],
             [
              1,
              "#f0f921"
             ]
            ],
            "type": "surface"
           }
          ],
          "table": [
           {
            "cells": {
             "fill": {
              "color": "#EBF0F8"
             },
             "line": {
              "color": "white"
             }
            },
            "header": {
             "fill": {
              "color": "#C8D4E3"
             },
             "line": {
              "color": "white"
             }
            },
            "type": "table"
           }
          ]
         },
         "layout": {
          "annotationdefaults": {
           "arrowcolor": "#2a3f5f",
           "arrowhead": 0,
           "arrowwidth": 1
          },
          "autotypenumbers": "strict",
          "coloraxis": {
           "colorbar": {
            "outlinewidth": 0,
            "ticks": ""
           }
          },
          "colorscale": {
           "diverging": [
            [
             0,
             "#8e0152"
            ],
            [
             0.1,
             "#c51b7d"
            ],
            [
             0.2,
             "#de77ae"
            ],
            [
             0.3,
             "#f1b6da"
            ],
            [
             0.4,
             "#fde0ef"
            ],
            [
             0.5,
             "#f7f7f7"
            ],
            [
             0.6,
             "#e6f5d0"
            ],
            [
             0.7,
             "#b8e186"
            ],
            [
             0.8,
             "#7fbc41"
            ],
            [
             0.9,
             "#4d9221"
            ],
            [
             1,
             "#276419"
            ]
           ],
           "sequential": [
            [
             0,
             "#0d0887"
            ],
            [
             0.1111111111111111,
             "#46039f"
            ],
            [
             0.2222222222222222,
             "#7201a8"
            ],
            [
             0.3333333333333333,
             "#9c179e"
            ],
            [
             0.4444444444444444,
             "#bd3786"
            ],
            [
             0.5555555555555556,
             "#d8576b"
            ],
            [
             0.6666666666666666,
             "#ed7953"
            ],
            [
             0.7777777777777778,
             "#fb9f3a"
            ],
            [
             0.8888888888888888,
             "#fdca26"
            ],
            [
             1,
             "#f0f921"
            ]
           ],
           "sequentialminus": [
            [
             0,
             "#0d0887"
            ],
            [
             0.1111111111111111,
             "#46039f"
            ],
            [
             0.2222222222222222,
             "#7201a8"
            ],
            [
             0.3333333333333333,
             "#9c179e"
            ],
            [
             0.4444444444444444,
             "#bd3786"
            ],
            [
             0.5555555555555556,
             "#d8576b"
            ],
            [
             0.6666666666666666,
             "#ed7953"
            ],
            [
             0.7777777777777778,
             "#fb9f3a"
            ],
            [
             0.8888888888888888,
             "#fdca26"
            ],
            [
             1,
             "#f0f921"
            ]
           ]
          },
          "colorway": [
           "#636efa",
           "#EF553B",
           "#00cc96",
           "#ab63fa",
           "#FFA15A",
           "#19d3f3",
           "#FF6692",
           "#B6E880",
           "#FF97FF",
           "#FECB52"
          ],
          "font": {
           "color": "#2a3f5f"
          },
          "geo": {
           "bgcolor": "white",
           "lakecolor": "white",
           "landcolor": "#E5ECF6",
           "showlakes": true,
           "showland": true,
           "subunitcolor": "white"
          },
          "hoverlabel": {
           "align": "left"
          },
          "hovermode": "closest",
          "mapbox": {
           "style": "light"
          },
          "paper_bgcolor": "white",
          "plot_bgcolor": "#E5ECF6",
          "polar": {
           "angularaxis": {
            "gridcolor": "white",
            "linecolor": "white",
            "ticks": ""
           },
           "bgcolor": "#E5ECF6",
           "radialaxis": {
            "gridcolor": "white",
            "linecolor": "white",
            "ticks": ""
           }
          },
          "scene": {
           "xaxis": {
            "backgroundcolor": "#E5ECF6",
            "gridcolor": "white",
            "gridwidth": 2,
            "linecolor": "white",
            "showbackground": true,
            "ticks": "",
            "zerolinecolor": "white"
           },
           "yaxis": {
            "backgroundcolor": "#E5ECF6",
            "gridcolor": "white",
            "gridwidth": 2,
            "linecolor": "white",
            "showbackground": true,
            "ticks": "",
            "zerolinecolor": "white"
           },
           "zaxis": {
            "backgroundcolor": "#E5ECF6",
            "gridcolor": "white",
            "gridwidth": 2,
            "linecolor": "white",
            "showbackground": true,
            "ticks": "",
            "zerolinecolor": "white"
           }
          },
          "shapedefaults": {
           "line": {
            "color": "#2a3f5f"
           }
          },
          "ternary": {
           "aaxis": {
            "gridcolor": "white",
            "linecolor": "white",
            "ticks": ""
           },
           "baxis": {
            "gridcolor": "white",
            "linecolor": "white",
            "ticks": ""
           },
           "bgcolor": "#E5ECF6",
           "caxis": {
            "gridcolor": "white",
            "linecolor": "white",
            "ticks": ""
           }
          },
          "title": {
           "x": 0.05
          },
          "xaxis": {
           "automargin": true,
           "gridcolor": "white",
           "linecolor": "white",
           "ticks": "",
           "title": {
            "standoff": 15
           },
           "zerolinecolor": "white",
           "zerolinewidth": 2
          },
          "yaxis": {
           "automargin": true,
           "gridcolor": "white",
           "linecolor": "white",
           "ticks": "",
           "title": {
            "standoff": 15
           },
           "zerolinecolor": "white",
           "zerolinewidth": 2
          }
         }
        },
        "title": {
         "text": " Días precipitaciones > 30 l/m2 vs. Días temperatura >30ºC"
        },
        "xaxis": {
         "title": {
          "text": "Año"
         }
        },
        "yaxis": {
         "title": {
          "text": "Días precipitaciones > 30 l/m2"
         }
        }
       }
      },
      "text/html": [
       "<div>                            <div id=\"a89c3b7d-436b-42f5-bfc5-5f5048297f32\" class=\"plotly-graph-div\" style=\"height:525px; width:100%;\"></div>            <script type=\"text/javascript\">                require([\"plotly\"], function(Plotly) {                    window.PLOTLYENV=window.PLOTLYENV || {};                                    if (document.getElementById(\"a89c3b7d-436b-42f5-bfc5-5f5048297f32\")) {                    Plotly.newPlot(                        \"a89c3b7d-436b-42f5-bfc5-5f5048297f32\",                        [{\"marker\":{\"color\":[17.0,14.0,2.0,13.0,10.0,9.0,19.0,2.0,6.0,7.0,10.0,14.0,19.0,21.0,13.0,33.0,19.0,17.0,13.0,22.0,20.0,20.0,19.0,8.0,12.0,13.0,12.0,14.0,9.0,13.0,5.0,31.0,21.0,20.0,22.0,13.0,8.0,16.0,10.0,25.0,21.0,20.0,26.0,23.0,20.0,20.0,13.0,13.0,18.0,21.0,10.0,35.0],\"showscale\":true,\"size\":[17.0,14.0,2.0,13.0,10.0,9.0,19.0,2.0,6.0,7.0,10.0,14.0,19.0,21.0,13.0,33.0,19.0,17.0,13.0,22.0,20.0,20.0,19.0,8.0,12.0,13.0,12.0,14.0,9.0,13.0,5.0,31.0,21.0,20.0,22.0,13.0,8.0,16.0,10.0,25.0,21.0,20.0,26.0,23.0,20.0,20.0,13.0,13.0,18.0,21.0,10.0,35.0]},\"mode\":\"markers\",\"text\":[1970.0,1971.0,1972.0,1973.0,1974.0,1975.0,1976.0,1977.0,1978.0,1979.0,1980.0,1981.0,1982.0,1983.0,1984.0,1985.0,1986.0,1987.0,1988.0,1989.0,1990.0,1991.0,1992.0,1993.0,1994.0,1995.0,1996.0,1997.0,1998.0,1999.0,2002.0,2003.0,2004.0,2005.0,2006.0,2007.0,2008.0,2009.0,2010.0,2011.0,2012.0,2013.0,2014.0,2015.0,2016.0,2017.0,2018.0,2018.0,2019.0,2020.0,2021.0,2022.0],\"x\":[1970,1971,1972,1973,1974,1975,1976,1977,1978,1979,1980,1981,1982,1983,1984,1985,1986,1987,1988,1989,1990,1991,1992,1993,1994,1995,1996,1997,1998,1999,2002,2003,2004,2005,2006,2007,2008,2009,2010,2011,2012,2013,2014,2015,2016,2017,2018,2018,2019,2020,2021,2022],\"y\":[6.0,9.0,6.0,8.0,9.0,7.0,4.0,7.0,10.0,9.0,6.0,3.0,2.0,5.0,5.0,5.0,3.0,4.0,4.0,6.0,6.0,6.0,9.0,4.0,9.0,8.0,6.0,3.0,4.0,1.0,4.0,2.0,5.0,6.0,5.0,5.0,8.0,6.0,3.0,4.0,2.0,6.0,4.0,6.0,9.0,6.0,9.0,9.0,6.0,3.0,10.0,3.0],\"type\":\"scatter\"}],                        {\"barmode\":\"overlay\",\"template\":{\"data\":{\"barpolar\":[{\"marker\":{\"line\":{\"color\":\"#E5ECF6\",\"width\":0.5},\"pattern\":{\"fillmode\":\"overlay\",\"size\":10,\"solidity\":0.2}},\"type\":\"barpolar\"}],\"bar\":[{\"error_x\":{\"color\":\"#2a3f5f\"},\"error_y\":{\"color\":\"#2a3f5f\"},\"marker\":{\"line\":{\"color\":\"#E5ECF6\",\"width\":0.5},\"pattern\":{\"fillmode\":\"overlay\",\"size\":10,\"solidity\":0.2}},\"type\":\"bar\"}],\"carpet\":[{\"aaxis\":{\"endlinecolor\":\"#2a3f5f\",\"gridcolor\":\"white\",\"linecolor\":\"white\",\"minorgridcolor\":\"white\",\"startlinecolor\":\"#2a3f5f\"},\"baxis\":{\"endlinecolor\":\"#2a3f5f\",\"gridcolor\":\"white\",\"linecolor\":\"white\",\"minorgridcolor\":\"white\",\"startlinecolor\":\"#2a3f5f\"},\"type\":\"carpet\"}],\"choropleth\":[{\"colorbar\":{\"outlinewidth\":0,\"ticks\":\"\"},\"type\":\"choropleth\"}],\"contourcarpet\":[{\"colorbar\":{\"outlinewidth\":0,\"ticks\":\"\"},\"type\":\"contourcarpet\"}],\"contour\":[{\"colorbar\":{\"outlinewidth\":0,\"ticks\":\"\"},\"colorscale\":[[0.0,\"#0d0887\"],[0.1111111111111111,\"#46039f\"],[0.2222222222222222,\"#7201a8\"],[0.3333333333333333,\"#9c179e\"],[0.4444444444444444,\"#bd3786\"],[0.5555555555555556,\"#d8576b\"],[0.6666666666666666,\"#ed7953\"],[0.7777777777777778,\"#fb9f3a\"],[0.8888888888888888,\"#fdca26\"],[1.0,\"#f0f921\"]],\"type\":\"contour\"}],\"heatmapgl\":[{\"colorbar\":{\"outlinewidth\":0,\"ticks\":\"\"},\"colorscale\":[[0.0,\"#0d0887\"],[0.1111111111111111,\"#46039f\"],[0.2222222222222222,\"#7201a8\"],[0.3333333333333333,\"#9c179e\"],[0.4444444444444444,\"#bd3786\"],[0.5555555555555556,\"#d8576b\"],[0.6666666666666666,\"#ed7953\"],[0.7777777777777778,\"#fb9f3a\"],[0.8888888888888888,\"#fdca26\"],[1.0,\"#f0f921\"]],\"type\":\"heatmapgl\"}],\"heatmap\":[{\"colorbar\":{\"outlinewidth\":0,\"ticks\":\"\"},\"colorscale\":[[0.0,\"#0d0887\"],[0.1111111111111111,\"#46039f\"],[0.2222222222222222,\"#7201a8\"],[0.3333333333333333,\"#9c179e\"],[0.4444444444444444,\"#bd3786\"],[0.5555555555555556,\"#d8576b\"],[0.6666666666666666,\"#ed7953\"],[0.7777777777777778,\"#fb9f3a\"],[0.8888888888888888,\"#fdca26\"],[1.0,\"#f0f921\"]],\"type\":\"heatmap\"}],\"histogram2dcontour\":[{\"colorbar\":{\"outlinewidth\":0,\"ticks\":\"\"},\"colorscale\":[[0.0,\"#0d0887\"],[0.1111111111111111,\"#46039f\"],[0.2222222222222222,\"#7201a8\"],[0.3333333333333333,\"#9c179e\"],[0.4444444444444444,\"#bd3786\"],[0.5555555555555556,\"#d8576b\"],[0.6666666666666666,\"#ed7953\"],[0.7777777777777778,\"#fb9f3a\"],[0.8888888888888888,\"#fdca26\"],[1.0,\"#f0f921\"]],\"type\":\"histogram2dcontour\"}],\"histogram2d\":[{\"colorbar\":{\"outlinewidth\":0,\"ticks\":\"\"},\"colorscale\":[[0.0,\"#0d0887\"],[0.1111111111111111,\"#46039f\"],[0.2222222222222222,\"#7201a8\"],[0.3333333333333333,\"#9c179e\"],[0.4444444444444444,\"#bd3786\"],[0.5555555555555556,\"#d8576b\"],[0.6666666666666666,\"#ed7953\"],[0.7777777777777778,\"#fb9f3a\"],[0.8888888888888888,\"#fdca26\"],[1.0,\"#f0f921\"]],\"type\":\"histogram2d\"}],\"histogram\":[{\"marker\":{\"pattern\":{\"fillmode\":\"overlay\",\"size\":10,\"solidity\":0.2}},\"type\":\"histogram\"}],\"mesh3d\":[{\"colorbar\":{\"outlinewidth\":0,\"ticks\":\"\"},\"type\":\"mesh3d\"}],\"parcoords\":[{\"line\":{\"colorbar\":{\"outlinewidth\":0,\"ticks\":\"\"}},\"type\":\"parcoords\"}],\"pie\":[{\"automargin\":true,\"type\":\"pie\"}],\"scatter3d\":[{\"line\":{\"colorbar\":{\"outlinewidth\":0,\"ticks\":\"\"}},\"marker\":{\"colorbar\":{\"outlinewidth\":0,\"ticks\":\"\"}},\"type\":\"scatter3d\"}],\"scattercarpet\":[{\"marker\":{\"colorbar\":{\"outlinewidth\":0,\"ticks\":\"\"}},\"type\":\"scattercarpet\"}],\"scattergeo\":[{\"marker\":{\"colorbar\":{\"outlinewidth\":0,\"ticks\":\"\"}},\"type\":\"scattergeo\"}],\"scattergl\":[{\"marker\":{\"colorbar\":{\"outlinewidth\":0,\"ticks\":\"\"}},\"type\":\"scattergl\"}],\"scattermapbox\":[{\"marker\":{\"colorbar\":{\"outlinewidth\":0,\"ticks\":\"\"}},\"type\":\"scattermapbox\"}],\"scatterpolargl\":[{\"marker\":{\"colorbar\":{\"outlinewidth\":0,\"ticks\":\"\"}},\"type\":\"scatterpolargl\"}],\"scatterpolar\":[{\"marker\":{\"colorbar\":{\"outlinewidth\":0,\"ticks\":\"\"}},\"type\":\"scatterpolar\"}],\"scatter\":[{\"fillpattern\":{\"fillmode\":\"overlay\",\"size\":10,\"solidity\":0.2},\"type\":\"scatter\"}],\"scatterternary\":[{\"marker\":{\"colorbar\":{\"outlinewidth\":0,\"ticks\":\"\"}},\"type\":\"scatterternary\"}],\"surface\":[{\"colorbar\":{\"outlinewidth\":0,\"ticks\":\"\"},\"colorscale\":[[0.0,\"#0d0887\"],[0.1111111111111111,\"#46039f\"],[0.2222222222222222,\"#7201a8\"],[0.3333333333333333,\"#9c179e\"],[0.4444444444444444,\"#bd3786\"],[0.5555555555555556,\"#d8576b\"],[0.6666666666666666,\"#ed7953\"],[0.7777777777777778,\"#fb9f3a\"],[0.8888888888888888,\"#fdca26\"],[1.0,\"#f0f921\"]],\"type\":\"surface\"}],\"table\":[{\"cells\":{\"fill\":{\"color\":\"#EBF0F8\"},\"line\":{\"color\":\"white\"}},\"header\":{\"fill\":{\"color\":\"#C8D4E3\"},\"line\":{\"color\":\"white\"}},\"type\":\"table\"}]},\"layout\":{\"annotationdefaults\":{\"arrowcolor\":\"#2a3f5f\",\"arrowhead\":0,\"arrowwidth\":1},\"autotypenumbers\":\"strict\",\"coloraxis\":{\"colorbar\":{\"outlinewidth\":0,\"ticks\":\"\"}},\"colorscale\":{\"diverging\":[[0,\"#8e0152\"],[0.1,\"#c51b7d\"],[0.2,\"#de77ae\"],[0.3,\"#f1b6da\"],[0.4,\"#fde0ef\"],[0.5,\"#f7f7f7\"],[0.6,\"#e6f5d0\"],[0.7,\"#b8e186\"],[0.8,\"#7fbc41\"],[0.9,\"#4d9221\"],[1,\"#276419\"]],\"sequential\":[[0.0,\"#0d0887\"],[0.1111111111111111,\"#46039f\"],[0.2222222222222222,\"#7201a8\"],[0.3333333333333333,\"#9c179e\"],[0.4444444444444444,\"#bd3786\"],[0.5555555555555556,\"#d8576b\"],[0.6666666666666666,\"#ed7953\"],[0.7777777777777778,\"#fb9f3a\"],[0.8888888888888888,\"#fdca26\"],[1.0,\"#f0f921\"]],\"sequentialminus\":[[0.0,\"#0d0887\"],[0.1111111111111111,\"#46039f\"],[0.2222222222222222,\"#7201a8\"],[0.3333333333333333,\"#9c179e\"],[0.4444444444444444,\"#bd3786\"],[0.5555555555555556,\"#d8576b\"],[0.6666666666666666,\"#ed7953\"],[0.7777777777777778,\"#fb9f3a\"],[0.8888888888888888,\"#fdca26\"],[1.0,\"#f0f921\"]]},\"colorway\":[\"#636efa\",\"#EF553B\",\"#00cc96\",\"#ab63fa\",\"#FFA15A\",\"#19d3f3\",\"#FF6692\",\"#B6E880\",\"#FF97FF\",\"#FECB52\"],\"font\":{\"color\":\"#2a3f5f\"},\"geo\":{\"bgcolor\":\"white\",\"lakecolor\":\"white\",\"landcolor\":\"#E5ECF6\",\"showlakes\":true,\"showland\":true,\"subunitcolor\":\"white\"},\"hoverlabel\":{\"align\":\"left\"},\"hovermode\":\"closest\",\"mapbox\":{\"style\":\"light\"},\"paper_bgcolor\":\"white\",\"plot_bgcolor\":\"#E5ECF6\",\"polar\":{\"angularaxis\":{\"gridcolor\":\"white\",\"linecolor\":\"white\",\"ticks\":\"\"},\"bgcolor\":\"#E5ECF6\",\"radialaxis\":{\"gridcolor\":\"white\",\"linecolor\":\"white\",\"ticks\":\"\"}},\"scene\":{\"xaxis\":{\"backgroundcolor\":\"#E5ECF6\",\"gridcolor\":\"white\",\"gridwidth\":2,\"linecolor\":\"white\",\"showbackground\":true,\"ticks\":\"\",\"zerolinecolor\":\"white\"},\"yaxis\":{\"backgroundcolor\":\"#E5ECF6\",\"gridcolor\":\"white\",\"gridwidth\":2,\"linecolor\":\"white\",\"showbackground\":true,\"ticks\":\"\",\"zerolinecolor\":\"white\"},\"zaxis\":{\"backgroundcolor\":\"#E5ECF6\",\"gridcolor\":\"white\",\"gridwidth\":2,\"linecolor\":\"white\",\"showbackground\":true,\"ticks\":\"\",\"zerolinecolor\":\"white\"}},\"shapedefaults\":{\"line\":{\"color\":\"#2a3f5f\"}},\"ternary\":{\"aaxis\":{\"gridcolor\":\"white\",\"linecolor\":\"white\",\"ticks\":\"\"},\"baxis\":{\"gridcolor\":\"white\",\"linecolor\":\"white\",\"ticks\":\"\"},\"bgcolor\":\"#E5ECF6\",\"caxis\":{\"gridcolor\":\"white\",\"linecolor\":\"white\",\"ticks\":\"\"}},\"title\":{\"x\":0.05},\"xaxis\":{\"automargin\":true,\"gridcolor\":\"white\",\"linecolor\":\"white\",\"ticks\":\"\",\"title\":{\"standoff\":15},\"zerolinecolor\":\"white\",\"zerolinewidth\":2},\"yaxis\":{\"automargin\":true,\"gridcolor\":\"white\",\"linecolor\":\"white\",\"ticks\":\"\",\"title\":{\"standoff\":15},\"zerolinecolor\":\"white\",\"zerolinewidth\":2}}},\"title\":{\"text\":\" D\\u00edas precipitaciones \\u003e 30 l\\u002fm2 vs. D\\u00edas temperatura \\u003e30\\u00baC\"},\"xaxis\":{\"title\":{\"text\":\"A\\u00f1o\"}},\"yaxis\":{\"title\":{\"text\":\"D\\u00edas precipitaciones \\u003e 30 l\\u002fm2\"}}},                        {\"responsive\": true}                    ).then(function(){\n",
       "                            \n",
       "var gd = document.getElementById('a89c3b7d-436b-42f5-bfc5-5f5048297f32');\n",
       "var x = new MutationObserver(function (mutations, observer) {{\n",
       "        var display = window.getComputedStyle(gd).display;\n",
       "        if (!display || display === 'none') {{\n",
       "            console.log([gd, 'removed!']);\n",
       "            Plotly.purge(gd);\n",
       "            observer.disconnect();\n",
       "        }}\n",
       "}});\n",
       "\n",
       "// Listen for the removal of the full notebook cells\n",
       "var notebookContainer = gd.closest('#notebook-container');\n",
       "if (notebookContainer) {{\n",
       "    x.observe(notebookContainer, {childList: true});\n",
       "}}\n",
       "\n",
       "// Listen for the clearing of the current output cell\n",
       "var outputEl = gd.closest('.output');\n",
       "if (outputEl) {{\n",
       "    x.observe(outputEl, {childList: true});\n",
       "}}\n",
       "\n",
       "                        })                };                });            </script>        </div>"
      ]
     },
     "metadata": {},
     "output_type": "display_data"
    }
   ],
   "source": [
    "color_marker = [float(each) for each in bilbao_anualdf[\"nt_30\"]]\n",
    "data = [\n",
    "    {\n",
    "        'y': bilbao_anualdf[\"np_300\"],\n",
    "        'x': bilbao_anualdf[\"año\"],\n",
    "        'mode': 'markers',\n",
    "        'marker': {\n",
    "            'color': color_marker,\n",
    "            'size':bilbao_anualdf[\"nt_30\"],\n",
    "            'showscale': True\n",
    "        },\n",
    "        'text': bilbao_anualdf[\"año\"]\n",
    "    }\n",
    "]\n",
    "\n",
    "layout = go.Layout(barmode='overlay',\n",
    "                   title=' Días precipitaciones > 30 l/m2 vs. Días temperatura >30ºC',\n",
    "                   xaxis=dict(title='Año'),\n",
    "                   yaxis=dict( title='Días precipitaciones > 30 l/m2'),\n",
    ")\n",
    "fig = go.Figure(data=data, layout=layout)\n",
    "\n",
    "\n",
    "iplot(fig)"
   ]
  },
  {
   "cell_type": "code",
   "execution_count": null,
   "metadata": {},
   "outputs": [],
   "source": [
    "# import plotly.express as px\n",
    "# # df = px.data.bilbao_df() # iris is a pandas DataFrame\n",
    "# fig = px.scatter(bilbao_df, x=\"mes\", y=\"tm_mes\", marker = dict(color = 'rgba(16, 112, 2, 0.8)'))\n",
    "# fig.show()"
   ]
  },
  {
   "cell_type": "code",
   "execution_count": null,
   "metadata": {},
   "outputs": [],
   "source": [
    "# Representación gráfica de la temperatura media vs. mes para los 52 años\n",
    "\n",
    "\n",
    "# trace1 = go.Scatter(\n",
    "#                     x = bilbao_df[\"mes\"],\n",
    "# #                     y =bilbao_df[ \"tm_mes\"],\n",
    "# #                     name = 'citations',\n",
    "# #                     mode= 'lines', color='petal_length',\n",
    "# #                     marker = dict(color = 'rgba(16, 112, 2, 0.8)'),\n",
    "# #                     text = \"temperatura\") #texto que muestra\n",
    "# colors = [\"#FF0000\", \"#00FF00\", \"#0000FF\", \"#FFFF00\", \"#FF00FF\", \"#00FFFF\", \"#FFA500\", \"#800080\"]\n",
    "\n",
    "# trace1 = go.Scatter(\n",
    "#                     x = bilbao_df[\"mes\"],\n",
    "#                     y =bilbao_df[ \"tm_mes\"],\n",
    "#                     name = 'citations',\n",
    "#                     mode= 'lines', \n",
    "#                    text = \"temperatura\") #texto que muestra\n",
    "\n",
    "# data = [trace1]\n",
    "\n",
    "# layout = dict(title = 'Temperatura media vs. mes (1970-2022)',\n",
    "#              xaxis= dict(title= 'Temperatura media')\n",
    "#            )\n",
    "\n",
    "# fig = go.Figure(data = data, layout=layout)\n",
    "\n",
    "# iplot(fig)\n",
    "\n"
   ]
  },
  {
   "cell_type": "code",
   "execution_count": null,
   "metadata": {},
   "outputs": [],
   "source": [
    "\n",
    "\n",
    "# n_years = len(bilbao_df[\"año\"].unique())\n",
    "# colors = [\"#FF0000\", \"#00FF00\", \"#0000FF\", \"#FFFF00\", \"#FF00FF\", \"#00FFFF\", \"#FFA500\", \"#800080\"]\n",
    "# color_scale = colors.sequential.Plasma[0:n_years]\n",
    "\n",
    "# # Crear la gráfica con Plotly\n",
    "# fig = px.line(bilbao_df, x=\"mes\", y=\"tm_mes\", color=\"Año\",\n",
    "#               color_continuous_scale=color_scale,\n",
    "#               title=\"Temperatura Media Mensual por Año\",\n",
    "#               labels={\"Año\": \"Año\", \"Temperatura\": \"Temperatura Media\"})\n",
    "\n",
    "# # Personalizar la leyenda de colores\n",
    "# fig.update_layout(coloraxis_colorbar=dict(title=\"Años\"))\n",
    "\n",
    "# # Mostrar la gráfica\n",
    "# fig.show()\n",
    "\n",
    "# '''Asegúrate de reemplazar \"ruta-del-archivo.csv\" con la ruta y el nombre de archivo correspondientes a tus datos.\n",
    "\n",
    "# En este ejemplo, utilizamos la función plotly.colors.sequential.Plasma para generar una secuencia gradual de colores que será asignada a cada año en la gráfica. La longitud de la secuencia se ajusta según el número de años en tus datos. De esta manera, los colores de las líneas cambiarán de forma gradual de más suave a más intenso a lo largo de los años.\n",
    "\n",
    "# La función update_layout se utiliza para personalizar la leyenda de colores, donde especificamos el título de la leyenda como \"Años\".\n",
    "\n",
    "# Al ejecutar el código, se abrirá una ventana emergente que mostrará la gráfica interactiva con las líneas de cada año de distinto color, siguiendo la secuencia de colores gradualmente cambiantes.\n",
    "\n",
    "# Ten en cuenta que, para que la gráfica se muestre correctamente, asegúrate de tener los paquetes Plotly y Pandas instalados en tu entorno de Python. Puedes instalarlos utilizando el administrador de paquetes pip.'''\n"
   ]
  },
  {
   "cell_type": "code",
   "execution_count": null,
   "metadata": {},
   "outputs": [],
   "source": [
    "# import pandas as pd\n",
    "# import plotly.express as px\n",
    "\n",
    "# # Cargar los datos\n",
    "# data = bilbao_df\n",
    "# # data[\"Mes\"] = pd.Categorical(data[\"Mes\"], ordered=True)\n",
    "\n",
    "# # Definir una lista de colores personalizada\n",
    "# colors = [\"#FF0000\", \"#00FF00\", \"#0000FF\", \"#FFFF00\", \"#FF00FF\", \"#00FFFF\", \"#FFA500\", \"#800080\"]\n",
    "\n",
    "# # Crear la gráfica con Plotly utilizando la paleta de colores personalizada\n",
    "# fig = px.line(data, x=\"mes\", y=\"tm_mes\",\n",
    "#               color_discrete_sequence=colors,\n",
    "#               title=\"Temperatura Media Mensual por Año\",\n",
    "#               labels={\"Año\": \"Año\", \"Temperatura\": \"Temperatura Media\"})\n",
    "\n",
    "# # Mostrar la gráfica\n",
    "# fig.show()\n"
   ]
  },
  {
   "cell_type": "code",
   "execution_count": null,
   "metadata": {},
   "outputs": [
    {
     "data": {
      "text/html": [
       "<div>\n",
       "<style scoped>\n",
       "    .dataframe tbody tr th:only-of-type {\n",
       "        vertical-align: middle;\n",
       "    }\n",
       "\n",
       "    .dataframe tbody tr th {\n",
       "        vertical-align: top;\n",
       "    }\n",
       "\n",
       "    .dataframe thead th {\n",
       "        text-align: right;\n",
       "    }\n",
       "</style>\n",
       "<table border=\"1\" class=\"dataframe\">\n",
       "  <thead>\n",
       "    <tr style=\"text-align: right;\">\n",
       "      <th></th>\n",
       "      <th>año</th>\n",
       "      <th>tm_mes</th>\n",
       "      <th>tm_max</th>\n",
       "      <th>tm_min</th>\n",
       "      <th>ta_max</th>\n",
       "      <th>ta_min</th>\n",
       "      <th>ti_max</th>\n",
       "      <th>ts_min</th>\n",
       "      <th>p_mes</th>\n",
       "      <th>np_300</th>\n",
       "      <th>nt_30</th>\n",
       "      <th>inso</th>\n",
       "    </tr>\n",
       "  </thead>\n",
       "  <tbody>\n",
       "    <tr>\n",
       "      <th>0</th>\n",
       "      <td>1970</td>\n",
       "      <td>13.6</td>\n",
       "      <td>18.3</td>\n",
       "      <td>8.8</td>\n",
       "      <td>36.2</td>\n",
       "      <td>-3.8</td>\n",
       "      <td>2.4</td>\n",
       "      <td>19.0</td>\n",
       "      <td>1159.5</td>\n",
       "      <td>6.0</td>\n",
       "      <td>17.0</td>\n",
       "      <td>4.1</td>\n",
       "    </tr>\n",
       "    <tr>\n",
       "      <th>1</th>\n",
       "      <td>1971</td>\n",
       "      <td>13.6</td>\n",
       "      <td>18.3</td>\n",
       "      <td>8.8</td>\n",
       "      <td>35.6</td>\n",
       "      <td>-4.6</td>\n",
       "      <td>2.8</td>\n",
       "      <td>20.4</td>\n",
       "      <td>1441.0</td>\n",
       "      <td>9.0</td>\n",
       "      <td>14.0</td>\n",
       "      <td>4.1</td>\n",
       "    </tr>\n",
       "    <tr>\n",
       "      <th>2</th>\n",
       "      <td>1972</td>\n",
       "      <td>12.9</td>\n",
       "      <td>17.5</td>\n",
       "      <td>8.3</td>\n",
       "      <td>34.8</td>\n",
       "      <td>-1.8</td>\n",
       "      <td>6.8</td>\n",
       "      <td>19.6</td>\n",
       "      <td>1252.0</td>\n",
       "      <td>6.0</td>\n",
       "      <td>2.0</td>\n",
       "      <td>4.0</td>\n",
       "    </tr>\n",
       "    <tr>\n",
       "      <th>3</th>\n",
       "      <td>1973</td>\n",
       "      <td>13.3</td>\n",
       "      <td>18.2</td>\n",
       "      <td>8.5</td>\n",
       "      <td>35.4</td>\n",
       "      <td>-2.8</td>\n",
       "      <td>4.4</td>\n",
       "      <td>20.6</td>\n",
       "      <td>1303.1</td>\n",
       "      <td>8.0</td>\n",
       "      <td>13.0</td>\n",
       "      <td>4.3</td>\n",
       "    </tr>\n",
       "    <tr>\n",
       "      <th>4</th>\n",
       "      <td>1974</td>\n",
       "      <td>13.5</td>\n",
       "      <td>18.0</td>\n",
       "      <td>9.0</td>\n",
       "      <td>38.6</td>\n",
       "      <td>-1.8</td>\n",
       "      <td>6.0</td>\n",
       "      <td>18.8</td>\n",
       "      <td>1448.9</td>\n",
       "      <td>9.0</td>\n",
       "      <td>10.0</td>\n",
       "      <td>3.8</td>\n",
       "    </tr>\n",
       "  </tbody>\n",
       "</table>\n",
       "</div>"
      ],
      "text/plain": [
       "    año  tm_mes  tm_max  tm_min  ta_max  ta_min  ti_max  ts_min   p_mes  \\\n",
       "0  1970    13.6    18.3     8.8    36.2    -3.8     2.4    19.0  1159.5   \n",
       "1  1971    13.6    18.3     8.8    35.6    -4.6     2.8    20.4  1441.0   \n",
       "2  1972    12.9    17.5     8.3    34.8    -1.8     6.8    19.6  1252.0   \n",
       "3  1973    13.3    18.2     8.5    35.4    -2.8     4.4    20.6  1303.1   \n",
       "4  1974    13.5    18.0     9.0    38.6    -1.8     6.0    18.8  1448.9   \n",
       "\n",
       "   np_300  nt_30  inso  \n",
       "0     6.0   17.0   4.1  \n",
       "1     9.0   14.0   4.1  \n",
       "2     6.0    2.0   4.0  \n",
       "3     8.0   13.0   4.3  \n",
       "4     9.0   10.0   3.8  "
      ]
     },
     "execution_count": 42,
     "metadata": {},
     "output_type": "execute_result"
    }
   ],
   "source": [
    "bilbao_anualdf.head()"
   ]
  },
  {
   "cell_type": "code",
   "execution_count": null,
   "metadata": {},
   "outputs": [
    {
     "data": {
      "application/vnd.plotly.v1+json": {
       "config": {
        "linkText": "Export to plotly.com",
        "plotlyServerURL": "https://plotly.com",
        "showLink": false
       },
       "data": [
        {
         "marker": {
          "color": "green"
         },
         "mode": "markers",
         "name": "diferencia",
         "text": [
          1970,
          1971,
          1972,
          1973,
          1974,
          1975,
          1976,
          1977,
          1978,
          1979,
          1980,
          1981,
          1982,
          1983,
          1984,
          1985,
          1986,
          1987,
          1988,
          1989,
          1990,
          1991,
          1992,
          1993,
          1994,
          1995,
          1996,
          1997,
          1998,
          1999,
          2002,
          2003,
          2004,
          2005,
          2006,
          2007,
          2008,
          2009,
          2010,
          2011,
          2012,
          2013,
          2014,
          2015,
          2016,
          2017,
          2018,
          2018,
          2019,
          2020,
          2021,
          2022
         ],
         "type": "scatter",
         "x": [
          1970,
          1971,
          1972,
          1973,
          1974,
          1975,
          1976,
          1977,
          1978,
          1979,
          1980,
          1981,
          1982,
          1983,
          1984,
          1985,
          1986,
          1987,
          1988,
          1989,
          1990,
          1991,
          1992,
          1993,
          1994,
          1995,
          1996,
          1997,
          1998,
          1999,
          2002,
          2003,
          2004,
          2005,
          2006,
          2007,
          2008,
          2009,
          2010,
          2011,
          2012,
          2013,
          2014,
          2015,
          2016,
          2017,
          2018,
          2018,
          2019,
          2020,
          2021,
          2022
         ],
         "y": [
          9.5,
          9.5,
          9.2,
          9.7,
          9,
          9.4,
          10.100000000000001,
          9.400000000000002,
          8.9,
          8.9,
          8.900000000000002,
          9.200000000000001,
          9.1,
          9.7,
          9.5,
          10.8,
          10.2,
          10.2,
          10.3,
          11.3,
          10.700000000000001,
          9.999999999999998,
          9.799999999999999,
          9.999999999999998,
          9.3,
          10.299999999999999,
          9.200000000000001,
          9.600000000000001,
          9.399999999999999,
          9.5,
          8.6,
          9.100000000000001,
          8.799999999999999,
          9.2,
          9.3,
          8.7,
          8.700000000000001,
          9.2,
          9.299999999999999,
          9.6,
          9.500000000000002,
          8.999999999999998,
          9.7,
          9.6,
          9.8,
          10.100000000000001,
          9,
          9,
          9.900000000000002,
          9.799999999999999,
          9.3,
          10
         ]
        }
       ],
       "layout": {
        "template": {
         "data": {
          "bar": [
           {
            "error_x": {
             "color": "#2a3f5f"
            },
            "error_y": {
             "color": "#2a3f5f"
            },
            "marker": {
             "line": {
              "color": "#E5ECF6",
              "width": 0.5
             },
             "pattern": {
              "fillmode": "overlay",
              "size": 10,
              "solidity": 0.2
             }
            },
            "type": "bar"
           }
          ],
          "barpolar": [
           {
            "marker": {
             "line": {
              "color": "#E5ECF6",
              "width": 0.5
             },
             "pattern": {
              "fillmode": "overlay",
              "size": 10,
              "solidity": 0.2
             }
            },
            "type": "barpolar"
           }
          ],
          "carpet": [
           {
            "aaxis": {
             "endlinecolor": "#2a3f5f",
             "gridcolor": "white",
             "linecolor": "white",
             "minorgridcolor": "white",
             "startlinecolor": "#2a3f5f"
            },
            "baxis": {
             "endlinecolor": "#2a3f5f",
             "gridcolor": "white",
             "linecolor": "white",
             "minorgridcolor": "white",
             "startlinecolor": "#2a3f5f"
            },
            "type": "carpet"
           }
          ],
          "choropleth": [
           {
            "colorbar": {
             "outlinewidth": 0,
             "ticks": ""
            },
            "type": "choropleth"
           }
          ],
          "contour": [
           {
            "colorbar": {
             "outlinewidth": 0,
             "ticks": ""
            },
            "colorscale": [
             [
              0,
              "#0d0887"
             ],
             [
              0.1111111111111111,
              "#46039f"
             ],
             [
              0.2222222222222222,
              "#7201a8"
             ],
             [
              0.3333333333333333,
              "#9c179e"
             ],
             [
              0.4444444444444444,
              "#bd3786"
             ],
             [
              0.5555555555555556,
              "#d8576b"
             ],
             [
              0.6666666666666666,
              "#ed7953"
             ],
             [
              0.7777777777777778,
              "#fb9f3a"
             ],
             [
              0.8888888888888888,
              "#fdca26"
             ],
             [
              1,
              "#f0f921"
             ]
            ],
            "type": "contour"
           }
          ],
          "contourcarpet": [
           {
            "colorbar": {
             "outlinewidth": 0,
             "ticks": ""
            },
            "type": "contourcarpet"
           }
          ],
          "heatmap": [
           {
            "colorbar": {
             "outlinewidth": 0,
             "ticks": ""
            },
            "colorscale": [
             [
              0,
              "#0d0887"
             ],
             [
              0.1111111111111111,
              "#46039f"
             ],
             [
              0.2222222222222222,
              "#7201a8"
             ],
             [
              0.3333333333333333,
              "#9c179e"
             ],
             [
              0.4444444444444444,
              "#bd3786"
             ],
             [
              0.5555555555555556,
              "#d8576b"
             ],
             [
              0.6666666666666666,
              "#ed7953"
             ],
             [
              0.7777777777777778,
              "#fb9f3a"
             ],
             [
              0.8888888888888888,
              "#fdca26"
             ],
             [
              1,
              "#f0f921"
             ]
            ],
            "type": "heatmap"
           }
          ],
          "heatmapgl": [
           {
            "colorbar": {
             "outlinewidth": 0,
             "ticks": ""
            },
            "colorscale": [
             [
              0,
              "#0d0887"
             ],
             [
              0.1111111111111111,
              "#46039f"
             ],
             [
              0.2222222222222222,
              "#7201a8"
             ],
             [
              0.3333333333333333,
              "#9c179e"
             ],
             [
              0.4444444444444444,
              "#bd3786"
             ],
             [
              0.5555555555555556,
              "#d8576b"
             ],
             [
              0.6666666666666666,
              "#ed7953"
             ],
             [
              0.7777777777777778,
              "#fb9f3a"
             ],
             [
              0.8888888888888888,
              "#fdca26"
             ],
             [
              1,
              "#f0f921"
             ]
            ],
            "type": "heatmapgl"
           }
          ],
          "histogram": [
           {
            "marker": {
             "pattern": {
              "fillmode": "overlay",
              "size": 10,
              "solidity": 0.2
             }
            },
            "type": "histogram"
           }
          ],
          "histogram2d": [
           {
            "colorbar": {
             "outlinewidth": 0,
             "ticks": ""
            },
            "colorscale": [
             [
              0,
              "#0d0887"
             ],
             [
              0.1111111111111111,
              "#46039f"
             ],
             [
              0.2222222222222222,
              "#7201a8"
             ],
             [
              0.3333333333333333,
              "#9c179e"
             ],
             [
              0.4444444444444444,
              "#bd3786"
             ],
             [
              0.5555555555555556,
              "#d8576b"
             ],
             [
              0.6666666666666666,
              "#ed7953"
             ],
             [
              0.7777777777777778,
              "#fb9f3a"
             ],
             [
              0.8888888888888888,
              "#fdca26"
             ],
             [
              1,
              "#f0f921"
             ]
            ],
            "type": "histogram2d"
           }
          ],
          "histogram2dcontour": [
           {
            "colorbar": {
             "outlinewidth": 0,
             "ticks": ""
            },
            "colorscale": [
             [
              0,
              "#0d0887"
             ],
             [
              0.1111111111111111,
              "#46039f"
             ],
             [
              0.2222222222222222,
              "#7201a8"
             ],
             [
              0.3333333333333333,
              "#9c179e"
             ],
             [
              0.4444444444444444,
              "#bd3786"
             ],
             [
              0.5555555555555556,
              "#d8576b"
             ],
             [
              0.6666666666666666,
              "#ed7953"
             ],
             [
              0.7777777777777778,
              "#fb9f3a"
             ],
             [
              0.8888888888888888,
              "#fdca26"
             ],
             [
              1,
              "#f0f921"
             ]
            ],
            "type": "histogram2dcontour"
           }
          ],
          "mesh3d": [
           {
            "colorbar": {
             "outlinewidth": 0,
             "ticks": ""
            },
            "type": "mesh3d"
           }
          ],
          "parcoords": [
           {
            "line": {
             "colorbar": {
              "outlinewidth": 0,
              "ticks": ""
             }
            },
            "type": "parcoords"
           }
          ],
          "pie": [
           {
            "automargin": true,
            "type": "pie"
           }
          ],
          "scatter": [
           {
            "fillpattern": {
             "fillmode": "overlay",
             "size": 10,
             "solidity": 0.2
            },
            "type": "scatter"
           }
          ],
          "scatter3d": [
           {
            "line": {
             "colorbar": {
              "outlinewidth": 0,
              "ticks": ""
             }
            },
            "marker": {
             "colorbar": {
              "outlinewidth": 0,
              "ticks": ""
             }
            },
            "type": "scatter3d"
           }
          ],
          "scattercarpet": [
           {
            "marker": {
             "colorbar": {
              "outlinewidth": 0,
              "ticks": ""
             }
            },
            "type": "scattercarpet"
           }
          ],
          "scattergeo": [
           {
            "marker": {
             "colorbar": {
              "outlinewidth": 0,
              "ticks": ""
             }
            },
            "type": "scattergeo"
           }
          ],
          "scattergl": [
           {
            "marker": {
             "colorbar": {
              "outlinewidth": 0,
              "ticks": ""
             }
            },
            "type": "scattergl"
           }
          ],
          "scattermapbox": [
           {
            "marker": {
             "colorbar": {
              "outlinewidth": 0,
              "ticks": ""
             }
            },
            "type": "scattermapbox"
           }
          ],
          "scatterpolar": [
           {
            "marker": {
             "colorbar": {
              "outlinewidth": 0,
              "ticks": ""
             }
            },
            "type": "scatterpolar"
           }
          ],
          "scatterpolargl": [
           {
            "marker": {
             "colorbar": {
              "outlinewidth": 0,
              "ticks": ""
             }
            },
            "type": "scatterpolargl"
           }
          ],
          "scatterternary": [
           {
            "marker": {
             "colorbar": {
              "outlinewidth": 0,
              "ticks": ""
             }
            },
            "type": "scatterternary"
           }
          ],
          "surface": [
           {
            "colorbar": {
             "outlinewidth": 0,
             "ticks": ""
            },
            "colorscale": [
             [
              0,
              "#0d0887"
             ],
             [
              0.1111111111111111,
              "#46039f"
             ],
             [
              0.2222222222222222,
              "#7201a8"
             ],
             [
              0.3333333333333333,
              "#9c179e"
             ],
             [
              0.4444444444444444,
              "#bd3786"
             ],
             [
              0.5555555555555556,
              "#d8576b"
             ],
             [
              0.6666666666666666,
              "#ed7953"
             ],
             [
              0.7777777777777778,
              "#fb9f3a"
             ],
             [
              0.8888888888888888,
              "#fdca26"
             ],
             [
              1,
              "#f0f921"
             ]
            ],
            "type": "surface"
           }
          ],
          "table": [
           {
            "cells": {
             "fill": {
              "color": "#EBF0F8"
             },
             "line": {
              "color": "white"
             }
            },
            "header": {
             "fill": {
              "color": "#C8D4E3"
             },
             "line": {
              "color": "white"
             }
            },
            "type": "table"
           }
          ]
         },
         "layout": {
          "annotationdefaults": {
           "arrowcolor": "#2a3f5f",
           "arrowhead": 0,
           "arrowwidth": 1
          },
          "autotypenumbers": "strict",
          "coloraxis": {
           "colorbar": {
            "outlinewidth": 0,
            "ticks": ""
           }
          },
          "colorscale": {
           "diverging": [
            [
             0,
             "#8e0152"
            ],
            [
             0.1,
             "#c51b7d"
            ],
            [
             0.2,
             "#de77ae"
            ],
            [
             0.3,
             "#f1b6da"
            ],
            [
             0.4,
             "#fde0ef"
            ],
            [
             0.5,
             "#f7f7f7"
            ],
            [
             0.6,
             "#e6f5d0"
            ],
            [
             0.7,
             "#b8e186"
            ],
            [
             0.8,
             "#7fbc41"
            ],
            [
             0.9,
             "#4d9221"
            ],
            [
             1,
             "#276419"
            ]
           ],
           "sequential": [
            [
             0,
             "#0d0887"
            ],
            [
             0.1111111111111111,
             "#46039f"
            ],
            [
             0.2222222222222222,
             "#7201a8"
            ],
            [
             0.3333333333333333,
             "#9c179e"
            ],
            [
             0.4444444444444444,
             "#bd3786"
            ],
            [
             0.5555555555555556,
             "#d8576b"
            ],
            [
             0.6666666666666666,
             "#ed7953"
            ],
            [
             0.7777777777777778,
             "#fb9f3a"
            ],
            [
             0.8888888888888888,
             "#fdca26"
            ],
            [
             1,
             "#f0f921"
            ]
           ],
           "sequentialminus": [
            [
             0,
             "#0d0887"
            ],
            [
             0.1111111111111111,
             "#46039f"
            ],
            [
             0.2222222222222222,
             "#7201a8"
            ],
            [
             0.3333333333333333,
             "#9c179e"
            ],
            [
             0.4444444444444444,
             "#bd3786"
            ],
            [
             0.5555555555555556,
             "#d8576b"
            ],
            [
             0.6666666666666666,
             "#ed7953"
            ],
            [
             0.7777777777777778,
             "#fb9f3a"
            ],
            [
             0.8888888888888888,
             "#fdca26"
            ],
            [
             1,
             "#f0f921"
            ]
           ]
          },
          "colorway": [
           "#636efa",
           "#EF553B",
           "#00cc96",
           "#ab63fa",
           "#FFA15A",
           "#19d3f3",
           "#FF6692",
           "#B6E880",
           "#FF97FF",
           "#FECB52"
          ],
          "font": {
           "color": "#2a3f5f"
          },
          "geo": {
           "bgcolor": "white",
           "lakecolor": "white",
           "landcolor": "#E5ECF6",
           "showlakes": true,
           "showland": true,
           "subunitcolor": "white"
          },
          "hoverlabel": {
           "align": "left"
          },
          "hovermode": "closest",
          "mapbox": {
           "style": "light"
          },
          "paper_bgcolor": "white",
          "plot_bgcolor": "#E5ECF6",
          "polar": {
           "angularaxis": {
            "gridcolor": "white",
            "linecolor": "white",
            "ticks": ""
           },
           "bgcolor": "#E5ECF6",
           "radialaxis": {
            "gridcolor": "white",
            "linecolor": "white",
            "ticks": ""
           }
          },
          "scene": {
           "xaxis": {
            "backgroundcolor": "#E5ECF6",
            "gridcolor": "white",
            "gridwidth": 2,
            "linecolor": "white",
            "showbackground": true,
            "ticks": "",
            "zerolinecolor": "white"
           },
           "yaxis": {
            "backgroundcolor": "#E5ECF6",
            "gridcolor": "white",
            "gridwidth": 2,
            "linecolor": "white",
            "showbackground": true,
            "ticks": "",
            "zerolinecolor": "white"
           },
           "zaxis": {
            "backgroundcolor": "#E5ECF6",
            "gridcolor": "white",
            "gridwidth": 2,
            "linecolor": "white",
            "showbackground": true,
            "ticks": "",
            "zerolinecolor": "white"
           }
          },
          "shapedefaults": {
           "line": {
            "color": "#2a3f5f"
           }
          },
          "ternary": {
           "aaxis": {
            "gridcolor": "white",
            "linecolor": "white",
            "ticks": ""
           },
           "baxis": {
            "gridcolor": "white",
            "linecolor": "white",
            "ticks": ""
           },
           "bgcolor": "#E5ECF6",
           "caxis": {
            "gridcolor": "white",
            "linecolor": "white",
            "ticks": ""
           }
          },
          "title": {
           "x": 0.05
          },
          "xaxis": {
           "automargin": true,
           "gridcolor": "white",
           "linecolor": "white",
           "ticks": "",
           "title": {
            "standoff": 15
           },
           "zerolinecolor": "white",
           "zerolinewidth": 2
          },
          "yaxis": {
           "automargin": true,
           "gridcolor": "white",
           "linecolor": "white",
           "ticks": "",
           "title": {
            "standoff": 15
           },
           "zerolinecolor": "white",
           "zerolinewidth": 2
          }
         }
        },
        "title": {
         "text": "Citation vs world rank of top 100 universities with 2014, 2015 and 2016 years"
        },
        "xaxis": {
         "title": {
          "text": "World Rank"
         }
        },
        "yaxis": {
         "title": {
          "text": "Citation"
         }
        }
       }
      },
      "text/html": [
       "<div>                            <div id=\"25927b32-0943-44e1-9feb-ea49cfeee1f9\" class=\"plotly-graph-div\" style=\"height:525px; width:100%;\"></div>            <script type=\"text/javascript\">                require([\"plotly\"], function(Plotly) {                    window.PLOTLYENV=window.PLOTLYENV || {};                                    if (document.getElementById(\"25927b32-0943-44e1-9feb-ea49cfeee1f9\")) {                    Plotly.newPlot(                        \"25927b32-0943-44e1-9feb-ea49cfeee1f9\",                        [{\"marker\":{\"color\":\"green\"},\"mode\":\"markers\",\"name\":\"diferencia\",\"text\":[1970.0,1971.0,1972.0,1973.0,1974.0,1975.0,1976.0,1977.0,1978.0,1979.0,1980.0,1981.0,1982.0,1983.0,1984.0,1985.0,1986.0,1987.0,1988.0,1989.0,1990.0,1991.0,1992.0,1993.0,1994.0,1995.0,1996.0,1997.0,1998.0,1999.0,2002.0,2003.0,2004.0,2005.0,2006.0,2007.0,2008.0,2009.0,2010.0,2011.0,2012.0,2013.0,2014.0,2015.0,2016.0,2017.0,2018.0,2018.0,2019.0,2020.0,2021.0,2022.0],\"x\":[1970,1971,1972,1973,1974,1975,1976,1977,1978,1979,1980,1981,1982,1983,1984,1985,1986,1987,1988,1989,1990,1991,1992,1993,1994,1995,1996,1997,1998,1999,2002,2003,2004,2005,2006,2007,2008,2009,2010,2011,2012,2013,2014,2015,2016,2017,2018,2018,2019,2020,2021,2022],\"y\":[9.5,9.5,9.2,9.7,9.0,9.4,10.100000000000001,9.400000000000002,8.9,8.9,8.900000000000002,9.200000000000001,9.1,9.7,9.5,10.8,10.2,10.2,10.3,11.3,10.700000000000001,9.999999999999998,9.799999999999999,9.999999999999998,9.3,10.299999999999999,9.200000000000001,9.600000000000001,9.399999999999999,9.5,8.6,9.100000000000001,8.799999999999999,9.2,9.3,8.7,8.700000000000001,9.2,9.299999999999999,9.6,9.500000000000002,8.999999999999998,9.7,9.6,9.8,10.100000000000001,9.0,9.0,9.900000000000002,9.799999999999999,9.3,10.0],\"type\":\"scatter\"}],                        {\"template\":{\"data\":{\"barpolar\":[{\"marker\":{\"line\":{\"color\":\"#E5ECF6\",\"width\":0.5},\"pattern\":{\"fillmode\":\"overlay\",\"size\":10,\"solidity\":0.2}},\"type\":\"barpolar\"}],\"bar\":[{\"error_x\":{\"color\":\"#2a3f5f\"},\"error_y\":{\"color\":\"#2a3f5f\"},\"marker\":{\"line\":{\"color\":\"#E5ECF6\",\"width\":0.5},\"pattern\":{\"fillmode\":\"overlay\",\"size\":10,\"solidity\":0.2}},\"type\":\"bar\"}],\"carpet\":[{\"aaxis\":{\"endlinecolor\":\"#2a3f5f\",\"gridcolor\":\"white\",\"linecolor\":\"white\",\"minorgridcolor\":\"white\",\"startlinecolor\":\"#2a3f5f\"},\"baxis\":{\"endlinecolor\":\"#2a3f5f\",\"gridcolor\":\"white\",\"linecolor\":\"white\",\"minorgridcolor\":\"white\",\"startlinecolor\":\"#2a3f5f\"},\"type\":\"carpet\"}],\"choropleth\":[{\"colorbar\":{\"outlinewidth\":0,\"ticks\":\"\"},\"type\":\"choropleth\"}],\"contourcarpet\":[{\"colorbar\":{\"outlinewidth\":0,\"ticks\":\"\"},\"type\":\"contourcarpet\"}],\"contour\":[{\"colorbar\":{\"outlinewidth\":0,\"ticks\":\"\"},\"colorscale\":[[0.0,\"#0d0887\"],[0.1111111111111111,\"#46039f\"],[0.2222222222222222,\"#7201a8\"],[0.3333333333333333,\"#9c179e\"],[0.4444444444444444,\"#bd3786\"],[0.5555555555555556,\"#d8576b\"],[0.6666666666666666,\"#ed7953\"],[0.7777777777777778,\"#fb9f3a\"],[0.8888888888888888,\"#fdca26\"],[1.0,\"#f0f921\"]],\"type\":\"contour\"}],\"heatmapgl\":[{\"colorbar\":{\"outlinewidth\":0,\"ticks\":\"\"},\"colorscale\":[[0.0,\"#0d0887\"],[0.1111111111111111,\"#46039f\"],[0.2222222222222222,\"#7201a8\"],[0.3333333333333333,\"#9c179e\"],[0.4444444444444444,\"#bd3786\"],[0.5555555555555556,\"#d8576b\"],[0.6666666666666666,\"#ed7953\"],[0.7777777777777778,\"#fb9f3a\"],[0.8888888888888888,\"#fdca26\"],[1.0,\"#f0f921\"]],\"type\":\"heatmapgl\"}],\"heatmap\":[{\"colorbar\":{\"outlinewidth\":0,\"ticks\":\"\"},\"colorscale\":[[0.0,\"#0d0887\"],[0.1111111111111111,\"#46039f\"],[0.2222222222222222,\"#7201a8\"],[0.3333333333333333,\"#9c179e\"],[0.4444444444444444,\"#bd3786\"],[0.5555555555555556,\"#d8576b\"],[0.6666666666666666,\"#ed7953\"],[0.7777777777777778,\"#fb9f3a\"],[0.8888888888888888,\"#fdca26\"],[1.0,\"#f0f921\"]],\"type\":\"heatmap\"}],\"histogram2dcontour\":[{\"colorbar\":{\"outlinewidth\":0,\"ticks\":\"\"},\"colorscale\":[[0.0,\"#0d0887\"],[0.1111111111111111,\"#46039f\"],[0.2222222222222222,\"#7201a8\"],[0.3333333333333333,\"#9c179e\"],[0.4444444444444444,\"#bd3786\"],[0.5555555555555556,\"#d8576b\"],[0.6666666666666666,\"#ed7953\"],[0.7777777777777778,\"#fb9f3a\"],[0.8888888888888888,\"#fdca26\"],[1.0,\"#f0f921\"]],\"type\":\"histogram2dcontour\"}],\"histogram2d\":[{\"colorbar\":{\"outlinewidth\":0,\"ticks\":\"\"},\"colorscale\":[[0.0,\"#0d0887\"],[0.1111111111111111,\"#46039f\"],[0.2222222222222222,\"#7201a8\"],[0.3333333333333333,\"#9c179e\"],[0.4444444444444444,\"#bd3786\"],[0.5555555555555556,\"#d8576b\"],[0.6666666666666666,\"#ed7953\"],[0.7777777777777778,\"#fb9f3a\"],[0.8888888888888888,\"#fdca26\"],[1.0,\"#f0f921\"]],\"type\":\"histogram2d\"}],\"histogram\":[{\"marker\":{\"pattern\":{\"fillmode\":\"overlay\",\"size\":10,\"solidity\":0.2}},\"type\":\"histogram\"}],\"mesh3d\":[{\"colorbar\":{\"outlinewidth\":0,\"ticks\":\"\"},\"type\":\"mesh3d\"}],\"parcoords\":[{\"line\":{\"colorbar\":{\"outlinewidth\":0,\"ticks\":\"\"}},\"type\":\"parcoords\"}],\"pie\":[{\"automargin\":true,\"type\":\"pie\"}],\"scatter3d\":[{\"line\":{\"colorbar\":{\"outlinewidth\":0,\"ticks\":\"\"}},\"marker\":{\"colorbar\":{\"outlinewidth\":0,\"ticks\":\"\"}},\"type\":\"scatter3d\"}],\"scattercarpet\":[{\"marker\":{\"colorbar\":{\"outlinewidth\":0,\"ticks\":\"\"}},\"type\":\"scattercarpet\"}],\"scattergeo\":[{\"marker\":{\"colorbar\":{\"outlinewidth\":0,\"ticks\":\"\"}},\"type\":\"scattergeo\"}],\"scattergl\":[{\"marker\":{\"colorbar\":{\"outlinewidth\":0,\"ticks\":\"\"}},\"type\":\"scattergl\"}],\"scattermapbox\":[{\"marker\":{\"colorbar\":{\"outlinewidth\":0,\"ticks\":\"\"}},\"type\":\"scattermapbox\"}],\"scatterpolargl\":[{\"marker\":{\"colorbar\":{\"outlinewidth\":0,\"ticks\":\"\"}},\"type\":\"scatterpolargl\"}],\"scatterpolar\":[{\"marker\":{\"colorbar\":{\"outlinewidth\":0,\"ticks\":\"\"}},\"type\":\"scatterpolar\"}],\"scatter\":[{\"fillpattern\":{\"fillmode\":\"overlay\",\"size\":10,\"solidity\":0.2},\"type\":\"scatter\"}],\"scatterternary\":[{\"marker\":{\"colorbar\":{\"outlinewidth\":0,\"ticks\":\"\"}},\"type\":\"scatterternary\"}],\"surface\":[{\"colorbar\":{\"outlinewidth\":0,\"ticks\":\"\"},\"colorscale\":[[0.0,\"#0d0887\"],[0.1111111111111111,\"#46039f\"],[0.2222222222222222,\"#7201a8\"],[0.3333333333333333,\"#9c179e\"],[0.4444444444444444,\"#bd3786\"],[0.5555555555555556,\"#d8576b\"],[0.6666666666666666,\"#ed7953\"],[0.7777777777777778,\"#fb9f3a\"],[0.8888888888888888,\"#fdca26\"],[1.0,\"#f0f921\"]],\"type\":\"surface\"}],\"table\":[{\"cells\":{\"fill\":{\"color\":\"#EBF0F8\"},\"line\":{\"color\":\"white\"}},\"header\":{\"fill\":{\"color\":\"#C8D4E3\"},\"line\":{\"color\":\"white\"}},\"type\":\"table\"}]},\"layout\":{\"annotationdefaults\":{\"arrowcolor\":\"#2a3f5f\",\"arrowhead\":0,\"arrowwidth\":1},\"autotypenumbers\":\"strict\",\"coloraxis\":{\"colorbar\":{\"outlinewidth\":0,\"ticks\":\"\"}},\"colorscale\":{\"diverging\":[[0,\"#8e0152\"],[0.1,\"#c51b7d\"],[0.2,\"#de77ae\"],[0.3,\"#f1b6da\"],[0.4,\"#fde0ef\"],[0.5,\"#f7f7f7\"],[0.6,\"#e6f5d0\"],[0.7,\"#b8e186\"],[0.8,\"#7fbc41\"],[0.9,\"#4d9221\"],[1,\"#276419\"]],\"sequential\":[[0.0,\"#0d0887\"],[0.1111111111111111,\"#46039f\"],[0.2222222222222222,\"#7201a8\"],[0.3333333333333333,\"#9c179e\"],[0.4444444444444444,\"#bd3786\"],[0.5555555555555556,\"#d8576b\"],[0.6666666666666666,\"#ed7953\"],[0.7777777777777778,\"#fb9f3a\"],[0.8888888888888888,\"#fdca26\"],[1.0,\"#f0f921\"]],\"sequentialminus\":[[0.0,\"#0d0887\"],[0.1111111111111111,\"#46039f\"],[0.2222222222222222,\"#7201a8\"],[0.3333333333333333,\"#9c179e\"],[0.4444444444444444,\"#bd3786\"],[0.5555555555555556,\"#d8576b\"],[0.6666666666666666,\"#ed7953\"],[0.7777777777777778,\"#fb9f3a\"],[0.8888888888888888,\"#fdca26\"],[1.0,\"#f0f921\"]]},\"colorway\":[\"#636efa\",\"#EF553B\",\"#00cc96\",\"#ab63fa\",\"#FFA15A\",\"#19d3f3\",\"#FF6692\",\"#B6E880\",\"#FF97FF\",\"#FECB52\"],\"font\":{\"color\":\"#2a3f5f\"},\"geo\":{\"bgcolor\":\"white\",\"lakecolor\":\"white\",\"landcolor\":\"#E5ECF6\",\"showlakes\":true,\"showland\":true,\"subunitcolor\":\"white\"},\"hoverlabel\":{\"align\":\"left\"},\"hovermode\":\"closest\",\"mapbox\":{\"style\":\"light\"},\"paper_bgcolor\":\"white\",\"plot_bgcolor\":\"#E5ECF6\",\"polar\":{\"angularaxis\":{\"gridcolor\":\"white\",\"linecolor\":\"white\",\"ticks\":\"\"},\"bgcolor\":\"#E5ECF6\",\"radialaxis\":{\"gridcolor\":\"white\",\"linecolor\":\"white\",\"ticks\":\"\"}},\"scene\":{\"xaxis\":{\"backgroundcolor\":\"#E5ECF6\",\"gridcolor\":\"white\",\"gridwidth\":2,\"linecolor\":\"white\",\"showbackground\":true,\"ticks\":\"\",\"zerolinecolor\":\"white\"},\"yaxis\":{\"backgroundcolor\":\"#E5ECF6\",\"gridcolor\":\"white\",\"gridwidth\":2,\"linecolor\":\"white\",\"showbackground\":true,\"ticks\":\"\",\"zerolinecolor\":\"white\"},\"zaxis\":{\"backgroundcolor\":\"#E5ECF6\",\"gridcolor\":\"white\",\"gridwidth\":2,\"linecolor\":\"white\",\"showbackground\":true,\"ticks\":\"\",\"zerolinecolor\":\"white\"}},\"shapedefaults\":{\"line\":{\"color\":\"#2a3f5f\"}},\"ternary\":{\"aaxis\":{\"gridcolor\":\"white\",\"linecolor\":\"white\",\"ticks\":\"\"},\"baxis\":{\"gridcolor\":\"white\",\"linecolor\":\"white\",\"ticks\":\"\"},\"bgcolor\":\"#E5ECF6\",\"caxis\":{\"gridcolor\":\"white\",\"linecolor\":\"white\",\"ticks\":\"\"}},\"title\":{\"x\":0.05},\"xaxis\":{\"automargin\":true,\"gridcolor\":\"white\",\"linecolor\":\"white\",\"ticks\":\"\",\"title\":{\"standoff\":15},\"zerolinecolor\":\"white\",\"zerolinewidth\":2},\"yaxis\":{\"automargin\":true,\"gridcolor\":\"white\",\"linecolor\":\"white\",\"ticks\":\"\",\"title\":{\"standoff\":15},\"zerolinecolor\":\"white\",\"zerolinewidth\":2}}},\"title\":{\"text\":\"Citation vs world rank of top 100 universities with 2014, 2015 and 2016 years\"},\"xaxis\":{\"title\":{\"text\":\"World Rank\"}},\"yaxis\":{\"title\":{\"text\":\"Citation\"}}},                        {\"responsive\": true}                    ).then(function(){\n",
       "                            \n",
       "var gd = document.getElementById('25927b32-0943-44e1-9feb-ea49cfeee1f9');\n",
       "var x = new MutationObserver(function (mutations, observer) {{\n",
       "        var display = window.getComputedStyle(gd).display;\n",
       "        if (!display || display === 'none') {{\n",
       "            console.log([gd, 'removed!']);\n",
       "            Plotly.purge(gd);\n",
       "            observer.disconnect();\n",
       "        }}\n",
       "}});\n",
       "\n",
       "// Listen for the removal of the full notebook cells\n",
       "var notebookContainer = gd.closest('#notebook-container');\n",
       "if (notebookContainer) {{\n",
       "    x.observe(notebookContainer, {childList: true});\n",
       "}}\n",
       "\n",
       "// Listen for the clearing of the current output cell\n",
       "var outputEl = gd.closest('.output');\n",
       "if (outputEl) {{\n",
       "    x.observe(outputEl, {childList: true});\n",
       "}}\n",
       "\n",
       "                        })                };                });            </script>        </div>"
      ]
     },
     "metadata": {},
     "output_type": "display_data"
    }
   ],
   "source": [
    "# import graph objects as \"go\"\n",
    "import plotly.graph_objs as go\n",
    "\n",
    "\n",
    "#Comparativa entre medias de máximas y mínimas. No aportan información\n",
    "\n",
    "# creating trace1\n",
    "# trace1 =go.Scatter(\n",
    "#                     x = bilbao_anualdf[\"año\"],\n",
    "#                     y = bilbao_anualdf[\"tm_max\"],\n",
    "#                     mode = \"markers\",\n",
    "#                     name = \"max\",\n",
    "#                     marker = dict(color = 'rgba(255, 128, 255, 0.8)'),\n",
    "#                     text= bilbao_anualdf[\"año\"])\n",
    "# # creating trace2\n",
    "# trace2 =go.Scatter(\n",
    "#                     x = bilbao_anualdf[\"año\"],\n",
    "#                     y = bilbao_anualdf[\"tm_min\"],\n",
    "#                     mode = \"markers\",\n",
    "#                     name = \"min\",\n",
    "#                     marker = dict(color = 'rgba(255, 128, 2, 0.8)'),\n",
    "# #                     text= bilbao_anualdf[\"año\"])\n",
    "\n",
    "# trace3 =go.Scatter(\n",
    "#                     x = bilbao_anualdf[\"año\"],\n",
    "#                     y = bilbao_anualdf[\"tm_max\"]-bilbao_anualdf[\"tm_min\"],\n",
    "#                     mode = \"markers\",\n",
    "#                     name = \"diferencia\",\n",
    "#                     marker = dict(color = 'green'),\n",
    "#                     text= bilbao_anualdf[\"año\"])\n",
    "\n",
    "# # data = [trace1, trace2, trace3]\n",
    "\n",
    "# data=[trace3]\n",
    "\n",
    "# layout = dict(title = 'Citation vs world rank of top 100 universities with 2014, 2015 and 2016 years',\n",
    "#               xaxis= dict(title= 'World Rank'),\n",
    "#               yaxis= dict(title= 'Citation')\n",
    "#              )\n",
    "\n",
    "# fig = dict(data = data, layout = layout)\n",
    "# # fig = go.Figure(data = data, layout=layout)\n",
    "\n",
    "iplot(fig)"
   ]
  },
  {
   "cell_type": "code",
   "execution_count": null,
   "metadata": {},
   "outputs": [
    {
     "data": {
      "application/vnd.plotly.v1+json": {
       "config": {
        "linkText": "Export to plotly.com",
        "plotlyServerURL": "https://plotly.com",
        "showLink": false
       },
       "data": [
        {
         "marker": {
          "color": "green"
         },
         "mode": "lines",
         "name": "T máxima",
         "type": "scatter",
         "x": [
          1970,
          1971,
          1972,
          1973,
          1974,
          1975,
          1976,
          1977,
          1978,
          1979,
          1980,
          1981,
          1982,
          1983,
          1984,
          1985,
          1986,
          1987,
          1988,
          1989,
          1990,
          1991,
          1992,
          1993,
          1994,
          1995,
          1996,
          1997,
          1998,
          1999,
          2002,
          2003,
          2004,
          2005,
          2006,
          2007,
          2008,
          2009,
          2010,
          2011,
          2012,
          2013,
          2014,
          2015,
          2016,
          2017,
          2018,
          2018,
          2019,
          2020,
          2021,
          2022
         ],
         "y": [
          36.2,
          35.6,
          34.8,
          35.4,
          38.6,
          39.6,
          35.8,
          35,
          35,
          34,
          34.6,
          38.4,
          40.4,
          38.6,
          39.4,
          39.3,
          40.3,
          40.6,
          41.7,
          37.6,
          39.2,
          35,
          35.1,
          35.7,
          36,
          35.9,
          36,
          34,
          37.3,
          34.5,
          35.1,
          41.9,
          36.8,
          37.8,
          37.8,
          35.6,
          38.1,
          39.3,
          35.1,
          41,
          36.2,
          40.3,
          36.4,
          38.8,
          40.4,
          38.4,
          38.8,
          38.8,
          40.7,
          41.5,
          38.8,
          41.2
         ]
        }
       ],
       "layout": {
        "template": {
         "data": {
          "bar": [
           {
            "error_x": {
             "color": "#2a3f5f"
            },
            "error_y": {
             "color": "#2a3f5f"
            },
            "marker": {
             "line": {
              "color": "#E5ECF6",
              "width": 0.5
             },
             "pattern": {
              "fillmode": "overlay",
              "size": 10,
              "solidity": 0.2
             }
            },
            "type": "bar"
           }
          ],
          "barpolar": [
           {
            "marker": {
             "line": {
              "color": "#E5ECF6",
              "width": 0.5
             },
             "pattern": {
              "fillmode": "overlay",
              "size": 10,
              "solidity": 0.2
             }
            },
            "type": "barpolar"
           }
          ],
          "carpet": [
           {
            "aaxis": {
             "endlinecolor": "#2a3f5f",
             "gridcolor": "white",
             "linecolor": "white",
             "minorgridcolor": "white",
             "startlinecolor": "#2a3f5f"
            },
            "baxis": {
             "endlinecolor": "#2a3f5f",
             "gridcolor": "white",
             "linecolor": "white",
             "minorgridcolor": "white",
             "startlinecolor": "#2a3f5f"
            },
            "type": "carpet"
           }
          ],
          "choropleth": [
           {
            "colorbar": {
             "outlinewidth": 0,
             "ticks": ""
            },
            "type": "choropleth"
           }
          ],
          "contour": [
           {
            "colorbar": {
             "outlinewidth": 0,
             "ticks": ""
            },
            "colorscale": [
             [
              0,
              "#0d0887"
             ],
             [
              0.1111111111111111,
              "#46039f"
             ],
             [
              0.2222222222222222,
              "#7201a8"
             ],
             [
              0.3333333333333333,
              "#9c179e"
             ],
             [
              0.4444444444444444,
              "#bd3786"
             ],
             [
              0.5555555555555556,
              "#d8576b"
             ],
             [
              0.6666666666666666,
              "#ed7953"
             ],
             [
              0.7777777777777778,
              "#fb9f3a"
             ],
             [
              0.8888888888888888,
              "#fdca26"
             ],
             [
              1,
              "#f0f921"
             ]
            ],
            "type": "contour"
           }
          ],
          "contourcarpet": [
           {
            "colorbar": {
             "outlinewidth": 0,
             "ticks": ""
            },
            "type": "contourcarpet"
           }
          ],
          "heatmap": [
           {
            "colorbar": {
             "outlinewidth": 0,
             "ticks": ""
            },
            "colorscale": [
             [
              0,
              "#0d0887"
             ],
             [
              0.1111111111111111,
              "#46039f"
             ],
             [
              0.2222222222222222,
              "#7201a8"
             ],
             [
              0.3333333333333333,
              "#9c179e"
             ],
             [
              0.4444444444444444,
              "#bd3786"
             ],
             [
              0.5555555555555556,
              "#d8576b"
             ],
             [
              0.6666666666666666,
              "#ed7953"
             ],
             [
              0.7777777777777778,
              "#fb9f3a"
             ],
             [
              0.8888888888888888,
              "#fdca26"
             ],
             [
              1,
              "#f0f921"
             ]
            ],
            "type": "heatmap"
           }
          ],
          "heatmapgl": [
           {
            "colorbar": {
             "outlinewidth": 0,
             "ticks": ""
            },
            "colorscale": [
             [
              0,
              "#0d0887"
             ],
             [
              0.1111111111111111,
              "#46039f"
             ],
             [
              0.2222222222222222,
              "#7201a8"
             ],
             [
              0.3333333333333333,
              "#9c179e"
             ],
             [
              0.4444444444444444,
              "#bd3786"
             ],
             [
              0.5555555555555556,
              "#d8576b"
             ],
             [
              0.6666666666666666,
              "#ed7953"
             ],
             [
              0.7777777777777778,
              "#fb9f3a"
             ],
             [
              0.8888888888888888,
              "#fdca26"
             ],
             [
              1,
              "#f0f921"
             ]
            ],
            "type": "heatmapgl"
           }
          ],
          "histogram": [
           {
            "marker": {
             "pattern": {
              "fillmode": "overlay",
              "size": 10,
              "solidity": 0.2
             }
            },
            "type": "histogram"
           }
          ],
          "histogram2d": [
           {
            "colorbar": {
             "outlinewidth": 0,
             "ticks": ""
            },
            "colorscale": [
             [
              0,
              "#0d0887"
             ],
             [
              0.1111111111111111,
              "#46039f"
             ],
             [
              0.2222222222222222,
              "#7201a8"
             ],
             [
              0.3333333333333333,
              "#9c179e"
             ],
             [
              0.4444444444444444,
              "#bd3786"
             ],
             [
              0.5555555555555556,
              "#d8576b"
             ],
             [
              0.6666666666666666,
              "#ed7953"
             ],
             [
              0.7777777777777778,
              "#fb9f3a"
             ],
             [
              0.8888888888888888,
              "#fdca26"
             ],
             [
              1,
              "#f0f921"
             ]
            ],
            "type": "histogram2d"
           }
          ],
          "histogram2dcontour": [
           {
            "colorbar": {
             "outlinewidth": 0,
             "ticks": ""
            },
            "colorscale": [
             [
              0,
              "#0d0887"
             ],
             [
              0.1111111111111111,
              "#46039f"
             ],
             [
              0.2222222222222222,
              "#7201a8"
             ],
             [
              0.3333333333333333,
              "#9c179e"
             ],
             [
              0.4444444444444444,
              "#bd3786"
             ],
             [
              0.5555555555555556,
              "#d8576b"
             ],
             [
              0.6666666666666666,
              "#ed7953"
             ],
             [
              0.7777777777777778,
              "#fb9f3a"
             ],
             [
              0.8888888888888888,
              "#fdca26"
             ],
             [
              1,
              "#f0f921"
             ]
            ],
            "type": "histogram2dcontour"
           }
          ],
          "mesh3d": [
           {
            "colorbar": {
             "outlinewidth": 0,
             "ticks": ""
            },
            "type": "mesh3d"
           }
          ],
          "parcoords": [
           {
            "line": {
             "colorbar": {
              "outlinewidth": 0,
              "ticks": ""
             }
            },
            "type": "parcoords"
           }
          ],
          "pie": [
           {
            "automargin": true,
            "type": "pie"
           }
          ],
          "scatter": [
           {
            "fillpattern": {
             "fillmode": "overlay",
             "size": 10,
             "solidity": 0.2
            },
            "type": "scatter"
           }
          ],
          "scatter3d": [
           {
            "line": {
             "colorbar": {
              "outlinewidth": 0,
              "ticks": ""
             }
            },
            "marker": {
             "colorbar": {
              "outlinewidth": 0,
              "ticks": ""
             }
            },
            "type": "scatter3d"
           }
          ],
          "scattercarpet": [
           {
            "marker": {
             "colorbar": {
              "outlinewidth": 0,
              "ticks": ""
             }
            },
            "type": "scattercarpet"
           }
          ],
          "scattergeo": [
           {
            "marker": {
             "colorbar": {
              "outlinewidth": 0,
              "ticks": ""
             }
            },
            "type": "scattergeo"
           }
          ],
          "scattergl": [
           {
            "marker": {
             "colorbar": {
              "outlinewidth": 0,
              "ticks": ""
             }
            },
            "type": "scattergl"
           }
          ],
          "scattermapbox": [
           {
            "marker": {
             "colorbar": {
              "outlinewidth": 0,
              "ticks": ""
             }
            },
            "type": "scattermapbox"
           }
          ],
          "scatterpolar": [
           {
            "marker": {
             "colorbar": {
              "outlinewidth": 0,
              "ticks": ""
             }
            },
            "type": "scatterpolar"
           }
          ],
          "scatterpolargl": [
           {
            "marker": {
             "colorbar": {
              "outlinewidth": 0,
              "ticks": ""
             }
            },
            "type": "scatterpolargl"
           }
          ],
          "scatterternary": [
           {
            "marker": {
             "colorbar": {
              "outlinewidth": 0,
              "ticks": ""
             }
            },
            "type": "scatterternary"
           }
          ],
          "surface": [
           {
            "colorbar": {
             "outlinewidth": 0,
             "ticks": ""
            },
            "colorscale": [
             [
              0,
              "#0d0887"
             ],
             [
              0.1111111111111111,
              "#46039f"
             ],
             [
              0.2222222222222222,
              "#7201a8"
             ],
             [
              0.3333333333333333,
              "#9c179e"
             ],
             [
              0.4444444444444444,
              "#bd3786"
             ],
             [
              0.5555555555555556,
              "#d8576b"
             ],
             [
              0.6666666666666666,
              "#ed7953"
             ],
             [
              0.7777777777777778,
              "#fb9f3a"
             ],
             [
              0.8888888888888888,
              "#fdca26"
             ],
             [
              1,
              "#f0f921"
             ]
            ],
            "type": "surface"
           }
          ],
          "table": [
           {
            "cells": {
             "fill": {
              "color": "#EBF0F8"
             },
             "line": {
              "color": "white"
             }
            },
            "header": {
             "fill": {
              "color": "#C8D4E3"
             },
             "line": {
              "color": "white"
             }
            },
            "type": "table"
           }
          ]
         },
         "layout": {
          "annotationdefaults": {
           "arrowcolor": "#2a3f5f",
           "arrowhead": 0,
           "arrowwidth": 1
          },
          "autotypenumbers": "strict",
          "coloraxis": {
           "colorbar": {
            "outlinewidth": 0,
            "ticks": ""
           }
          },
          "colorscale": {
           "diverging": [
            [
             0,
             "#8e0152"
            ],
            [
             0.1,
             "#c51b7d"
            ],
            [
             0.2,
             "#de77ae"
            ],
            [
             0.3,
             "#f1b6da"
            ],
            [
             0.4,
             "#fde0ef"
            ],
            [
             0.5,
             "#f7f7f7"
            ],
            [
             0.6,
             "#e6f5d0"
            ],
            [
             0.7,
             "#b8e186"
            ],
            [
             0.8,
             "#7fbc41"
            ],
            [
             0.9,
             "#4d9221"
            ],
            [
             1,
             "#276419"
            ]
           ],
           "sequential": [
            [
             0,
             "#0d0887"
            ],
            [
             0.1111111111111111,
             "#46039f"
            ],
            [
             0.2222222222222222,
             "#7201a8"
            ],
            [
             0.3333333333333333,
             "#9c179e"
            ],
            [
             0.4444444444444444,
             "#bd3786"
            ],
            [
             0.5555555555555556,
             "#d8576b"
            ],
            [
             0.6666666666666666,
             "#ed7953"
            ],
            [
             0.7777777777777778,
             "#fb9f3a"
            ],
            [
             0.8888888888888888,
             "#fdca26"
            ],
            [
             1,
             "#f0f921"
            ]
           ],
           "sequentialminus": [
            [
             0,
             "#0d0887"
            ],
            [
             0.1111111111111111,
             "#46039f"
            ],
            [
             0.2222222222222222,
             "#7201a8"
            ],
            [
             0.3333333333333333,
             "#9c179e"
            ],
            [
             0.4444444444444444,
             "#bd3786"
            ],
            [
             0.5555555555555556,
             "#d8576b"
            ],
            [
             0.6666666666666666,
             "#ed7953"
            ],
            [
             0.7777777777777778,
             "#fb9f3a"
            ],
            [
             0.8888888888888888,
             "#fdca26"
            ],
            [
             1,
             "#f0f921"
            ]
           ]
          },
          "colorway": [
           "#636efa",
           "#EF553B",
           "#00cc96",
           "#ab63fa",
           "#FFA15A",
           "#19d3f3",
           "#FF6692",
           "#B6E880",
           "#FF97FF",
           "#FECB52"
          ],
          "font": {
           "color": "#2a3f5f"
          },
          "geo": {
           "bgcolor": "white",
           "lakecolor": "white",
           "landcolor": "#E5ECF6",
           "showlakes": true,
           "showland": true,
           "subunitcolor": "white"
          },
          "hoverlabel": {
           "align": "left"
          },
          "hovermode": "closest",
          "mapbox": {
           "style": "light"
          },
          "paper_bgcolor": "white",
          "plot_bgcolor": "#E5ECF6",
          "polar": {
           "angularaxis": {
            "gridcolor": "white",
            "linecolor": "white",
            "ticks": ""
           },
           "bgcolor": "#E5ECF6",
           "radialaxis": {
            "gridcolor": "white",
            "linecolor": "white",
            "ticks": ""
           }
          },
          "scene": {
           "xaxis": {
            "backgroundcolor": "#E5ECF6",
            "gridcolor": "white",
            "gridwidth": 2,
            "linecolor": "white",
            "showbackground": true,
            "ticks": "",
            "zerolinecolor": "white"
           },
           "yaxis": {
            "backgroundcolor": "#E5ECF6",
            "gridcolor": "white",
            "gridwidth": 2,
            "linecolor": "white",
            "showbackground": true,
            "ticks": "",
            "zerolinecolor": "white"
           },
           "zaxis": {
            "backgroundcolor": "#E5ECF6",
            "gridcolor": "white",
            "gridwidth": 2,
            "linecolor": "white",
            "showbackground": true,
            "ticks": "",
            "zerolinecolor": "white"
           }
          },
          "shapedefaults": {
           "line": {
            "color": "#2a3f5f"
           }
          },
          "ternary": {
           "aaxis": {
            "gridcolor": "white",
            "linecolor": "white",
            "ticks": ""
           },
           "baxis": {
            "gridcolor": "white",
            "linecolor": "white",
            "ticks": ""
           },
           "bgcolor": "#E5ECF6",
           "caxis": {
            "gridcolor": "white",
            "linecolor": "white",
            "ticks": ""
           }
          },
          "title": {
           "x": 0.05
          },
          "xaxis": {
           "automargin": true,
           "gridcolor": "white",
           "linecolor": "white",
           "ticks": "",
           "title": {
            "standoff": 15
           },
           "zerolinecolor": "white",
           "zerolinewidth": 2
          },
          "yaxis": {
           "automargin": true,
           "gridcolor": "white",
           "linecolor": "white",
           "ticks": "",
           "title": {
            "standoff": 15
           },
           "zerolinecolor": "white",
           "zerolinewidth": 2
          }
         }
        },
        "title": {
         "text": "Temperaturas máximas absolutas"
        },
        "xaxis": {
         "title": {
          "text": "Año"
         }
        },
        "yaxis": {
         "title": {
          "text": "Temperatura"
         }
        }
       }
      },
      "text/html": [
       "<div>                            <div id=\"e1cb7bb9-d58a-4af6-a896-6e73b4d63cd1\" class=\"plotly-graph-div\" style=\"height:525px; width:100%;\"></div>            <script type=\"text/javascript\">                require([\"plotly\"], function(Plotly) {                    window.PLOTLYENV=window.PLOTLYENV || {};                                    if (document.getElementById(\"e1cb7bb9-d58a-4af6-a896-6e73b4d63cd1\")) {                    Plotly.newPlot(                        \"e1cb7bb9-d58a-4af6-a896-6e73b4d63cd1\",                        [{\"marker\":{\"color\":\"green\"},\"mode\":\"lines\",\"name\":\"T m\\u00e1xima\",\"x\":[1970,1971,1972,1973,1974,1975,1976,1977,1978,1979,1980,1981,1982,1983,1984,1985,1986,1987,1988,1989,1990,1991,1992,1993,1994,1995,1996,1997,1998,1999,2002,2003,2004,2005,2006,2007,2008,2009,2010,2011,2012,2013,2014,2015,2016,2017,2018,2018,2019,2020,2021,2022],\"y\":[36.2,35.6,34.8,35.4,38.6,39.6,35.8,35.0,35.0,34.0,34.6,38.4,40.4,38.6,39.4,39.3,40.3,40.6,41.7,37.6,39.2,35.0,35.1,35.7,36.0,35.9,36.0,34.0,37.3,34.5,35.1,41.9,36.8,37.8,37.8,35.6,38.1,39.3,35.1,41.0,36.2,40.3,36.4,38.8,40.4,38.4,38.8,38.8,40.7,41.5,38.8,41.2],\"type\":\"scatter\"}],                        {\"template\":{\"data\":{\"barpolar\":[{\"marker\":{\"line\":{\"color\":\"#E5ECF6\",\"width\":0.5},\"pattern\":{\"fillmode\":\"overlay\",\"size\":10,\"solidity\":0.2}},\"type\":\"barpolar\"}],\"bar\":[{\"error_x\":{\"color\":\"#2a3f5f\"},\"error_y\":{\"color\":\"#2a3f5f\"},\"marker\":{\"line\":{\"color\":\"#E5ECF6\",\"width\":0.5},\"pattern\":{\"fillmode\":\"overlay\",\"size\":10,\"solidity\":0.2}},\"type\":\"bar\"}],\"carpet\":[{\"aaxis\":{\"endlinecolor\":\"#2a3f5f\",\"gridcolor\":\"white\",\"linecolor\":\"white\",\"minorgridcolor\":\"white\",\"startlinecolor\":\"#2a3f5f\"},\"baxis\":{\"endlinecolor\":\"#2a3f5f\",\"gridcolor\":\"white\",\"linecolor\":\"white\",\"minorgridcolor\":\"white\",\"startlinecolor\":\"#2a3f5f\"},\"type\":\"carpet\"}],\"choropleth\":[{\"colorbar\":{\"outlinewidth\":0,\"ticks\":\"\"},\"type\":\"choropleth\"}],\"contourcarpet\":[{\"colorbar\":{\"outlinewidth\":0,\"ticks\":\"\"},\"type\":\"contourcarpet\"}],\"contour\":[{\"colorbar\":{\"outlinewidth\":0,\"ticks\":\"\"},\"colorscale\":[[0.0,\"#0d0887\"],[0.1111111111111111,\"#46039f\"],[0.2222222222222222,\"#7201a8\"],[0.3333333333333333,\"#9c179e\"],[0.4444444444444444,\"#bd3786\"],[0.5555555555555556,\"#d8576b\"],[0.6666666666666666,\"#ed7953\"],[0.7777777777777778,\"#fb9f3a\"],[0.8888888888888888,\"#fdca26\"],[1.0,\"#f0f921\"]],\"type\":\"contour\"}],\"heatmapgl\":[{\"colorbar\":{\"outlinewidth\":0,\"ticks\":\"\"},\"colorscale\":[[0.0,\"#0d0887\"],[0.1111111111111111,\"#46039f\"],[0.2222222222222222,\"#7201a8\"],[0.3333333333333333,\"#9c179e\"],[0.4444444444444444,\"#bd3786\"],[0.5555555555555556,\"#d8576b\"],[0.6666666666666666,\"#ed7953\"],[0.7777777777777778,\"#fb9f3a\"],[0.8888888888888888,\"#fdca26\"],[1.0,\"#f0f921\"]],\"type\":\"heatmapgl\"}],\"heatmap\":[{\"colorbar\":{\"outlinewidth\":0,\"ticks\":\"\"},\"colorscale\":[[0.0,\"#0d0887\"],[0.1111111111111111,\"#46039f\"],[0.2222222222222222,\"#7201a8\"],[0.3333333333333333,\"#9c179e\"],[0.4444444444444444,\"#bd3786\"],[0.5555555555555556,\"#d8576b\"],[0.6666666666666666,\"#ed7953\"],[0.7777777777777778,\"#fb9f3a\"],[0.8888888888888888,\"#fdca26\"],[1.0,\"#f0f921\"]],\"type\":\"heatmap\"}],\"histogram2dcontour\":[{\"colorbar\":{\"outlinewidth\":0,\"ticks\":\"\"},\"colorscale\":[[0.0,\"#0d0887\"],[0.1111111111111111,\"#46039f\"],[0.2222222222222222,\"#7201a8\"],[0.3333333333333333,\"#9c179e\"],[0.4444444444444444,\"#bd3786\"],[0.5555555555555556,\"#d8576b\"],[0.6666666666666666,\"#ed7953\"],[0.7777777777777778,\"#fb9f3a\"],[0.8888888888888888,\"#fdca26\"],[1.0,\"#f0f921\"]],\"type\":\"histogram2dcontour\"}],\"histogram2d\":[{\"colorbar\":{\"outlinewidth\":0,\"ticks\":\"\"},\"colorscale\":[[0.0,\"#0d0887\"],[0.1111111111111111,\"#46039f\"],[0.2222222222222222,\"#7201a8\"],[0.3333333333333333,\"#9c179e\"],[0.4444444444444444,\"#bd3786\"],[0.5555555555555556,\"#d8576b\"],[0.6666666666666666,\"#ed7953\"],[0.7777777777777778,\"#fb9f3a\"],[0.8888888888888888,\"#fdca26\"],[1.0,\"#f0f921\"]],\"type\":\"histogram2d\"}],\"histogram\":[{\"marker\":{\"pattern\":{\"fillmode\":\"overlay\",\"size\":10,\"solidity\":0.2}},\"type\":\"histogram\"}],\"mesh3d\":[{\"colorbar\":{\"outlinewidth\":0,\"ticks\":\"\"},\"type\":\"mesh3d\"}],\"parcoords\":[{\"line\":{\"colorbar\":{\"outlinewidth\":0,\"ticks\":\"\"}},\"type\":\"parcoords\"}],\"pie\":[{\"automargin\":true,\"type\":\"pie\"}],\"scatter3d\":[{\"line\":{\"colorbar\":{\"outlinewidth\":0,\"ticks\":\"\"}},\"marker\":{\"colorbar\":{\"outlinewidth\":0,\"ticks\":\"\"}},\"type\":\"scatter3d\"}],\"scattercarpet\":[{\"marker\":{\"colorbar\":{\"outlinewidth\":0,\"ticks\":\"\"}},\"type\":\"scattercarpet\"}],\"scattergeo\":[{\"marker\":{\"colorbar\":{\"outlinewidth\":0,\"ticks\":\"\"}},\"type\":\"scattergeo\"}],\"scattergl\":[{\"marker\":{\"colorbar\":{\"outlinewidth\":0,\"ticks\":\"\"}},\"type\":\"scattergl\"}],\"scattermapbox\":[{\"marker\":{\"colorbar\":{\"outlinewidth\":0,\"ticks\":\"\"}},\"type\":\"scattermapbox\"}],\"scatterpolargl\":[{\"marker\":{\"colorbar\":{\"outlinewidth\":0,\"ticks\":\"\"}},\"type\":\"scatterpolargl\"}],\"scatterpolar\":[{\"marker\":{\"colorbar\":{\"outlinewidth\":0,\"ticks\":\"\"}},\"type\":\"scatterpolar\"}],\"scatter\":[{\"fillpattern\":{\"fillmode\":\"overlay\",\"size\":10,\"solidity\":0.2},\"type\":\"scatter\"}],\"scatterternary\":[{\"marker\":{\"colorbar\":{\"outlinewidth\":0,\"ticks\":\"\"}},\"type\":\"scatterternary\"}],\"surface\":[{\"colorbar\":{\"outlinewidth\":0,\"ticks\":\"\"},\"colorscale\":[[0.0,\"#0d0887\"],[0.1111111111111111,\"#46039f\"],[0.2222222222222222,\"#7201a8\"],[0.3333333333333333,\"#9c179e\"],[0.4444444444444444,\"#bd3786\"],[0.5555555555555556,\"#d8576b\"],[0.6666666666666666,\"#ed7953\"],[0.7777777777777778,\"#fb9f3a\"],[0.8888888888888888,\"#fdca26\"],[1.0,\"#f0f921\"]],\"type\":\"surface\"}],\"table\":[{\"cells\":{\"fill\":{\"color\":\"#EBF0F8\"},\"line\":{\"color\":\"white\"}},\"header\":{\"fill\":{\"color\":\"#C8D4E3\"},\"line\":{\"color\":\"white\"}},\"type\":\"table\"}]},\"layout\":{\"annotationdefaults\":{\"arrowcolor\":\"#2a3f5f\",\"arrowhead\":0,\"arrowwidth\":1},\"autotypenumbers\":\"strict\",\"coloraxis\":{\"colorbar\":{\"outlinewidth\":0,\"ticks\":\"\"}},\"colorscale\":{\"diverging\":[[0,\"#8e0152\"],[0.1,\"#c51b7d\"],[0.2,\"#de77ae\"],[0.3,\"#f1b6da\"],[0.4,\"#fde0ef\"],[0.5,\"#f7f7f7\"],[0.6,\"#e6f5d0\"],[0.7,\"#b8e186\"],[0.8,\"#7fbc41\"],[0.9,\"#4d9221\"],[1,\"#276419\"]],\"sequential\":[[0.0,\"#0d0887\"],[0.1111111111111111,\"#46039f\"],[0.2222222222222222,\"#7201a8\"],[0.3333333333333333,\"#9c179e\"],[0.4444444444444444,\"#bd3786\"],[0.5555555555555556,\"#d8576b\"],[0.6666666666666666,\"#ed7953\"],[0.7777777777777778,\"#fb9f3a\"],[0.8888888888888888,\"#fdca26\"],[1.0,\"#f0f921\"]],\"sequentialminus\":[[0.0,\"#0d0887\"],[0.1111111111111111,\"#46039f\"],[0.2222222222222222,\"#7201a8\"],[0.3333333333333333,\"#9c179e\"],[0.4444444444444444,\"#bd3786\"],[0.5555555555555556,\"#d8576b\"],[0.6666666666666666,\"#ed7953\"],[0.7777777777777778,\"#fb9f3a\"],[0.8888888888888888,\"#fdca26\"],[1.0,\"#f0f921\"]]},\"colorway\":[\"#636efa\",\"#EF553B\",\"#00cc96\",\"#ab63fa\",\"#FFA15A\",\"#19d3f3\",\"#FF6692\",\"#B6E880\",\"#FF97FF\",\"#FECB52\"],\"font\":{\"color\":\"#2a3f5f\"},\"geo\":{\"bgcolor\":\"white\",\"lakecolor\":\"white\",\"landcolor\":\"#E5ECF6\",\"showlakes\":true,\"showland\":true,\"subunitcolor\":\"white\"},\"hoverlabel\":{\"align\":\"left\"},\"hovermode\":\"closest\",\"mapbox\":{\"style\":\"light\"},\"paper_bgcolor\":\"white\",\"plot_bgcolor\":\"#E5ECF6\",\"polar\":{\"angularaxis\":{\"gridcolor\":\"white\",\"linecolor\":\"white\",\"ticks\":\"\"},\"bgcolor\":\"#E5ECF6\",\"radialaxis\":{\"gridcolor\":\"white\",\"linecolor\":\"white\",\"ticks\":\"\"}},\"scene\":{\"xaxis\":{\"backgroundcolor\":\"#E5ECF6\",\"gridcolor\":\"white\",\"gridwidth\":2,\"linecolor\":\"white\",\"showbackground\":true,\"ticks\":\"\",\"zerolinecolor\":\"white\"},\"yaxis\":{\"backgroundcolor\":\"#E5ECF6\",\"gridcolor\":\"white\",\"gridwidth\":2,\"linecolor\":\"white\",\"showbackground\":true,\"ticks\":\"\",\"zerolinecolor\":\"white\"},\"zaxis\":{\"backgroundcolor\":\"#E5ECF6\",\"gridcolor\":\"white\",\"gridwidth\":2,\"linecolor\":\"white\",\"showbackground\":true,\"ticks\":\"\",\"zerolinecolor\":\"white\"}},\"shapedefaults\":{\"line\":{\"color\":\"#2a3f5f\"}},\"ternary\":{\"aaxis\":{\"gridcolor\":\"white\",\"linecolor\":\"white\",\"ticks\":\"\"},\"baxis\":{\"gridcolor\":\"white\",\"linecolor\":\"white\",\"ticks\":\"\"},\"bgcolor\":\"#E5ECF6\",\"caxis\":{\"gridcolor\":\"white\",\"linecolor\":\"white\",\"ticks\":\"\"}},\"title\":{\"x\":0.05},\"xaxis\":{\"automargin\":true,\"gridcolor\":\"white\",\"linecolor\":\"white\",\"ticks\":\"\",\"title\":{\"standoff\":15},\"zerolinecolor\":\"white\",\"zerolinewidth\":2},\"yaxis\":{\"automargin\":true,\"gridcolor\":\"white\",\"linecolor\":\"white\",\"ticks\":\"\",\"title\":{\"standoff\":15},\"zerolinecolor\":\"white\",\"zerolinewidth\":2}}},\"title\":{\"text\":\"Temperaturas m\\u00e1ximas absolutas\"},\"xaxis\":{\"title\":{\"text\":\"A\\u00f1o\"}},\"yaxis\":{\"title\":{\"text\":\"Temperatura\"}}},                        {\"responsive\": true}                    ).then(function(){\n",
       "                            \n",
       "var gd = document.getElementById('e1cb7bb9-d58a-4af6-a896-6e73b4d63cd1');\n",
       "var x = new MutationObserver(function (mutations, observer) {{\n",
       "        var display = window.getComputedStyle(gd).display;\n",
       "        if (!display || display === 'none') {{\n",
       "            console.log([gd, 'removed!']);\n",
       "            Plotly.purge(gd);\n",
       "            observer.disconnect();\n",
       "        }}\n",
       "}});\n",
       "\n",
       "// Listen for the removal of the full notebook cells\n",
       "var notebookContainer = gd.closest('#notebook-container');\n",
       "if (notebookContainer) {{\n",
       "    x.observe(notebookContainer, {childList: true});\n",
       "}}\n",
       "\n",
       "// Listen for the clearing of the current output cell\n",
       "var outputEl = gd.closest('.output');\n",
       "if (outputEl) {{\n",
       "    x.observe(outputEl, {childList: true});\n",
       "}}\n",
       "\n",
       "                        })                };                });            </script>        </div>"
      ]
     },
     "metadata": {},
     "output_type": "display_data"
    }
   ],
   "source": [
    "#Temperaturas máximas absolutas, puede servir\n",
    "\n",
    "# import graph objects as \"go\"\n",
    "import plotly.graph_objs as go\n",
    "\n",
    "\n",
    "# creating trace1\n",
    "trace1 =go.Scatter(\n",
    "                    x = bilbao_anualdf[\"año\"],\n",
    "                    y = bilbao_anualdf[\"ta_max\"],\n",
    "                    mode = \"lines\",\n",
    "                    name = \"T máxima\",\n",
    "                    marker = dict(color = 'green'))\n",
    "# creating trace2\n",
    "# trace2 =go.Scatter(\n",
    "#                     x = bilbao_anualdf[\"año\"],\n",
    "#                     y = bilbao_anualdf[\"ta_min\"],\n",
    "#                     mode = \"markers\",\n",
    "#                     name = \"T mínima\",\n",
    "#                     marker = dict(color = 'rgba(255, 128, 2, 0.8)'),\n",
    "#                     text= bilbao_anualdf[\"año\"])\n",
    "# # creating trace3\n",
    "# trace3 =go.Scatter(\n",
    "#                     x = df2016.world_rank,\n",
    "#                     y = df2016.citations,\n",
    "#                     mode = \"markers\",\n",
    "#                     name = \"2016\",\n",
    "#                     marker = dict(color = 'rgba(0, 255, 200, 0.8)'),\n",
    "#                     text= df2016.university_name)\n",
    "\n",
    "data = [trace1]\n",
    "\n",
    "layout = dict(title = 'Temperaturas máximas absolutas',\n",
    "              xaxis= dict(title= 'Año'),\n",
    "              yaxis= dict(title= 'Temperatura')\n",
    "             )\n",
    "\n",
    "fig2 = dict(data = data, layout = layout)\n",
    "# fig = go.Figure(data = data, layout=layout)\n",
    "iplot(fig2)\n",
    "\n",
    "\n"
   ]
  },
  {
   "cell_type": "code",
   "execution_count": null,
   "metadata": {},
   "outputs": [],
   "source": [
    "import folium # pip install folium\n",
    "from folium import plugins\n",
    "import ipywidgets\n",
    "import geocoder # pip install geocoder\n",
    "import geopy # pip install geopy\n",
    "import numpy as np\n",
    "import pandas as pd\n",
    "from vega_datasets import data as vds # pip install vega_datasets"
   ]
  },
  {
   "cell_type": "code",
   "execution_count": null,
   "metadata": {},
   "outputs": [
    {
     "data": {
      "text/html": [
       "<div style=\"width:100%;\"><div style=\"position:relative;width:100%;height:0;padding-bottom:60%;\"><span style=\"color:#565656\">Make this Notebook Trusted to load map: File -> Trust Notebook</span><iframe srcdoc=\"&lt;!DOCTYPE html&gt;\n",
       "&lt;html&gt;\n",
       "&lt;head&gt;\n",
       "    \n",
       "    &lt;meta http-equiv=&quot;content-type&quot; content=&quot;text/html; charset=UTF-8&quot; /&gt;\n",
       "    \n",
       "        &lt;script&gt;\n",
       "            L_NO_TOUCH = false;\n",
       "            L_DISABLE_3D = false;\n",
       "        &lt;/script&gt;\n",
       "    \n",
       "    &lt;style&gt;html, body {width: 100%;height: 100%;margin: 0;padding: 0;}&lt;/style&gt;\n",
       "    &lt;style&gt;#map {position:absolute;top:0;bottom:0;right:0;left:0;}&lt;/style&gt;\n",
       "    &lt;script src=&quot;https://cdn.jsdelivr.net/npm/leaflet@1.9.3/dist/leaflet.js&quot;&gt;&lt;/script&gt;\n",
       "    &lt;script src=&quot;https://code.jquery.com/jquery-1.12.4.min.js&quot;&gt;&lt;/script&gt;\n",
       "    &lt;script src=&quot;https://cdn.jsdelivr.net/npm/bootstrap@5.2.2/dist/js/bootstrap.bundle.min.js&quot;&gt;&lt;/script&gt;\n",
       "    &lt;script src=&quot;https://cdnjs.cloudflare.com/ajax/libs/Leaflet.awesome-markers/2.0.2/leaflet.awesome-markers.js&quot;&gt;&lt;/script&gt;\n",
       "    &lt;link rel=&quot;stylesheet&quot; href=&quot;https://cdn.jsdelivr.net/npm/leaflet@1.9.3/dist/leaflet.css&quot;/&gt;\n",
       "    &lt;link rel=&quot;stylesheet&quot; href=&quot;https://cdn.jsdelivr.net/npm/bootstrap@5.2.2/dist/css/bootstrap.min.css&quot;/&gt;\n",
       "    &lt;link rel=&quot;stylesheet&quot; href=&quot;https://netdna.bootstrapcdn.com/bootstrap/3.0.0/css/bootstrap.min.css&quot;/&gt;\n",
       "    &lt;link rel=&quot;stylesheet&quot; href=&quot;https://cdn.jsdelivr.net/npm/@fortawesome/fontawesome-free@6.2.0/css/all.min.css&quot;/&gt;\n",
       "    &lt;link rel=&quot;stylesheet&quot; href=&quot;https://cdnjs.cloudflare.com/ajax/libs/Leaflet.awesome-markers/2.0.2/leaflet.awesome-markers.css&quot;/&gt;\n",
       "    &lt;link rel=&quot;stylesheet&quot; href=&quot;https://cdn.jsdelivr.net/gh/python-visualization/folium/folium/templates/leaflet.awesome.rotate.min.css&quot;/&gt;\n",
       "    \n",
       "            &lt;meta name=&quot;viewport&quot; content=&quot;width=device-width,\n",
       "                initial-scale=1.0, maximum-scale=1.0, user-scalable=no&quot; /&gt;\n",
       "            &lt;style&gt;\n",
       "                #map_e736525db96b61a03eb83ec26aec5ad6 {\n",
       "                    position: relative;\n",
       "                    width: 500.0px;\n",
       "                    height: 500.0px;\n",
       "                    left: 0.0%;\n",
       "                    top: 0.0%;\n",
       "                }\n",
       "                .leaflet-container { font-size: 1rem; }\n",
       "            &lt;/style&gt;\n",
       "        \n",
       "&lt;/head&gt;\n",
       "&lt;body&gt;\n",
       "    \n",
       "    \n",
       "            &lt;div class=&quot;folium-map&quot; id=&quot;map_e736525db96b61a03eb83ec26aec5ad6&quot; &gt;&lt;/div&gt;\n",
       "        \n",
       "&lt;/body&gt;\n",
       "&lt;script&gt;\n",
       "    \n",
       "    \n",
       "            var map_e736525db96b61a03eb83ec26aec5ad6 = L.map(\n",
       "                &quot;map_e736525db96b61a03eb83ec26aec5ad6&quot;,\n",
       "                {\n",
       "                    center: [43.25586015575071, -2.922683202155371],\n",
       "                    crs: L.CRS.EPSG3857,\n",
       "                    zoom: 15,\n",
       "                    zoomControl: true,\n",
       "                    preferCanvas: false,\n",
       "                }\n",
       "            );\n",
       "            L.control.scale().addTo(map_e736525db96b61a03eb83ec26aec5ad6);\n",
       "\n",
       "            \n",
       "\n",
       "        \n",
       "    \n",
       "            var tile_layer_b3e1cc64694966cd1dff0375b7bda407 = L.tileLayer(\n",
       "                &quot;https://{s}.tile.openstreetmap.org/{z}/{x}/{y}.png&quot;,\n",
       "                {&quot;attribution&quot;: &quot;Data by \\u0026copy; \\u003ca target=\\&quot;_blank\\&quot; href=\\&quot;http://openstreetmap.org\\&quot;\\u003eOpenStreetMap\\u003c/a\\u003e, under \\u003ca target=\\&quot;_blank\\&quot; href=\\&quot;http://www.openstreetmap.org/copyright\\&quot;\\u003eODbL\\u003c/a\\u003e.&quot;, &quot;detectRetina&quot;: false, &quot;maxNativeZoom&quot;: 18, &quot;maxZoom&quot;: 18, &quot;minZoom&quot;: 0, &quot;noWrap&quot;: false, &quot;opacity&quot;: 1, &quot;subdomains&quot;: &quot;abc&quot;, &quot;tms&quot;: false}\n",
       "            ).addTo(map_e736525db96b61a03eb83ec26aec5ad6);\n",
       "        \n",
       "&lt;/script&gt;\n",
       "&lt;/html&gt;\" style=\"position:absolute;width:100%;height:100%;left:0;top:0;border:none !important;\" allowfullscreen webkitallowfullscreen mozallowfullscreen></iframe></div></div>"
      ],
      "text/plain": [
       "<folium.folium.Map at 0x20f0f3ab190>"
      ]
     },
     "execution_count": 90,
     "metadata": {},
     "output_type": "execute_result"
    }
   ],
   "source": [
    "map1 = folium.Map(location=[43.25586015575071, -2.922683202155371],\n",
    "                 zoom_start=15,\n",
    "                 width=500,\n",
    "                height=500,\n",
    "                 control_scale=True)\n",
    "map1"
   ]
  },
  {
   "cell_type": "code",
   "execution_count": null,
   "metadata": {},
   "outputs": [
    {
     "name": "stdout",
     "output_type": "stream",
     "text": [
      "\u001b[1;31mInit signature:\u001b[0m\n",
      "\u001b[0mfolium\u001b[0m\u001b[1;33m.\u001b[0m\u001b[0mMarker\u001b[0m\u001b[1;33m(\u001b[0m\u001b[1;33m\n",
      "\u001b[0m    \u001b[0mlocation\u001b[0m\u001b[1;33m=\u001b[0m\u001b[1;32mNone\u001b[0m\u001b[1;33m,\u001b[0m\u001b[1;33m\n",
      "\u001b[0m    \u001b[0mpopup\u001b[0m\u001b[1;33m=\u001b[0m\u001b[1;32mNone\u001b[0m\u001b[1;33m,\u001b[0m\u001b[1;33m\n",
      "\u001b[0m    \u001b[0mtooltip\u001b[0m\u001b[1;33m=\u001b[0m\u001b[1;32mNone\u001b[0m\u001b[1;33m,\u001b[0m\u001b[1;33m\n",
      "\u001b[0m    \u001b[0micon\u001b[0m\u001b[1;33m=\u001b[0m\u001b[1;32mNone\u001b[0m\u001b[1;33m,\u001b[0m\u001b[1;33m\n",
      "\u001b[0m    \u001b[0mdraggable\u001b[0m\u001b[1;33m=\u001b[0m\u001b[1;32mFalse\u001b[0m\u001b[1;33m,\u001b[0m\u001b[1;33m\n",
      "\u001b[0m    \u001b[1;33m**\u001b[0m\u001b[0mkwargs\u001b[0m\u001b[1;33m,\u001b[0m\u001b[1;33m\n",
      "\u001b[0m\u001b[1;33m)\u001b[0m\u001b[1;33m\u001b[0m\u001b[1;33m\u001b[0m\u001b[0m\n",
      "\u001b[1;31mDocstring:\u001b[0m     \n",
      "Create a simple stock Leaflet marker on the map, with optional\n",
      "popup text or Vincent visualization.\n",
      "\n",
      "Parameters\n",
      "----------\n",
      "location: tuple or list\n",
      "    Latitude and Longitude of Marker (Northing, Easting)\n",
      "popup: string or folium.Popup, default None\n",
      "    Label for the Marker; either an escaped HTML string to initialize\n",
      "    folium.Popup or a folium.Popup instance.\n",
      "tooltip: str or folium.Tooltip, default None\n",
      "    Display a text when hovering over the object.\n",
      "icon: Icon plugin\n",
      "    the Icon plugin to use to render the marker.\n",
      "draggable: bool, default False\n",
      "    Set to True to be able to drag the marker around the map.\n",
      "\n",
      "Returns\n",
      "-------\n",
      "Marker names and HTML in obj.template_vars\n",
      "\n",
      "Examples\n",
      "--------\n",
      ">>> Marker(location=[45.5, -122.3], popup=\"Portland, OR\")\n",
      ">>> Marker(location=[45.5, -122.3], popup=Popup(\"Portland, OR\"))\n",
      "# If the popup label has characters that need to be escaped in HTML\n",
      ">>> Marker(\n",
      "...     location=[45.5, -122.3],\n",
      "...     popup=Popup(\"Mom & Pop Arrow Shop >>\", parse_html=True),\n",
      "... )\n",
      "\u001b[1;31mFile:\u001b[0m           c:\\users\\alfonso\\appdata\\roaming\\python\\python311\\site-packages\\folium\\map.py\n",
      "\u001b[1;31mType:\u001b[0m           type\n",
      "\u001b[1;31mSubclasses:\u001b[0m     Circle, CircleMarker, RegularPolygonMarker, BoatMarker, SemiCircle"
     ]
    }
   ],
   "source": [
    "folium.Marker?"
   ]
  },
  {
   "cell_type": "code",
   "execution_count": null,
   "metadata": {},
   "outputs": [
    {
     "name": "stdout",
     "output_type": "stream",
     "text": [
      "[43.2630018, -2.9350039]\n",
      "[43.3224219, -1.9838889]\n",
      "[42.8465088, -2.6724025]\n"
     ]
    }
   ],
   "source": [
    "place1 = 'Bilbao'\n",
    "address1 = geocoder.osm(place1)\n",
    "address_latlng1 = [address1.lat, address1.lng]\n",
    "print(address_latlng1)\n",
    "\n",
    "place2 = 'San Sebastian'\n",
    "address2 = geocoder.osm(place2)\n",
    "address_latlng2 = [address2.lat, address2.lng]\n",
    "print(address_latlng2)\n",
    "\n",
    "place3 = 'Vitoria'\n",
    "address3 = geocoder.osm(place3)\n",
    "address_latlng3 = [address3.lat, address3.lng]\n",
    "print(address_latlng3)"
   ]
  },
  {
   "cell_type": "code",
   "execution_count": null,
   "metadata": {},
   "outputs": [
    {
     "name": "stdout",
     "output_type": "stream",
     "text": [
      "('Bilbao', [43.2630018, -2.9350039])\n",
      "('San Sebastian', [43.3224219, -1.9838889])\n",
      "('Vitoria', [42.8465088, -2.6724025])\n"
     ]
    },
    {
     "data": {
      "text/html": [
       "<div style=\"width:100%;\"><div style=\"position:relative;width:100%;height:0;padding-bottom:60%;\"><span style=\"color:#565656\">Make this Notebook Trusted to load map: File -> Trust Notebook</span><iframe srcdoc=\"&lt;!DOCTYPE html&gt;\n",
       "&lt;html&gt;\n",
       "&lt;head&gt;\n",
       "    \n",
       "    &lt;meta http-equiv=&quot;content-type&quot; content=&quot;text/html; charset=UTF-8&quot; /&gt;\n",
       "    \n",
       "        &lt;script&gt;\n",
       "            L_NO_TOUCH = false;\n",
       "            L_DISABLE_3D = false;\n",
       "        &lt;/script&gt;\n",
       "    \n",
       "    &lt;style&gt;html, body {width: 100%;height: 100%;margin: 0;padding: 0;}&lt;/style&gt;\n",
       "    &lt;style&gt;#map {position:absolute;top:0;bottom:0;right:0;left:0;}&lt;/style&gt;\n",
       "    &lt;script src=&quot;https://cdn.jsdelivr.net/npm/leaflet@1.9.3/dist/leaflet.js&quot;&gt;&lt;/script&gt;\n",
       "    &lt;script src=&quot;https://code.jquery.com/jquery-1.12.4.min.js&quot;&gt;&lt;/script&gt;\n",
       "    &lt;script src=&quot;https://cdn.jsdelivr.net/npm/bootstrap@5.2.2/dist/js/bootstrap.bundle.min.js&quot;&gt;&lt;/script&gt;\n",
       "    &lt;script src=&quot;https://cdnjs.cloudflare.com/ajax/libs/Leaflet.awesome-markers/2.0.2/leaflet.awesome-markers.js&quot;&gt;&lt;/script&gt;\n",
       "    &lt;link rel=&quot;stylesheet&quot; href=&quot;https://cdn.jsdelivr.net/npm/leaflet@1.9.3/dist/leaflet.css&quot;/&gt;\n",
       "    &lt;link rel=&quot;stylesheet&quot; href=&quot;https://cdn.jsdelivr.net/npm/bootstrap@5.2.2/dist/css/bootstrap.min.css&quot;/&gt;\n",
       "    &lt;link rel=&quot;stylesheet&quot; href=&quot;https://netdna.bootstrapcdn.com/bootstrap/3.0.0/css/bootstrap.min.css&quot;/&gt;\n",
       "    &lt;link rel=&quot;stylesheet&quot; href=&quot;https://cdn.jsdelivr.net/npm/@fortawesome/fontawesome-free@6.2.0/css/all.min.css&quot;/&gt;\n",
       "    &lt;link rel=&quot;stylesheet&quot; href=&quot;https://cdnjs.cloudflare.com/ajax/libs/Leaflet.awesome-markers/2.0.2/leaflet.awesome-markers.css&quot;/&gt;\n",
       "    &lt;link rel=&quot;stylesheet&quot; href=&quot;https://cdn.jsdelivr.net/gh/python-visualization/folium/folium/templates/leaflet.awesome.rotate.min.css&quot;/&gt;\n",
       "    \n",
       "            &lt;meta name=&quot;viewport&quot; content=&quot;width=device-width,\n",
       "                initial-scale=1.0, maximum-scale=1.0, user-scalable=no&quot; /&gt;\n",
       "            &lt;style&gt;\n",
       "                #map_5feab7e1097c23a9d89e980357578b43 {\n",
       "                    position: relative;\n",
       "                    width: 100.0%;\n",
       "                    height: 100.0%;\n",
       "                    left: 0.0%;\n",
       "                    top: 0.0%;\n",
       "                }\n",
       "                .leaflet-container { font-size: 1rem; }\n",
       "            &lt;/style&gt;\n",
       "        \n",
       "&lt;/head&gt;\n",
       "&lt;body&gt;\n",
       "    \n",
       "    \n",
       "            &lt;div class=&quot;folium-map&quot; id=&quot;map_5feab7e1097c23a9d89e980357578b43&quot; &gt;&lt;/div&gt;\n",
       "        \n",
       "&lt;/body&gt;\n",
       "&lt;script&gt;\n",
       "    \n",
       "    \n",
       "            var map_5feab7e1097c23a9d89e980357578b43 = L.map(\n",
       "                &quot;map_5feab7e1097c23a9d89e980357578b43&quot;,\n",
       "                {\n",
       "                    center: [43.1, -2.4],\n",
       "                    crs: L.CRS.EPSG3857,\n",
       "                    zoom: 9.3,\n",
       "                    zoomControl: true,\n",
       "                    preferCanvas: false,\n",
       "                }\n",
       "            );\n",
       "\n",
       "            \n",
       "\n",
       "        \n",
       "    \n",
       "            var tile_layer_fbd125f864812824aeaa4d93f78b7096 = L.tileLayer(\n",
       "                &quot;https://{s}.tile.openstreetmap.org/{z}/{x}/{y}.png&quot;,\n",
       "                {&quot;attribution&quot;: &quot;Data by \\u0026copy; \\u003ca target=\\&quot;_blank\\&quot; href=\\&quot;http://openstreetmap.org\\&quot;\\u003eOpenStreetMap\\u003c/a\\u003e, under \\u003ca target=\\&quot;_blank\\&quot; href=\\&quot;http://www.openstreetmap.org/copyright\\&quot;\\u003eODbL\\u003c/a\\u003e.&quot;, &quot;detectRetina&quot;: false, &quot;maxNativeZoom&quot;: 18, &quot;maxZoom&quot;: 18, &quot;minZoom&quot;: 0, &quot;noWrap&quot;: false, &quot;opacity&quot;: 1, &quot;subdomains&quot;: &quot;abc&quot;, &quot;tms&quot;: false}\n",
       "            ).addTo(map_5feab7e1097c23a9d89e980357578b43);\n",
       "        \n",
       "    \n",
       "            var marker_fac0a6c5b52f64f669d0c5abce9f189f = L.marker(\n",
       "                [43.2630018, -2.9350039],\n",
       "                {}\n",
       "            ).addTo(map_5feab7e1097c23a9d89e980357578b43);\n",
       "        \n",
       "    \n",
       "        var popup_763d2f5e5aa7a86d88d23165f2eb370f = L.popup({&quot;maxWidth&quot;: &quot;100%&quot;});\n",
       "\n",
       "        \n",
       "            \n",
       "                var html_390d048b8678eef5168777c0e5cc09d3 = $(`&lt;div id=&quot;html_390d048b8678eef5168777c0e5cc09d3&quot; style=&quot;width: 100.0%; height: 100.0%;&quot;&gt;Bilbao&lt;/div&gt;`)[0];\n",
       "                popup_763d2f5e5aa7a86d88d23165f2eb370f.setContent(html_390d048b8678eef5168777c0e5cc09d3);\n",
       "            \n",
       "        \n",
       "\n",
       "        marker_fac0a6c5b52f64f669d0c5abce9f189f.bindPopup(popup_763d2f5e5aa7a86d88d23165f2eb370f)\n",
       "        ;\n",
       "\n",
       "        \n",
       "    \n",
       "    \n",
       "            var marker_a2f74f934f500337230409325e8153f7 = L.marker(\n",
       "                [43.3224219, -1.9838889],\n",
       "                {}\n",
       "            ).addTo(map_5feab7e1097c23a9d89e980357578b43);\n",
       "        \n",
       "    \n",
       "        var popup_9088486254b846989ca68e0c5b297351 = L.popup({&quot;maxWidth&quot;: &quot;100%&quot;});\n",
       "\n",
       "        \n",
       "            \n",
       "                var html_03bc31b7ff4c20e2b1806bdd87708ce3 = $(`&lt;div id=&quot;html_03bc31b7ff4c20e2b1806bdd87708ce3&quot; style=&quot;width: 100.0%; height: 100.0%;&quot;&gt;San Sebastian&lt;/div&gt;`)[0];\n",
       "                popup_9088486254b846989ca68e0c5b297351.setContent(html_03bc31b7ff4c20e2b1806bdd87708ce3);\n",
       "            \n",
       "        \n",
       "\n",
       "        marker_a2f74f934f500337230409325e8153f7.bindPopup(popup_9088486254b846989ca68e0c5b297351)\n",
       "        ;\n",
       "\n",
       "        \n",
       "    \n",
       "    \n",
       "            var marker_8ca1efd68a8c5377b14cda5e9aae32bc = L.marker(\n",
       "                [42.8465088, -2.6724025],\n",
       "                {}\n",
       "            ).addTo(map_5feab7e1097c23a9d89e980357578b43);\n",
       "        \n",
       "    \n",
       "        var popup_58e1927399e5db49452b09504d4f1e04 = L.popup({&quot;maxWidth&quot;: &quot;100%&quot;});\n",
       "\n",
       "        \n",
       "            \n",
       "                var html_5abf28b9ff3c8fe59df342291e9fe857 = $(`&lt;div id=&quot;html_5abf28b9ff3c8fe59df342291e9fe857&quot; style=&quot;width: 100.0%; height: 100.0%;&quot;&gt;Vitoria&lt;/div&gt;`)[0];\n",
       "                popup_58e1927399e5db49452b09504d4f1e04.setContent(html_5abf28b9ff3c8fe59df342291e9fe857);\n",
       "            \n",
       "        \n",
       "\n",
       "        marker_8ca1efd68a8c5377b14cda5e9aae32bc.bindPopup(popup_58e1927399e5db49452b09504d4f1e04)\n",
       "        ;\n",
       "\n",
       "        \n",
       "    \n",
       "&lt;/script&gt;\n",
       "&lt;/html&gt;\" style=\"position:absolute;width:100%;height:100%;left:0;top:0;border:none !important;\" allowfullscreen webkitallowfullscreen mozallowfullscreen></iframe></div></div>"
      ],
      "text/plain": [
       "<folium.folium.Map at 0x20f0f3d3ed0>"
      ]
     },
     "execution_count": 119,
     "metadata": {},
     "output_type": "execute_result"
    }
   ],
   "source": [
    "markers_dict = {'Bilbao': address_latlng1, \n",
    "                'San Sebastian': address_latlng2, \n",
    "                'Vitoria': address_latlng3}\n",
    "\n",
    "# create map\n",
    "map_cities = folium.Map(location=[43.1, -2.4], zoom_start=9.3)\n",
    "\n",
    "# plot locations\n",
    "for i in markers_dict.items():\n",
    "    folium.Marker(location=i[1], popup=i[0]).add_to(map_cities)\n",
    "    print(i)\n",
    "\n",
    "# display map    \n",
    "map_cities\n",
    "\n",
    "\n",
    "\n",
    "# import io\n",
    "# from PIL import Image\n",
    "\n",
    "# img_data = m._to_png(5)\n",
    "# img = Image.open(io.BytesIO(img_data))\n",
    "# img.save('image.png')"
   ]
  },
  {
   "cell_type": "code",
   "execution_count": null,
   "metadata": {},
   "outputs": [],
   "source": [
    "bilbao_cada10 = bilbao_df.loc[bilbao_df[\"año\"].isin([1970, 1980,1990,2000,2010,2022])]\n",
    "bilbao_cada10.head()"
   ]
  },
  {
   "cell_type": "code",
   "execution_count": null,
   "metadata": {},
   "outputs": [],
   "source": [
    "donosti_cada10 = donosti_df.loc[donosti_df[\"año\"].isin([1970, 1980,1990,2000,2010,2022])]\n",
    "donosti_cada10.head()"
   ]
  },
  {
   "cell_type": "code",
   "execution_count": null,
   "metadata": {},
   "outputs": [],
   "source": [
    "vitoria_cada10 = vitoria_df.loc[vitoria_df[\"año\"].isin([1970,1980,1990,2000,2010,2022])]\n",
    "vitoria_cada10.head()"
   ]
  },
  {
   "cell_type": "code",
   "execution_count": null,
   "metadata": {},
   "outputs": [],
   "source": [
    "#Gráfica temperatura media vs. mes\n",
    "\n",
    "plt.figure(figsize=(8,6))\n",
    "graf1=sns.lineplot(data=bilbao_cada10, x='mes', y='tm_mes', hue='año', palette=\"light:b\")\n",
    "sns.color_palette(\"light:b\", as_cmap=True)\n",
    "\n",
    "plt.xlim(1,12)\n",
    "graf1.set(xlabel= \"Mes\", ylabel = \"Temperatura media anual(ºC)\")"
   ]
  },
  {
   "cell_type": "code",
   "execution_count": null,
   "metadata": {},
   "outputs": [],
   "source": [
    "#Gráfica temperatura media vs. mes\n",
    "\n",
    "plt.figure(figsize=(8,6))\n",
    "graf1=sns.lineplot(data=vitoria_cada10, x='mes', y='tm_mes', hue='año', palette=\"light:b\")\n",
    "sns.color_palette(\"light:b\", as_cmap=True)\n",
    "plt.xlim(1,12)\n",
    "graf1.set(xlabel= \"Mes\", ylabel = \"Temperatura media anual(ºC)\")"
   ]
  },
  {
   "cell_type": "code",
   "execution_count": null,
   "metadata": {},
   "outputs": [],
   "source": [
    "#Gráfica temperatura media vs. mes\n",
    "\n",
    "plt.figure(figsize=(8,6))\n",
    "graf1=sns.lineplot(data=donosti_cada10, x='mes', y='tm_mes', hue='año', palette=\"light:b\")\n",
    "sns.color_palette(\"light:b\", as_cmap=True)\n",
    "plt.xlim(1,12)\n",
    "graf1.set(xlabel= \"Mes\", ylabel = \"Temperatura media anual(ºC)\")"
   ]
  }
 ],
 "metadata": {
  "kernelspec": {
   "display_name": "Python 3",
   "language": "python",
   "name": "python3"
  },
  "language_info": {
   "codemirror_mode": {
    "name": "ipython",
    "version": 3
   },
   "file_extension": ".py",
   "mimetype": "text/x-python",
   "name": "python",
   "nbconvert_exporter": "python",
   "pygments_lexer": "ipython3",
   "version": "3.11.3"
  },
  "orig_nbformat": 4
 },
 "nbformat": 4,
 "nbformat_minor": 2
}
