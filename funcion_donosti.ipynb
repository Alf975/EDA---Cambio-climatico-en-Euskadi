{
 "cells": [
  {
   "cell_type": "code",
   "execution_count": 2,
   "metadata": {},
   "outputs": [],
   "source": [
    "import requests\n",
    "import pandas as pd\n",
    "import os\n",
    "\n",
    "#Estación 1024E - Donostia/San Sebastian - Igueldo"
   ]
  },
  {
   "cell_type": "code",
   "execution_count": 5,
   "metadata": {},
   "outputs": [],
   "source": [
    "#Función para hacer dataframes\n",
    "direccion=\"https://opendata.aemet.es/opendata/sh/7955adfe\"\n",
    "\n",
    "def hacer_dataframe(info):\n",
    "        response = requests.get(info)\n",
    "        data = response.json()\n",
    "        df_inicial = pd.DataFrame(data)\n",
    "        df_filtrado = pd.DataFrame(df_inicial[[\"fecha\", \"tm_mes\", \"tm_max\", \"tm_min\", \"ta_max\", \"ta_min\", \"ti_max\", \"ts_min\", \"p_mes\",\"np_300\", \"nt_30\", \"inso\"]])\n",
    "        return df_filtrado\n",
    "\n",
    "df_1970 = pd.DataFrame(hacer_dataframe(direccion))\n",
    "\n",
    "df_1970.to_csv('donosti_csv/datos1970.csv', index=False)"
   ]
  },
  {
   "cell_type": "code",
   "execution_count": 6,
   "metadata": {},
   "outputs": [],
   "source": [
    "#Función para hacer dataframes\n",
    "direccion=\"https://opendata.aemet.es/opendata/sh/fc6da4eb\"\n",
    "\n",
    "def hacer_dataframe(info):\n",
    "        response = requests.get(info)\n",
    "        data = response.json()\n",
    "        df_inicial = pd.DataFrame(data)\n",
    "        df_filtrado = pd.DataFrame(df_inicial[[\"fecha\", \"tm_mes\", \"tm_max\", \"tm_min\", \"ta_max\", \"ta_min\", \"ti_max\", \"ts_min\", \"p_mes\",\"np_300\", \"nt_30\", \"inso\"]])\n",
    "        return df_filtrado\n",
    "\n",
    "df_1973 = pd.DataFrame(hacer_dataframe(direccion))\n",
    "\n",
    "df_1973.to_csv('donosti_csv/datos1973.csv', index=False)"
   ]
  },
  {
   "cell_type": "code",
   "execution_count": 7,
   "metadata": {},
   "outputs": [],
   "source": [
    "#Función para hacer dataframes\n",
    "direccion=\"https://opendata.aemet.es/opendata/sh/ffcc73f8\"\n",
    "\n",
    "def hacer_dataframe(info):\n",
    "        response = requests.get(info)\n",
    "        data = response.json()\n",
    "        df_inicial = pd.DataFrame(data)\n",
    "        df_filtrado = pd.DataFrame(df_inicial[[\"fecha\", \"tm_mes\", \"tm_max\", \"tm_min\", \"ta_max\", \"ta_min\", \"ti_max\", \"ts_min\", \"p_mes\",\"np_300\", \"nt_30\", \"inso\"]])\n",
    "        return df_filtrado\n",
    "\n",
    "df_1976 = pd.DataFrame(hacer_dataframe(direccion))\n",
    "\n",
    "df_1976.to_csv('donosti_csv/datos1976.csv', index=False)"
   ]
  },
  {
   "cell_type": "code",
   "execution_count": 8,
   "metadata": {},
   "outputs": [],
   "source": [
    "#Función para hacer dataframes\n",
    "direccion=\"https://opendata.aemet.es/opendata/sh/c55ba29d\"\n",
    "\n",
    "def hacer_dataframe(info):\n",
    "        response = requests.get(info)\n",
    "        data = response.json()\n",
    "        df_inicial = pd.DataFrame(data)\n",
    "        df_filtrado = pd.DataFrame(df_inicial[[\"fecha\", \"tm_mes\", \"tm_max\", \"tm_min\", \"ta_max\", \"ta_min\", \"ti_max\", \"ts_min\", \"p_mes\",\"np_300\", \"nt_30\", \"inso\"]])\n",
    "        return df_filtrado\n",
    "\n",
    "df_1979 = pd.DataFrame(hacer_dataframe(direccion))\n",
    "\n",
    "df_1979.to_csv('donosti_csv/datos1979.csv', index=False)"
   ]
  },
  {
   "cell_type": "code",
   "execution_count": 9,
   "metadata": {},
   "outputs": [],
   "source": [
    "#Función para hacer dataframes\n",
    "direccion=\"https://opendata.aemet.es/opendata/sh/8a013679\"\n",
    "\n",
    "def hacer_dataframe(info):\n",
    "        response = requests.get(info)\n",
    "        data = response.json()\n",
    "        df_inicial = pd.DataFrame(data)\n",
    "        df_filtrado = pd.DataFrame(df_inicial[[\"fecha\", \"tm_mes\", \"tm_max\", \"tm_min\", \"ta_max\", \"ta_min\", \"ti_max\", \"ts_min\", \"p_mes\",\"np_300\", \"nt_30\", \"inso\"]])\n",
    "        return df_filtrado\n",
    "\n",
    "df_1982 = pd.DataFrame(hacer_dataframe(direccion))\n",
    "\n",
    "df_1982.to_csv('donosti_csv/datos1982.csv', index=False)"
   ]
  },
  {
   "cell_type": "code",
   "execution_count": 10,
   "metadata": {},
   "outputs": [],
   "source": [
    "#Función para hacer dataframes\n",
    "direccion=\"https://opendata.aemet.es/opendata/sh/e9ee750e\"\n",
    "\n",
    "def hacer_dataframe(info):\n",
    "        response = requests.get(info)\n",
    "        data = response.json()\n",
    "        df_inicial = pd.DataFrame(data)\n",
    "        df_filtrado = pd.DataFrame(df_inicial[[\"fecha\", \"tm_mes\", \"tm_max\", \"tm_min\", \"ta_max\", \"ta_min\", \"ti_max\", \"ts_min\", \"p_mes\",\"np_300\", \"nt_30\", \"inso\"]])\n",
    "        return df_filtrado\n",
    "\n",
    "df_1986 = pd.DataFrame(hacer_dataframe(direccion))\n",
    "\n",
    "df_1986.to_csv('donosti_csv/datos1986.csv', index=False)"
   ]
  },
  {
   "cell_type": "code",
   "execution_count": 11,
   "metadata": {},
   "outputs": [],
   "source": [
    "#Función para hacer dataframes\n",
    "direccion=\"https://opendata.aemet.es/opendata/sh/976d3921\"\n",
    "\n",
    "def hacer_dataframe(info):\n",
    "        response = requests.get(info)\n",
    "        data = response.json()\n",
    "        df_inicial = pd.DataFrame(data)\n",
    "        df_filtrado = pd.DataFrame(df_inicial[[\"fecha\", \"tm_mes\", \"tm_max\", \"tm_min\", \"ta_max\", \"ta_min\", \"ti_max\", \"ts_min\", \"p_mes\",\"np_300\", \"nt_30\", \"inso\"]])\n",
    "        return df_filtrado\n",
    "\n",
    "df_1988 = pd.DataFrame(hacer_dataframe(direccion))\n",
    "\n",
    "df_1988.to_csv('donosti_csv/datos1988.csv', index=False)"
   ]
  },
  {
   "cell_type": "code",
   "execution_count": 12,
   "metadata": {},
   "outputs": [],
   "source": [
    "#Función para hacer dataframes\n",
    "direccion=\"https://opendata.aemet.es/opendata/sh/dd601c45\"\n",
    "\n",
    "def hacer_dataframe(info):\n",
    "        response = requests.get(info)\n",
    "        data = response.json()\n",
    "        df_inicial = pd.DataFrame(data)\n",
    "        df_filtrado = pd.DataFrame(df_inicial[[\"fecha\", \"tm_mes\", \"tm_max\", \"tm_min\", \"ta_max\", \"ta_min\", \"ti_max\", \"ts_min\", \"p_mes\",\"np_300\", \"nt_30\", \"inso\"]])\n",
    "        return df_filtrado\n",
    "\n",
    "df_1991 = pd.DataFrame(hacer_dataframe(direccion))\n",
    "\n",
    "df_1991.to_csv('donosti_csv/datos1991.csv', index=False)"
   ]
  },
  {
   "cell_type": "code",
   "execution_count": 13,
   "metadata": {},
   "outputs": [],
   "source": [
    "#Función para hacer dataframes\n",
    "direccion=\"https://opendata.aemet.es/opendata/sh/98c11766\"\n",
    "\n",
    "def hacer_dataframe(info):\n",
    "        response = requests.get(info)\n",
    "        data = response.json()\n",
    "        df_inicial = pd.DataFrame(data)\n",
    "        df_filtrado = pd.DataFrame(df_inicial[[\"fecha\", \"tm_mes\", \"tm_max\", \"tm_min\", \"ta_max\", \"ta_min\", \"ti_max\", \"ts_min\", \"p_mes\",\"np_300\", \"nt_30\", \"inso\"]])\n",
    "        return df_filtrado\n",
    "\n",
    "df_1994 = pd.DataFrame(hacer_dataframe(direccion))\n",
    "\n",
    "df_1994.to_csv('donosti_csv/datos1994.csv', index=False)"
   ]
  },
  {
   "cell_type": "code",
   "execution_count": 14,
   "metadata": {},
   "outputs": [],
   "source": [
    "#Función para hacer dataframes\n",
    "direccion=\"https://opendata.aemet.es/opendata/sh/9b228d2e\"\n",
    "\n",
    "def hacer_dataframe(info):\n",
    "        response = requests.get(info)\n",
    "        data = response.json()\n",
    "        df_inicial = pd.DataFrame(data)\n",
    "        df_filtrado = pd.DataFrame(df_inicial[[\"fecha\", \"tm_mes\", \"tm_max\", \"tm_min\", \"ta_max\", \"ta_min\", \"ti_max\", \"ts_min\", \"p_mes\",\"np_300\", \"nt_30\", \"inso\"]])\n",
    "        return df_filtrado\n",
    "\n",
    "df_1997 = pd.DataFrame(hacer_dataframe(direccion))\n",
    "\n",
    "df_1997.to_csv('donosti_csv/datos1997.csv', index=False)"
   ]
  },
  {
   "cell_type": "code",
   "execution_count": 15,
   "metadata": {},
   "outputs": [],
   "source": [
    "#Función para hacer dataframes\n",
    "direccion=\"https://opendata.aemet.es/opendata/sh/933d55ba\"\n",
    "\n",
    "def hacer_dataframe(info):\n",
    "        response = requests.get(info)\n",
    "        data = response.json()\n",
    "        df_inicial = pd.DataFrame(data)\n",
    "        df_filtrado = pd.DataFrame(df_inicial[[\"fecha\", \"tm_mes\", \"tm_max\", \"tm_min\", \"ta_max\", \"ta_min\", \"ti_max\", \"ts_min\", \"p_mes\",\"np_300\", \"nt_30\", \"inso\"]])\n",
    "        return df_filtrado\n",
    "\n",
    "df_2000 = pd.DataFrame(hacer_dataframe(direccion))\n",
    "\n",
    "df_2000.to_csv('donosti_csv/datos2000.csv', index=False)"
   ]
  },
  {
   "cell_type": "code",
   "execution_count": 16,
   "metadata": {},
   "outputs": [],
   "source": [
    "#Función para hacer dataframes\n",
    "direccion=\"https://opendata.aemet.es/opendata/sh/1a19fd36\"\n",
    "\n",
    "def hacer_dataframe(info):\n",
    "        response = requests.get(info)\n",
    "        data = response.json()\n",
    "        df_inicial = pd.DataFrame(data)\n",
    "        df_filtrado = pd.DataFrame(df_inicial[[\"fecha\", \"tm_mes\", \"tm_max\", \"tm_min\", \"ta_max\", \"ta_min\", \"ti_max\", \"ts_min\", \"p_mes\",\"np_300\", \"nt_30\", \"inso\"]])\n",
    "        return df_filtrado\n",
    "\n",
    "df_2003 = pd.DataFrame(hacer_dataframe(direccion))\n",
    "\n",
    "df_2003.to_csv('donosti_csv/datos2003.csv', index=False)"
   ]
  },
  {
   "cell_type": "code",
   "execution_count": 17,
   "metadata": {},
   "outputs": [],
   "source": [
    "#Función para hacer dataframes\n",
    "direccion=\"https://opendata.aemet.es/opendata/sh/d34ac949\"\n",
    "\n",
    "def hacer_dataframe(info):\n",
    "        response = requests.get(info)\n",
    "        data = response.json()\n",
    "        df_inicial = pd.DataFrame(data)\n",
    "        df_filtrado = pd.DataFrame(df_inicial[[\"fecha\", \"tm_mes\", \"tm_max\", \"tm_min\", \"ta_max\", \"ta_min\", \"ti_max\", \"ts_min\", \"p_mes\",\"np_300\", \"nt_30\", \"inso\"]])\n",
    "        return df_filtrado\n",
    "\n",
    "df_2006 = pd.DataFrame(hacer_dataframe(direccion))\n",
    "\n",
    "df_2006.to_csv('donosti_csv/datos2006.csv', index=False)"
   ]
  },
  {
   "cell_type": "code",
   "execution_count": 18,
   "metadata": {},
   "outputs": [],
   "source": [
    "#Función para hacer dataframes\n",
    "direccion=\"https://opendata.aemet.es/opendata/sh/a5a42858\"\n",
    "\n",
    "def hacer_dataframe(info):\n",
    "        response = requests.get(info)\n",
    "        data = response.json()\n",
    "        df_inicial = pd.DataFrame(data)\n",
    "        df_filtrado = pd.DataFrame(df_inicial[[\"fecha\", \"tm_mes\", \"tm_max\", \"tm_min\", \"ta_max\", \"ta_min\", \"ti_max\", \"ts_min\", \"p_mes\",\"np_300\", \"nt_30\", \"inso\"]])\n",
    "        return df_filtrado\n",
    "\n",
    "df_2009 = pd.DataFrame(hacer_dataframe(direccion))\n",
    "\n",
    "df_2009.to_csv('donosti_csv/datos2009.csv', index=False)"
   ]
  },
  {
   "cell_type": "code",
   "execution_count": 19,
   "metadata": {},
   "outputs": [],
   "source": [
    "#Función para hacer dataframes\n",
    "direccion=\"https://opendata.aemet.es/opendata/sh/26959dee\"\n",
    "\n",
    "def hacer_dataframe(info):\n",
    "        response = requests.get(info)\n",
    "        data = response.json()\n",
    "        df_inicial = pd.DataFrame(data)\n",
    "        df_filtrado = pd.DataFrame(df_inicial[[\"fecha\", \"tm_mes\", \"tm_max\", \"tm_min\", \"ta_max\", \"ta_min\", \"ti_max\", \"ts_min\", \"p_mes\",\"np_300\", \"nt_30\", \"inso\"]])\n",
    "        return df_filtrado\n",
    "\n",
    "df_2012 = pd.DataFrame(hacer_dataframe(direccion))\n",
    "\n",
    "df_2012.to_csv('donosti_csv/datos2012.csv', index=False)"
   ]
  },
  {
   "cell_type": "code",
   "execution_count": 20,
   "metadata": {},
   "outputs": [],
   "source": [
    "#Función para hacer dataframes\n",
    "direccion=\"https://opendata.aemet.es/opendata/sh/e8fc27ef\"\n",
    "\n",
    "def hacer_dataframe(info):\n",
    "        response = requests.get(info)\n",
    "        data = response.json()\n",
    "        df_inicial = pd.DataFrame(data)\n",
    "        df_filtrado = pd.DataFrame(df_inicial[[\"fecha\", \"tm_mes\", \"tm_max\", \"tm_min\", \"ta_max\", \"ta_min\", \"ti_max\", \"ts_min\", \"p_mes\",\"np_300\", \"nt_30\", \"inso\"]])\n",
    "        return df_filtrado\n",
    "\n",
    "df_2015 = pd.DataFrame(hacer_dataframe(direccion))\n",
    "\n",
    "df_2015.to_csv('donosti_csv/datos2015.csv', index=False)"
   ]
  },
  {
   "cell_type": "code",
   "execution_count": 21,
   "metadata": {},
   "outputs": [],
   "source": [
    "#Función para hacer dataframes\n",
    "direccion=\"https://opendata.aemet.es/opendata/sh/7a919ca4\"\n",
    "\n",
    "def hacer_dataframe(info):\n",
    "        response = requests.get(info)\n",
    "        data = response.json()\n",
    "        df_inicial = pd.DataFrame(data)\n",
    "        df_filtrado = pd.DataFrame(df_inicial[[\"fecha\", \"tm_mes\", \"tm_max\", \"tm_min\", \"ta_max\", \"ta_min\", \"ti_max\", \"ts_min\", \"p_mes\",\"np_300\", \"nt_30\", \"inso\"]])\n",
    "        return df_filtrado\n",
    "\n",
    "df_2018 = pd.DataFrame(hacer_dataframe(direccion))\n",
    "\n",
    "df_2018.to_csv('donosti_csv/datos2018.csv', index=False)"
   ]
  },
  {
   "cell_type": "code",
   "execution_count": 22,
   "metadata": {},
   "outputs": [],
   "source": [
    "#Función para hacer dataframes\n",
    "direccion=\"https://opendata.aemet.es/opendata/sh/59c763c3\"\n",
    "\n",
    "def hacer_dataframe(info):\n",
    "        response = requests.get(info)\n",
    "        data = response.json()\n",
    "        df_inicial = pd.DataFrame(data)\n",
    "        df_filtrado = pd.DataFrame(df_inicial[[\"fecha\", \"tm_mes\", \"tm_max\", \"tm_min\", \"ta_max\", \"ta_min\", \"ti_max\", \"ts_min\", \"p_mes\",\"np_300\", \"nt_30\", \"inso\"]])\n",
    "        return df_filtrado\n",
    "\n",
    "df_2021 = pd.DataFrame(hacer_dataframe(direccion))\n",
    "\n",
    "df_2021.to_csv('donosti_csv/datos2021.csv', index=False)"
   ]
  },
  {
   "cell_type": "code",
   "execution_count": 23,
   "metadata": {},
   "outputs": [],
   "source": [
    "\n",
    "#Funcion para importar csv y concatenar dataframes.\n",
    "def importar_concatenar(path):\n",
    "    df_concatenado = pd.DataFrame()  # Inicializar DataFrame vacío\n",
    "    files = os.listdir(path)\n",
    "    for file in files:\n",
    "        file_path = os.path.join(path, file)\n",
    "        if os.path.isfile(file_path) and file.endswith('.csv'):\n",
    "            df = pd.read_csv(file_path)\n",
    "            df_concatenado = pd.concat([df_concatenado, df], ignore_index=True)\n",
    "    return df_concatenado\n",
    "\n",
    "folder_path = \"donosti_csv/\"\n",
    "df_final = importar_concatenar(folder_path)\n",
    "df_final\n",
    "df_final.to_csv('donosti_csv/datos_donosti.csv', index=False)"
   ]
  }
 ],
 "metadata": {
  "kernelspec": {
   "display_name": "Python 3",
   "language": "python",
   "name": "python3"
  },
  "language_info": {
   "codemirror_mode": {
    "name": "ipython",
    "version": 3
   },
   "file_extension": ".py",
   "mimetype": "text/x-python",
   "name": "python",
   "nbconvert_exporter": "python",
   "pygments_lexer": "ipython3",
   "version": "3.11.3"
  },
  "orig_nbformat": 4
 },
 "nbformat": 4,
 "nbformat_minor": 2
}
